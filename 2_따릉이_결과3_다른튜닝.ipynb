{
  "nbformat": 4,
  "nbformat_minor": 0,
  "metadata": {
    "colab": {
      "name": "2_따릉이_결과3_다른튜닝.ipynb",
      "provenance": [],
      "collapsed_sections": []
    },
    "kernelspec": {
      "name": "python3",
      "display_name": "Python 3"
    },
    "language_info": {
      "name": "python"
    }
  },
  "cells": [
    {
      "cell_type": "code",
      "execution_count": 1,
      "metadata": {
        "colab": {
          "base_uri": "https://localhost:8080/"
        },
        "id": "b3cb436glH3D",
        "outputId": "28a82e02-c92c-4f43-84ed-683b09cae34b"
      },
      "outputs": [
        {
          "output_type": "stream",
          "name": "stdout",
          "text": [
            "Reading package lists... Done\n",
            "Building dependency tree       \n",
            "Reading state information... Done\n",
            "fonts-nanum is already the newest version (20170925-1).\n",
            "The following package was automatically installed and is no longer required:\n",
            "  libnvidia-common-460\n",
            "Use 'sudo apt autoremove' to remove it.\n",
            "0 upgraded, 0 newly installed, 0 to remove and 49 not upgraded.\n",
            "fc-cache: invalid option -- ']'\n",
            "usage: fc-cache [-EfrsvVh] [-y SYSROOT] [--error-on-no-fonts] [--force|--really-force] [--sysroot=SYSROOT] [--system-only] [--verbose] [--version] [--help] [dirs]\n",
            "Build font information caches in [dirs]\n",
            "(all directories in font configuration by default).\n",
            "\n",
            "  -E, --error-on-no-fonts  raise an error if no fonts in a directory\n",
            "  -f, --force              scan directories with apparently valid caches\n",
            "  -r, --really-force       erase all existing caches, then rescan\n",
            "  -s, --system-only        scan system-wide directories only\n",
            "  -y, --sysroot=SYSROOT    prepend SYSROOT to all paths for scanning\n",
            "  -v, --verbose            display status information while busy\n",
            "  -V, --version            display font config version and exit\n",
            "  -h, --help               display this help and exit\n"
          ]
        }
      ],
      "source": [
        "!sudo apt-get install -y fonts-nanum\n",
        "!sudo fc-cache -fv]\n",
        "!rm ~/.cache/matplotlib -rf"
      ]
    },
    {
      "cell_type": "code",
      "source": [
        "# 드라이브 사용 설정\n",
        "from google.colab import drive\n",
        "drive.mount('/content/drive')"
      ],
      "metadata": {
        "colab": {
          "base_uri": "https://localhost:8080/"
        },
        "id": "UiRZl1ihwvhM",
        "outputId": "86bf1462-1531-4709-b5d0-a8d68ce82fd5"
      },
      "execution_count": 2,
      "outputs": [
        {
          "output_type": "stream",
          "name": "stdout",
          "text": [
            "Drive already mounted at /content/drive; to attempt to forcibly remount, call drive.mount(\"/content/drive\", force_remount=True).\n"
          ]
        }
      ]
    },
    {
      "cell_type": "markdown",
      "source": [
        "# 1. 데이터 살펴보기\n",
        "\n",
        "train.csv : 모델을 학습하는 데 사용하는 데이터  \n",
        "test.csv : 모델을 통하여 따릉이 대여량을 예측하는 데 사용하는 데이터  \n",
        "sample_submission.csv : test데이터의 예측 값을 저장하여 제출하기 위한 데이터"
      ],
      "metadata": {
        "id": "ZnEgNgRvxH21"
      }
    },
    {
      "cell_type": "code",
      "source": [
        "# 줄마다 마지막에 띄어쓰기 두번하면 줄이 나뉜다!"
      ],
      "metadata": {
        "id": "pJPH4Ag_wlCG"
      },
      "execution_count": 3,
      "outputs": []
    },
    {
      "cell_type": "markdown",
      "source": [
        "## 1.1. 데이터 준비\n",
        "\n",
        "read_csv() 메소드 이용하기"
      ],
      "metadata": {
        "id": "6QZJEXabxjjO"
      }
    },
    {
      "cell_type": "code",
      "source": [
        "# 데이터 로드\n",
        "import pandas as pd\n",
        "\n",
        "train=pd.read_csv('/content/drive/MyDrive/따릉이/train.csv')\n",
        "test = pd.read_csv('/content/drive/MyDrive/따릉이/test.csv')\n",
        "submission = pd.read_csv('/content/drive/MyDrive/따릉이/sample_submission.csv')"
      ],
      "metadata": {
        "id": "-tYSUzYbxANV"
      },
      "execution_count": 4,
      "outputs": []
    },
    {
      "cell_type": "markdown",
      "source": [
        "## 1.2. 데이터 확인\n",
        "\n",
        "head()  \n",
        "tail()  \n",
        "info()  \n",
        "shape"
      ],
      "metadata": {
        "id": "Ch-ziE00zITs"
      }
    },
    {
      "cell_type": "code",
      "source": [
        "# 데이터 상위 5개 행 출력\n",
        "train.head()"
      ],
      "metadata": {
        "colab": {
          "base_uri": "https://localhost:8080/",
          "height": 270
        },
        "id": "-xJETrRbyAiE",
        "outputId": "dc92016a-bd23-4d64-a1d8-da694f331daf"
      },
      "execution_count": 5,
      "outputs": [
        {
          "output_type": "execute_result",
          "data": {
            "text/plain": [
              "    date_time  wind_direction  sky_condition  precipitation_form  wind_speed  \\\n",
              "0  2018-04-01         207.500          4.000               0.000       3.050   \n",
              "1  2018-04-02         208.317          2.950               0.000       3.278   \n",
              "2  2018-04-03         213.516          2.911               0.000       2.690   \n",
              "3  2018-04-04         143.836          3.692               0.425       3.138   \n",
              "4  2018-04-05          95.905          4.000               0.723       3.186   \n",
              "\n",
              "   humidity  low_temp  high_temp  Precipitation_Probability  number_of_rentals  \n",
              "0    75.000    12.600     21.000                     30.000              22994  \n",
              "1    69.833    12.812     19.000                     19.500              28139  \n",
              "2    74.879    10.312     15.316                     19.113              26817  \n",
              "3    71.849     8.312     12.368                     43.493              26034  \n",
              "4    73.784     5.875     10.421                     63.378               2833  "
            ],
            "text/html": [
              "\n",
              "  <div id=\"df-3e302109-0dbe-4b30-a083-8db1601c0443\">\n",
              "    <div class=\"colab-df-container\">\n",
              "      <div>\n",
              "<style scoped>\n",
              "    .dataframe tbody tr th:only-of-type {\n",
              "        vertical-align: middle;\n",
              "    }\n",
              "\n",
              "    .dataframe tbody tr th {\n",
              "        vertical-align: top;\n",
              "    }\n",
              "\n",
              "    .dataframe thead th {\n",
              "        text-align: right;\n",
              "    }\n",
              "</style>\n",
              "<table border=\"1\" class=\"dataframe\">\n",
              "  <thead>\n",
              "    <tr style=\"text-align: right;\">\n",
              "      <th></th>\n",
              "      <th>date_time</th>\n",
              "      <th>wind_direction</th>\n",
              "      <th>sky_condition</th>\n",
              "      <th>precipitation_form</th>\n",
              "      <th>wind_speed</th>\n",
              "      <th>humidity</th>\n",
              "      <th>low_temp</th>\n",
              "      <th>high_temp</th>\n",
              "      <th>Precipitation_Probability</th>\n",
              "      <th>number_of_rentals</th>\n",
              "    </tr>\n",
              "  </thead>\n",
              "  <tbody>\n",
              "    <tr>\n",
              "      <th>0</th>\n",
              "      <td>2018-04-01</td>\n",
              "      <td>207.500</td>\n",
              "      <td>4.000</td>\n",
              "      <td>0.000</td>\n",
              "      <td>3.050</td>\n",
              "      <td>75.000</td>\n",
              "      <td>12.600</td>\n",
              "      <td>21.000</td>\n",
              "      <td>30.000</td>\n",
              "      <td>22994</td>\n",
              "    </tr>\n",
              "    <tr>\n",
              "      <th>1</th>\n",
              "      <td>2018-04-02</td>\n",
              "      <td>208.317</td>\n",
              "      <td>2.950</td>\n",
              "      <td>0.000</td>\n",
              "      <td>3.278</td>\n",
              "      <td>69.833</td>\n",
              "      <td>12.812</td>\n",
              "      <td>19.000</td>\n",
              "      <td>19.500</td>\n",
              "      <td>28139</td>\n",
              "    </tr>\n",
              "    <tr>\n",
              "      <th>2</th>\n",
              "      <td>2018-04-03</td>\n",
              "      <td>213.516</td>\n",
              "      <td>2.911</td>\n",
              "      <td>0.000</td>\n",
              "      <td>2.690</td>\n",
              "      <td>74.879</td>\n",
              "      <td>10.312</td>\n",
              "      <td>15.316</td>\n",
              "      <td>19.113</td>\n",
              "      <td>26817</td>\n",
              "    </tr>\n",
              "    <tr>\n",
              "      <th>3</th>\n",
              "      <td>2018-04-04</td>\n",
              "      <td>143.836</td>\n",
              "      <td>3.692</td>\n",
              "      <td>0.425</td>\n",
              "      <td>3.138</td>\n",
              "      <td>71.849</td>\n",
              "      <td>8.312</td>\n",
              "      <td>12.368</td>\n",
              "      <td>43.493</td>\n",
              "      <td>26034</td>\n",
              "    </tr>\n",
              "    <tr>\n",
              "      <th>4</th>\n",
              "      <td>2018-04-05</td>\n",
              "      <td>95.905</td>\n",
              "      <td>4.000</td>\n",
              "      <td>0.723</td>\n",
              "      <td>3.186</td>\n",
              "      <td>73.784</td>\n",
              "      <td>5.875</td>\n",
              "      <td>10.421</td>\n",
              "      <td>63.378</td>\n",
              "      <td>2833</td>\n",
              "    </tr>\n",
              "  </tbody>\n",
              "</table>\n",
              "</div>\n",
              "      <button class=\"colab-df-convert\" onclick=\"convertToInteractive('df-3e302109-0dbe-4b30-a083-8db1601c0443')\"\n",
              "              title=\"Convert this dataframe to an interactive table.\"\n",
              "              style=\"display:none;\">\n",
              "        \n",
              "  <svg xmlns=\"http://www.w3.org/2000/svg\" height=\"24px\"viewBox=\"0 0 24 24\"\n",
              "       width=\"24px\">\n",
              "    <path d=\"M0 0h24v24H0V0z\" fill=\"none\"/>\n",
              "    <path d=\"M18.56 5.44l.94 2.06.94-2.06 2.06-.94-2.06-.94-.94-2.06-.94 2.06-2.06.94zm-11 1L8.5 8.5l.94-2.06 2.06-.94-2.06-.94L8.5 2.5l-.94 2.06-2.06.94zm10 10l.94 2.06.94-2.06 2.06-.94-2.06-.94-.94-2.06-.94 2.06-2.06.94z\"/><path d=\"M17.41 7.96l-1.37-1.37c-.4-.4-.92-.59-1.43-.59-.52 0-1.04.2-1.43.59L10.3 9.45l-7.72 7.72c-.78.78-.78 2.05 0 2.83L4 21.41c.39.39.9.59 1.41.59.51 0 1.02-.2 1.41-.59l7.78-7.78 2.81-2.81c.8-.78.8-2.07 0-2.86zM5.41 20L4 18.59l7.72-7.72 1.47 1.35L5.41 20z\"/>\n",
              "  </svg>\n",
              "      </button>\n",
              "      \n",
              "  <style>\n",
              "    .colab-df-container {\n",
              "      display:flex;\n",
              "      flex-wrap:wrap;\n",
              "      gap: 12px;\n",
              "    }\n",
              "\n",
              "    .colab-df-convert {\n",
              "      background-color: #E8F0FE;\n",
              "      border: none;\n",
              "      border-radius: 50%;\n",
              "      cursor: pointer;\n",
              "      display: none;\n",
              "      fill: #1967D2;\n",
              "      height: 32px;\n",
              "      padding: 0 0 0 0;\n",
              "      width: 32px;\n",
              "    }\n",
              "\n",
              "    .colab-df-convert:hover {\n",
              "      background-color: #E2EBFA;\n",
              "      box-shadow: 0px 1px 2px rgba(60, 64, 67, 0.3), 0px 1px 3px 1px rgba(60, 64, 67, 0.15);\n",
              "      fill: #174EA6;\n",
              "    }\n",
              "\n",
              "    [theme=dark] .colab-df-convert {\n",
              "      background-color: #3B4455;\n",
              "      fill: #D2E3FC;\n",
              "    }\n",
              "\n",
              "    [theme=dark] .colab-df-convert:hover {\n",
              "      background-color: #434B5C;\n",
              "      box-shadow: 0px 1px 3px 1px rgba(0, 0, 0, 0.15);\n",
              "      filter: drop-shadow(0px 1px 2px rgba(0, 0, 0, 0.3));\n",
              "      fill: #FFFFFF;\n",
              "    }\n",
              "  </style>\n",
              "\n",
              "      <script>\n",
              "        const buttonEl =\n",
              "          document.querySelector('#df-3e302109-0dbe-4b30-a083-8db1601c0443 button.colab-df-convert');\n",
              "        buttonEl.style.display =\n",
              "          google.colab.kernel.accessAllowed ? 'block' : 'none';\n",
              "\n",
              "        async function convertToInteractive(key) {\n",
              "          const element = document.querySelector('#df-3e302109-0dbe-4b30-a083-8db1601c0443');\n",
              "          const dataTable =\n",
              "            await google.colab.kernel.invokeFunction('convertToInteractive',\n",
              "                                                     [key], {});\n",
              "          if (!dataTable) return;\n",
              "\n",
              "          const docLinkHtml = 'Like what you see? Visit the ' +\n",
              "            '<a target=\"_blank\" href=https://colab.research.google.com/notebooks/data_table.ipynb>data table notebook</a>'\n",
              "            + ' to learn more about interactive tables.';\n",
              "          element.innerHTML = '';\n",
              "          dataTable['output_type'] = 'display_data';\n",
              "          await google.colab.output.renderOutput(dataTable, element);\n",
              "          const docLink = document.createElement('div');\n",
              "          docLink.innerHTML = docLinkHtml;\n",
              "          element.appendChild(docLink);\n",
              "        }\n",
              "      </script>\n",
              "    </div>\n",
              "  </div>\n",
              "  "
            ]
          },
          "metadata": {},
          "execution_count": 5
        }
      ]
    },
    {
      "cell_type": "code",
      "source": [
        "# 데이터 하위 5개 행 출력\n",
        "train.tail()"
      ],
      "metadata": {
        "colab": {
          "base_uri": "https://localhost:8080/",
          "height": 270
        },
        "id": "9zZy79Y5zROp",
        "outputId": "55453a5d-e318-4b70-a118-e8014753db7a"
      },
      "execution_count": 6,
      "outputs": [
        {
          "output_type": "execute_result",
          "data": {
            "text/plain": [
              "      date_time  wind_direction  sky_condition  precipitation_form  \\\n",
              "268  2020-06-26         228.662          3.980               0.223   \n",
              "269  2020-06-27         207.770          2.865               0.081   \n",
              "270  2020-06-28         282.568          1.730               0.000   \n",
              "271  2020-06-29         137.027          2.257               0.088   \n",
              "272  2020-06-30         120.797          3.622               0.432   \n",
              "\n",
              "     wind_speed  humidity  low_temp  high_temp  Precipitation_Probability  \\\n",
              "268       2.271    78.378    20.500     27.526                     36.486   \n",
              "269       1.794    78.412    20.812     28.842                     21.081   \n",
              "270       1.820    72.736    21.000     29.053                      7.297   \n",
              "271       2.043    70.473    19.625     26.000                     15.541   \n",
              "272       5.574    77.061    19.125     26.053                     41.284   \n",
              "\n",
              "     number_of_rentals  \n",
              "268              96150  \n",
              "269             107001  \n",
              "270              98568  \n",
              "271              70053  \n",
              "272              38086  "
            ],
            "text/html": [
              "\n",
              "  <div id=\"df-6a22bcb6-c849-44bb-926d-aa490ef3171e\">\n",
              "    <div class=\"colab-df-container\">\n",
              "      <div>\n",
              "<style scoped>\n",
              "    .dataframe tbody tr th:only-of-type {\n",
              "        vertical-align: middle;\n",
              "    }\n",
              "\n",
              "    .dataframe tbody tr th {\n",
              "        vertical-align: top;\n",
              "    }\n",
              "\n",
              "    .dataframe thead th {\n",
              "        text-align: right;\n",
              "    }\n",
              "</style>\n",
              "<table border=\"1\" class=\"dataframe\">\n",
              "  <thead>\n",
              "    <tr style=\"text-align: right;\">\n",
              "      <th></th>\n",
              "      <th>date_time</th>\n",
              "      <th>wind_direction</th>\n",
              "      <th>sky_condition</th>\n",
              "      <th>precipitation_form</th>\n",
              "      <th>wind_speed</th>\n",
              "      <th>humidity</th>\n",
              "      <th>low_temp</th>\n",
              "      <th>high_temp</th>\n",
              "      <th>Precipitation_Probability</th>\n",
              "      <th>number_of_rentals</th>\n",
              "    </tr>\n",
              "  </thead>\n",
              "  <tbody>\n",
              "    <tr>\n",
              "      <th>268</th>\n",
              "      <td>2020-06-26</td>\n",
              "      <td>228.662</td>\n",
              "      <td>3.980</td>\n",
              "      <td>0.223</td>\n",
              "      <td>2.271</td>\n",
              "      <td>78.378</td>\n",
              "      <td>20.500</td>\n",
              "      <td>27.526</td>\n",
              "      <td>36.486</td>\n",
              "      <td>96150</td>\n",
              "    </tr>\n",
              "    <tr>\n",
              "      <th>269</th>\n",
              "      <td>2020-06-27</td>\n",
              "      <td>207.770</td>\n",
              "      <td>2.865</td>\n",
              "      <td>0.081</td>\n",
              "      <td>1.794</td>\n",
              "      <td>78.412</td>\n",
              "      <td>20.812</td>\n",
              "      <td>28.842</td>\n",
              "      <td>21.081</td>\n",
              "      <td>107001</td>\n",
              "    </tr>\n",
              "    <tr>\n",
              "      <th>270</th>\n",
              "      <td>2020-06-28</td>\n",
              "      <td>282.568</td>\n",
              "      <td>1.730</td>\n",
              "      <td>0.000</td>\n",
              "      <td>1.820</td>\n",
              "      <td>72.736</td>\n",
              "      <td>21.000</td>\n",
              "      <td>29.053</td>\n",
              "      <td>7.297</td>\n",
              "      <td>98568</td>\n",
              "    </tr>\n",
              "    <tr>\n",
              "      <th>271</th>\n",
              "      <td>2020-06-29</td>\n",
              "      <td>137.027</td>\n",
              "      <td>2.257</td>\n",
              "      <td>0.088</td>\n",
              "      <td>2.043</td>\n",
              "      <td>70.473</td>\n",
              "      <td>19.625</td>\n",
              "      <td>26.000</td>\n",
              "      <td>15.541</td>\n",
              "      <td>70053</td>\n",
              "    </tr>\n",
              "    <tr>\n",
              "      <th>272</th>\n",
              "      <td>2020-06-30</td>\n",
              "      <td>120.797</td>\n",
              "      <td>3.622</td>\n",
              "      <td>0.432</td>\n",
              "      <td>5.574</td>\n",
              "      <td>77.061</td>\n",
              "      <td>19.125</td>\n",
              "      <td>26.053</td>\n",
              "      <td>41.284</td>\n",
              "      <td>38086</td>\n",
              "    </tr>\n",
              "  </tbody>\n",
              "</table>\n",
              "</div>\n",
              "      <button class=\"colab-df-convert\" onclick=\"convertToInteractive('df-6a22bcb6-c849-44bb-926d-aa490ef3171e')\"\n",
              "              title=\"Convert this dataframe to an interactive table.\"\n",
              "              style=\"display:none;\">\n",
              "        \n",
              "  <svg xmlns=\"http://www.w3.org/2000/svg\" height=\"24px\"viewBox=\"0 0 24 24\"\n",
              "       width=\"24px\">\n",
              "    <path d=\"M0 0h24v24H0V0z\" fill=\"none\"/>\n",
              "    <path d=\"M18.56 5.44l.94 2.06.94-2.06 2.06-.94-2.06-.94-.94-2.06-.94 2.06-2.06.94zm-11 1L8.5 8.5l.94-2.06 2.06-.94-2.06-.94L8.5 2.5l-.94 2.06-2.06.94zm10 10l.94 2.06.94-2.06 2.06-.94-2.06-.94-.94-2.06-.94 2.06-2.06.94z\"/><path d=\"M17.41 7.96l-1.37-1.37c-.4-.4-.92-.59-1.43-.59-.52 0-1.04.2-1.43.59L10.3 9.45l-7.72 7.72c-.78.78-.78 2.05 0 2.83L4 21.41c.39.39.9.59 1.41.59.51 0 1.02-.2 1.41-.59l7.78-7.78 2.81-2.81c.8-.78.8-2.07 0-2.86zM5.41 20L4 18.59l7.72-7.72 1.47 1.35L5.41 20z\"/>\n",
              "  </svg>\n",
              "      </button>\n",
              "      \n",
              "  <style>\n",
              "    .colab-df-container {\n",
              "      display:flex;\n",
              "      flex-wrap:wrap;\n",
              "      gap: 12px;\n",
              "    }\n",
              "\n",
              "    .colab-df-convert {\n",
              "      background-color: #E8F0FE;\n",
              "      border: none;\n",
              "      border-radius: 50%;\n",
              "      cursor: pointer;\n",
              "      display: none;\n",
              "      fill: #1967D2;\n",
              "      height: 32px;\n",
              "      padding: 0 0 0 0;\n",
              "      width: 32px;\n",
              "    }\n",
              "\n",
              "    .colab-df-convert:hover {\n",
              "      background-color: #E2EBFA;\n",
              "      box-shadow: 0px 1px 2px rgba(60, 64, 67, 0.3), 0px 1px 3px 1px rgba(60, 64, 67, 0.15);\n",
              "      fill: #174EA6;\n",
              "    }\n",
              "\n",
              "    [theme=dark] .colab-df-convert {\n",
              "      background-color: #3B4455;\n",
              "      fill: #D2E3FC;\n",
              "    }\n",
              "\n",
              "    [theme=dark] .colab-df-convert:hover {\n",
              "      background-color: #434B5C;\n",
              "      box-shadow: 0px 1px 3px 1px rgba(0, 0, 0, 0.15);\n",
              "      filter: drop-shadow(0px 1px 2px rgba(0, 0, 0, 0.3));\n",
              "      fill: #FFFFFF;\n",
              "    }\n",
              "  </style>\n",
              "\n",
              "      <script>\n",
              "        const buttonEl =\n",
              "          document.querySelector('#df-6a22bcb6-c849-44bb-926d-aa490ef3171e button.colab-df-convert');\n",
              "        buttonEl.style.display =\n",
              "          google.colab.kernel.accessAllowed ? 'block' : 'none';\n",
              "\n",
              "        async function convertToInteractive(key) {\n",
              "          const element = document.querySelector('#df-6a22bcb6-c849-44bb-926d-aa490ef3171e');\n",
              "          const dataTable =\n",
              "            await google.colab.kernel.invokeFunction('convertToInteractive',\n",
              "                                                     [key], {});\n",
              "          if (!dataTable) return;\n",
              "\n",
              "          const docLinkHtml = 'Like what you see? Visit the ' +\n",
              "            '<a target=\"_blank\" href=https://colab.research.google.com/notebooks/data_table.ipynb>data table notebook</a>'\n",
              "            + ' to learn more about interactive tables.';\n",
              "          element.innerHTML = '';\n",
              "          dataTable['output_type'] = 'display_data';\n",
              "          await google.colab.output.renderOutput(dataTable, element);\n",
              "          const docLink = document.createElement('div');\n",
              "          docLink.innerHTML = docLinkHtml;\n",
              "          element.appendChild(docLink);\n",
              "        }\n",
              "      </script>\n",
              "    </div>\n",
              "  </div>\n",
              "  "
            ]
          },
          "metadata": {},
          "execution_count": 6
        }
      ]
    },
    {
      "cell_type": "code",
      "source": [
        "# 데이터 결측치 및 변수들의 타입 확인\n",
        "train.info()"
      ],
      "metadata": {
        "colab": {
          "base_uri": "https://localhost:8080/"
        },
        "id": "kKGh9UL8zWSF",
        "outputId": "07833738-2c01-41cb-c352-0b42ceac9208"
      },
      "execution_count": 7,
      "outputs": [
        {
          "output_type": "stream",
          "name": "stdout",
          "text": [
            "<class 'pandas.core.frame.DataFrame'>\n",
            "RangeIndex: 273 entries, 0 to 272\n",
            "Data columns (total 10 columns):\n",
            " #   Column                     Non-Null Count  Dtype  \n",
            "---  ------                     --------------  -----  \n",
            " 0   date_time                  273 non-null    object \n",
            " 1   wind_direction             273 non-null    float64\n",
            " 2   sky_condition              273 non-null    float64\n",
            " 3   precipitation_form         273 non-null    float64\n",
            " 4   wind_speed                 273 non-null    float64\n",
            " 5   humidity                   273 non-null    float64\n",
            " 6   low_temp                   273 non-null    float64\n",
            " 7   high_temp                  273 non-null    float64\n",
            " 8   Precipitation_Probability  273 non-null    float64\n",
            " 9   number_of_rentals          273 non-null    int64  \n",
            "dtypes: float64(8), int64(1), object(1)\n",
            "memory usage: 21.5+ KB\n"
          ]
        }
      ]
    },
    {
      "cell_type": "code",
      "source": [
        "# 데이터 행, 열 출력\n",
        "train.shape"
      ],
      "metadata": {
        "colab": {
          "base_uri": "https://localhost:8080/"
        },
        "id": "gZvgZTyUzblK",
        "outputId": "885dbc3a-9ae6-4ece-fc33-6ccb33ecf573"
      },
      "execution_count": 8,
      "outputs": [
        {
          "output_type": "execute_result",
          "data": {
            "text/plain": [
              "(273, 10)"
            ]
          },
          "metadata": {},
          "execution_count": 8
        }
      ]
    },
    {
      "cell_type": "markdown",
      "source": [
        "## 1.3. 데이터 통계치 확인"
      ],
      "metadata": {
        "id": "lyduWdwIztXG"
      }
    },
    {
      "cell_type": "code",
      "source": [
        "train.describe()"
      ],
      "metadata": {
        "colab": {
          "base_uri": "https://localhost:8080/",
          "height": 364
        },
        "id": "2SfWXxglzoTH",
        "outputId": "6a14c244-cecd-4737-934a-0f546700cef1"
      },
      "execution_count": 9,
      "outputs": [
        {
          "output_type": "execute_result",
          "data": {
            "text/plain": [
              "       wind_direction  sky_condition  precipitation_form  wind_speed  \\\n",
              "count      273.000000     273.000000          273.000000  273.000000   \n",
              "mean       202.750967       2.288256            0.100963    2.480963   \n",
              "std         56.659232       0.961775            0.203193    0.884397   \n",
              "min         57.047000       1.000000            0.000000    0.753000   \n",
              "25%        171.541000       1.405000            0.000000    1.820000   \n",
              "50%        209.774000       2.167000            0.000000    2.411000   \n",
              "75%        238.412000       3.000000            0.088000    2.924000   \n",
              "max        321.622000       4.000000            1.000000    5.607000   \n",
              "\n",
              "         humidity    low_temp   high_temp  Precipitation_Probability  \\\n",
              "count  273.000000  273.000000  273.000000                 273.000000   \n",
              "mean    56.745491   13.795249   23.384733                  16.878103   \n",
              "std     12.351268    5.107711    5.204605                  16.643772   \n",
              "min     24.831000    1.938000    9.895000                   0.000000   \n",
              "25%     47.196000    9.938000   19.842000                   4.054000   \n",
              "50%     55.845000   14.375000   24.158000                  12.162000   \n",
              "75%     66.419000   18.000000   27.526000                  22.973000   \n",
              "max     88.885000   22.312000   33.421000                  82.162000   \n",
              "\n",
              "       number_of_rentals  \n",
              "count         273.000000  \n",
              "mean        59574.978022  \n",
              "std         27659.575774  \n",
              "min          1037.000000  \n",
              "25%         36761.000000  \n",
              "50%         63032.000000  \n",
              "75%         81515.000000  \n",
              "max        110377.000000  "
            ],
            "text/html": [
              "\n",
              "  <div id=\"df-dbd9cadd-192e-4234-a59d-0fe55807577d\">\n",
              "    <div class=\"colab-df-container\">\n",
              "      <div>\n",
              "<style scoped>\n",
              "    .dataframe tbody tr th:only-of-type {\n",
              "        vertical-align: middle;\n",
              "    }\n",
              "\n",
              "    .dataframe tbody tr th {\n",
              "        vertical-align: top;\n",
              "    }\n",
              "\n",
              "    .dataframe thead th {\n",
              "        text-align: right;\n",
              "    }\n",
              "</style>\n",
              "<table border=\"1\" class=\"dataframe\">\n",
              "  <thead>\n",
              "    <tr style=\"text-align: right;\">\n",
              "      <th></th>\n",
              "      <th>wind_direction</th>\n",
              "      <th>sky_condition</th>\n",
              "      <th>precipitation_form</th>\n",
              "      <th>wind_speed</th>\n",
              "      <th>humidity</th>\n",
              "      <th>low_temp</th>\n",
              "      <th>high_temp</th>\n",
              "      <th>Precipitation_Probability</th>\n",
              "      <th>number_of_rentals</th>\n",
              "    </tr>\n",
              "  </thead>\n",
              "  <tbody>\n",
              "    <tr>\n",
              "      <th>count</th>\n",
              "      <td>273.000000</td>\n",
              "      <td>273.000000</td>\n",
              "      <td>273.000000</td>\n",
              "      <td>273.000000</td>\n",
              "      <td>273.000000</td>\n",
              "      <td>273.000000</td>\n",
              "      <td>273.000000</td>\n",
              "      <td>273.000000</td>\n",
              "      <td>273.000000</td>\n",
              "    </tr>\n",
              "    <tr>\n",
              "      <th>mean</th>\n",
              "      <td>202.750967</td>\n",
              "      <td>2.288256</td>\n",
              "      <td>0.100963</td>\n",
              "      <td>2.480963</td>\n",
              "      <td>56.745491</td>\n",
              "      <td>13.795249</td>\n",
              "      <td>23.384733</td>\n",
              "      <td>16.878103</td>\n",
              "      <td>59574.978022</td>\n",
              "    </tr>\n",
              "    <tr>\n",
              "      <th>std</th>\n",
              "      <td>56.659232</td>\n",
              "      <td>0.961775</td>\n",
              "      <td>0.203193</td>\n",
              "      <td>0.884397</td>\n",
              "      <td>12.351268</td>\n",
              "      <td>5.107711</td>\n",
              "      <td>5.204605</td>\n",
              "      <td>16.643772</td>\n",
              "      <td>27659.575774</td>\n",
              "    </tr>\n",
              "    <tr>\n",
              "      <th>min</th>\n",
              "      <td>57.047000</td>\n",
              "      <td>1.000000</td>\n",
              "      <td>0.000000</td>\n",
              "      <td>0.753000</td>\n",
              "      <td>24.831000</td>\n",
              "      <td>1.938000</td>\n",
              "      <td>9.895000</td>\n",
              "      <td>0.000000</td>\n",
              "      <td>1037.000000</td>\n",
              "    </tr>\n",
              "    <tr>\n",
              "      <th>25%</th>\n",
              "      <td>171.541000</td>\n",
              "      <td>1.405000</td>\n",
              "      <td>0.000000</td>\n",
              "      <td>1.820000</td>\n",
              "      <td>47.196000</td>\n",
              "      <td>9.938000</td>\n",
              "      <td>19.842000</td>\n",
              "      <td>4.054000</td>\n",
              "      <td>36761.000000</td>\n",
              "    </tr>\n",
              "    <tr>\n",
              "      <th>50%</th>\n",
              "      <td>209.774000</td>\n",
              "      <td>2.167000</td>\n",
              "      <td>0.000000</td>\n",
              "      <td>2.411000</td>\n",
              "      <td>55.845000</td>\n",
              "      <td>14.375000</td>\n",
              "      <td>24.158000</td>\n",
              "      <td>12.162000</td>\n",
              "      <td>63032.000000</td>\n",
              "    </tr>\n",
              "    <tr>\n",
              "      <th>75%</th>\n",
              "      <td>238.412000</td>\n",
              "      <td>3.000000</td>\n",
              "      <td>0.088000</td>\n",
              "      <td>2.924000</td>\n",
              "      <td>66.419000</td>\n",
              "      <td>18.000000</td>\n",
              "      <td>27.526000</td>\n",
              "      <td>22.973000</td>\n",
              "      <td>81515.000000</td>\n",
              "    </tr>\n",
              "    <tr>\n",
              "      <th>max</th>\n",
              "      <td>321.622000</td>\n",
              "      <td>4.000000</td>\n",
              "      <td>1.000000</td>\n",
              "      <td>5.607000</td>\n",
              "      <td>88.885000</td>\n",
              "      <td>22.312000</td>\n",
              "      <td>33.421000</td>\n",
              "      <td>82.162000</td>\n",
              "      <td>110377.000000</td>\n",
              "    </tr>\n",
              "  </tbody>\n",
              "</table>\n",
              "</div>\n",
              "      <button class=\"colab-df-convert\" onclick=\"convertToInteractive('df-dbd9cadd-192e-4234-a59d-0fe55807577d')\"\n",
              "              title=\"Convert this dataframe to an interactive table.\"\n",
              "              style=\"display:none;\">\n",
              "        \n",
              "  <svg xmlns=\"http://www.w3.org/2000/svg\" height=\"24px\"viewBox=\"0 0 24 24\"\n",
              "       width=\"24px\">\n",
              "    <path d=\"M0 0h24v24H0V0z\" fill=\"none\"/>\n",
              "    <path d=\"M18.56 5.44l.94 2.06.94-2.06 2.06-.94-2.06-.94-.94-2.06-.94 2.06-2.06.94zm-11 1L8.5 8.5l.94-2.06 2.06-.94-2.06-.94L8.5 2.5l-.94 2.06-2.06.94zm10 10l.94 2.06.94-2.06 2.06-.94-2.06-.94-.94-2.06-.94 2.06-2.06.94z\"/><path d=\"M17.41 7.96l-1.37-1.37c-.4-.4-.92-.59-1.43-.59-.52 0-1.04.2-1.43.59L10.3 9.45l-7.72 7.72c-.78.78-.78 2.05 0 2.83L4 21.41c.39.39.9.59 1.41.59.51 0 1.02-.2 1.41-.59l7.78-7.78 2.81-2.81c.8-.78.8-2.07 0-2.86zM5.41 20L4 18.59l7.72-7.72 1.47 1.35L5.41 20z\"/>\n",
              "  </svg>\n",
              "      </button>\n",
              "      \n",
              "  <style>\n",
              "    .colab-df-container {\n",
              "      display:flex;\n",
              "      flex-wrap:wrap;\n",
              "      gap: 12px;\n",
              "    }\n",
              "\n",
              "    .colab-df-convert {\n",
              "      background-color: #E8F0FE;\n",
              "      border: none;\n",
              "      border-radius: 50%;\n",
              "      cursor: pointer;\n",
              "      display: none;\n",
              "      fill: #1967D2;\n",
              "      height: 32px;\n",
              "      padding: 0 0 0 0;\n",
              "      width: 32px;\n",
              "    }\n",
              "\n",
              "    .colab-df-convert:hover {\n",
              "      background-color: #E2EBFA;\n",
              "      box-shadow: 0px 1px 2px rgba(60, 64, 67, 0.3), 0px 1px 3px 1px rgba(60, 64, 67, 0.15);\n",
              "      fill: #174EA6;\n",
              "    }\n",
              "\n",
              "    [theme=dark] .colab-df-convert {\n",
              "      background-color: #3B4455;\n",
              "      fill: #D2E3FC;\n",
              "    }\n",
              "\n",
              "    [theme=dark] .colab-df-convert:hover {\n",
              "      background-color: #434B5C;\n",
              "      box-shadow: 0px 1px 3px 1px rgba(0, 0, 0, 0.15);\n",
              "      filter: drop-shadow(0px 1px 2px rgba(0, 0, 0, 0.3));\n",
              "      fill: #FFFFFF;\n",
              "    }\n",
              "  </style>\n",
              "\n",
              "      <script>\n",
              "        const buttonEl =\n",
              "          document.querySelector('#df-dbd9cadd-192e-4234-a59d-0fe55807577d button.colab-df-convert');\n",
              "        buttonEl.style.display =\n",
              "          google.colab.kernel.accessAllowed ? 'block' : 'none';\n",
              "\n",
              "        async function convertToInteractive(key) {\n",
              "          const element = document.querySelector('#df-dbd9cadd-192e-4234-a59d-0fe55807577d');\n",
              "          const dataTable =\n",
              "            await google.colab.kernel.invokeFunction('convertToInteractive',\n",
              "                                                     [key], {});\n",
              "          if (!dataTable) return;\n",
              "\n",
              "          const docLinkHtml = 'Like what you see? Visit the ' +\n",
              "            '<a target=\"_blank\" href=https://colab.research.google.com/notebooks/data_table.ipynb>data table notebook</a>'\n",
              "            + ' to learn more about interactive tables.';\n",
              "          element.innerHTML = '';\n",
              "          dataTable['output_type'] = 'display_data';\n",
              "          await google.colab.output.renderOutput(dataTable, element);\n",
              "          const docLink = document.createElement('div');\n",
              "          docLink.innerHTML = docLinkHtml;\n",
              "          element.appendChild(docLink);\n",
              "        }\n",
              "      </script>\n",
              "    </div>\n",
              "  </div>\n",
              "  "
            ]
          },
          "metadata": {},
          "execution_count": 9
        }
      ]
    },
    {
      "cell_type": "markdown",
      "source": [
        "# 2. 데이터 전처리\n",
        "\n",
        "EDA를 하기 위한 데이터 선행처리"
      ],
      "metadata": {
        "id": "KYbU030fz5xU"
      }
    },
    {
      "cell_type": "markdown",
      "source": [
        "## 2.1. 'date_time' 열 쪼개기"
      ],
      "metadata": {
        "id": "KFbxwvnIz-le"
      }
    },
    {
      "cell_type": "code",
      "source": [
        "train['date_time']"
      ],
      "metadata": {
        "colab": {
          "base_uri": "https://localhost:8080/"
        },
        "id": "CvxNopzS0GLq",
        "outputId": "3da0fe27-2c2f-4604-c4c1-f1d32b13b01d"
      },
      "execution_count": 10,
      "outputs": [
        {
          "output_type": "execute_result",
          "data": {
            "text/plain": [
              "0      2018-04-01\n",
              "1      2018-04-02\n",
              "2      2018-04-03\n",
              "3      2018-04-04\n",
              "4      2018-04-05\n",
              "          ...    \n",
              "268    2020-06-26\n",
              "269    2020-06-27\n",
              "270    2020-06-28\n",
              "271    2020-06-29\n",
              "272    2020-06-30\n",
              "Name: date_time, Length: 273, dtype: object"
            ]
          },
          "metadata": {},
          "execution_count": 10
        }
      ]
    },
    {
      "cell_type": "code",
      "source": [
        "# 이건 _ 일때 가능하다! .으로 이름이 되어있다면 불가능!\n",
        "train.date_time"
      ],
      "metadata": {
        "colab": {
          "base_uri": "https://localhost:8080/"
        },
        "id": "8YkVH0LywuqB",
        "outputId": "f22c6300-6360-4bb9-e95e-4f4d65ee20d1"
      },
      "execution_count": 11,
      "outputs": [
        {
          "output_type": "execute_result",
          "data": {
            "text/plain": [
              "0      2018-04-01\n",
              "1      2018-04-02\n",
              "2      2018-04-03\n",
              "3      2018-04-04\n",
              "4      2018-04-05\n",
              "          ...    \n",
              "268    2020-06-26\n",
              "269    2020-06-27\n",
              "270    2020-06-28\n",
              "271    2020-06-29\n",
              "272    2020-06-30\n",
              "Name: date_time, Length: 273, dtype: object"
            ]
          },
          "metadata": {},
          "execution_count": 11
        }
      ]
    },
    {
      "cell_type": "markdown",
      "source": [
        "#### split 분리"
      ],
      "metadata": {
        "id": "JNF0J12-w1K1"
      }
    },
    {
      "cell_type": "code",
      "source": [
        "train['date_time'][0].split('-')"
      ],
      "metadata": {
        "colab": {
          "base_uri": "https://localhost:8080/"
        },
        "id": "GApGqaOt0L2f",
        "outputId": "30fcae95-7eaa-40b4-a90f-c283a4e233f9"
      },
      "execution_count": 12,
      "outputs": [
        {
          "output_type": "execute_result",
          "data": {
            "text/plain": [
              "['2018', '04', '01']"
            ]
          },
          "metadata": {},
          "execution_count": 12
        }
      ]
    },
    {
      "cell_type": "code",
      "source": [
        "train['date_time'][0].split('-')[1]"
      ],
      "metadata": {
        "colab": {
          "base_uri": "https://localhost:8080/",
          "height": 36
        },
        "id": "bq_Qzcuuw6vt",
        "outputId": "6cfc7189-7d02-4aff-8df3-0b992cf19bed"
      },
      "execution_count": 13,
      "outputs": [
        {
          "output_type": "execute_result",
          "data": {
            "text/plain": [
              "'04'"
            ],
            "application/vnd.google.colaboratory.intrinsic+json": {
              "type": "string"
            }
          },
          "metadata": {},
          "execution_count": 13
        }
      ]
    },
    {
      "cell_type": "code",
      "source": [
        "year, month, day = train['date_time'][0].split('-')\n",
        "print('년 : ' + year)\n",
        "print('월 : ' + month)\n",
        "print('일 : ' + day)"
      ],
      "metadata": {
        "colab": {
          "base_uri": "https://localhost:8080/"
        },
        "id": "HEhOo1yy0WrS",
        "outputId": "626ae896-3f03-4b84-c229-b00e70388cf7"
      },
      "execution_count": 14,
      "outputs": [
        {
          "output_type": "stream",
          "name": "stdout",
          "text": [
            "년 : 2018\n",
            "월 : 04\n",
            "일 : 01\n"
          ]
        }
      ]
    },
    {
      "cell_type": "code",
      "source": [
        "train['date_time'].apply(lambda x : x.split('-'))"
      ],
      "metadata": {
        "colab": {
          "base_uri": "https://localhost:8080/"
        },
        "id": "luhei_nF00Lv",
        "outputId": "98cb26e5-20e2-4230-bc6a-a3229dab6288"
      },
      "execution_count": 15,
      "outputs": [
        {
          "output_type": "execute_result",
          "data": {
            "text/plain": [
              "0      [2018, 04, 01]\n",
              "1      [2018, 04, 02]\n",
              "2      [2018, 04, 03]\n",
              "3      [2018, 04, 04]\n",
              "4      [2018, 04, 05]\n",
              "            ...      \n",
              "268    [2020, 06, 26]\n",
              "269    [2020, 06, 27]\n",
              "270    [2020, 06, 28]\n",
              "271    [2020, 06, 29]\n",
              "272    [2020, 06, 30]\n",
              "Name: date_time, Length: 273, dtype: object"
            ]
          },
          "metadata": {},
          "execution_count": 15
        }
      ]
    },
    {
      "cell_type": "code",
      "source": [
        "train['date_time'].apply(lambda x : x.split('-')[0])"
      ],
      "metadata": {
        "colab": {
          "base_uri": "https://localhost:8080/"
        },
        "id": "2S53uIz71N_9",
        "outputId": "b0d2c84c-3a28-431a-e63e-019be475e951"
      },
      "execution_count": 16,
      "outputs": [
        {
          "output_type": "execute_result",
          "data": {
            "text/plain": [
              "0      2018\n",
              "1      2018\n",
              "2      2018\n",
              "3      2018\n",
              "4      2018\n",
              "       ... \n",
              "268    2020\n",
              "269    2020\n",
              "270    2020\n",
              "271    2020\n",
              "272    2020\n",
              "Name: date_time, Length: 273, dtype: object"
            ]
          },
          "metadata": {},
          "execution_count": 16
        }
      ]
    },
    {
      "cell_type": "code",
      "source": [
        "def temp(x):\n",
        "  return x.split('-')[0]\n",
        "\n",
        "train['date_time'].map(temp)"
      ],
      "metadata": {
        "colab": {
          "base_uri": "https://localhost:8080/"
        },
        "id": "jf6KiczO1ekM",
        "outputId": "fc651775-3471-4afb-bdb8-f1ea379010e6"
      },
      "execution_count": 17,
      "outputs": [
        {
          "output_type": "execute_result",
          "data": {
            "text/plain": [
              "0      2018\n",
              "1      2018\n",
              "2      2018\n",
              "3      2018\n",
              "4      2018\n",
              "       ... \n",
              "268    2020\n",
              "269    2020\n",
              "270    2020\n",
              "271    2020\n",
              "272    2020\n",
              "Name: date_time, Length: 273, dtype: object"
            ]
          },
          "metadata": {},
          "execution_count": 17
        }
      ]
    },
    {
      "cell_type": "markdown",
      "source": [
        "#### map, apply\n",
        "\n",
        "- apply는 데이터프레임에 적용 가능\n",
        "- map은 시리즈에서만 가능\n",
        "- map은 특정열에서만 적용가능"
      ],
      "metadata": {
        "id": "7mLqBW0KxPHR"
      }
    },
    {
      "cell_type": "code",
      "source": [
        "train.apply(lambda x : x*2) # 다바꾸는거 가능!"
      ],
      "metadata": {
        "colab": {
          "base_uri": "https://localhost:8080/",
          "height": 835
        },
        "id": "cUWmnDC31-NE",
        "outputId": "dd00128d-356b-4f60-b054-d6eee47a6b39"
      },
      "execution_count": 18,
      "outputs": [
        {
          "output_type": "execute_result",
          "data": {
            "text/plain": [
              "                date_time  wind_direction  sky_condition  precipitation_form  \\\n",
              "0    2018-04-012018-04-01         415.000          8.000               0.000   \n",
              "1    2018-04-022018-04-02         416.634          5.900               0.000   \n",
              "2    2018-04-032018-04-03         427.032          5.822               0.000   \n",
              "3    2018-04-042018-04-04         287.672          7.384               0.850   \n",
              "4    2018-04-052018-04-05         191.810          8.000               1.446   \n",
              "..                    ...             ...            ...                 ...   \n",
              "268  2020-06-262020-06-26         457.324          7.960               0.446   \n",
              "269  2020-06-272020-06-27         415.540          5.730               0.162   \n",
              "270  2020-06-282020-06-28         565.136          3.460               0.000   \n",
              "271  2020-06-292020-06-29         274.054          4.514               0.176   \n",
              "272  2020-06-302020-06-30         241.594          7.244               0.864   \n",
              "\n",
              "     wind_speed  humidity  low_temp  high_temp  Precipitation_Probability  \\\n",
              "0         6.100   150.000    25.200     42.000                     60.000   \n",
              "1         6.556   139.666    25.624     38.000                     39.000   \n",
              "2         5.380   149.758    20.624     30.632                     38.226   \n",
              "3         6.276   143.698    16.624     24.736                     86.986   \n",
              "4         6.372   147.568    11.750     20.842                    126.756   \n",
              "..          ...       ...       ...        ...                        ...   \n",
              "268       4.542   156.756    41.000     55.052                     72.972   \n",
              "269       3.588   156.824    41.624     57.684                     42.162   \n",
              "270       3.640   145.472    42.000     58.106                     14.594   \n",
              "271       4.086   140.946    39.250     52.000                     31.082   \n",
              "272      11.148   154.122    38.250     52.106                     82.568   \n",
              "\n",
              "     number_of_rentals  \n",
              "0                45988  \n",
              "1                56278  \n",
              "2                53634  \n",
              "3                52068  \n",
              "4                 5666  \n",
              "..                 ...  \n",
              "268             192300  \n",
              "269             214002  \n",
              "270             197136  \n",
              "271             140106  \n",
              "272              76172  \n",
              "\n",
              "[273 rows x 10 columns]"
            ],
            "text/html": [
              "\n",
              "  <div id=\"df-45cc1f30-2585-45e0-a6e4-c2d9ef9daa1f\">\n",
              "    <div class=\"colab-df-container\">\n",
              "      <div>\n",
              "<style scoped>\n",
              "    .dataframe tbody tr th:only-of-type {\n",
              "        vertical-align: middle;\n",
              "    }\n",
              "\n",
              "    .dataframe tbody tr th {\n",
              "        vertical-align: top;\n",
              "    }\n",
              "\n",
              "    .dataframe thead th {\n",
              "        text-align: right;\n",
              "    }\n",
              "</style>\n",
              "<table border=\"1\" class=\"dataframe\">\n",
              "  <thead>\n",
              "    <tr style=\"text-align: right;\">\n",
              "      <th></th>\n",
              "      <th>date_time</th>\n",
              "      <th>wind_direction</th>\n",
              "      <th>sky_condition</th>\n",
              "      <th>precipitation_form</th>\n",
              "      <th>wind_speed</th>\n",
              "      <th>humidity</th>\n",
              "      <th>low_temp</th>\n",
              "      <th>high_temp</th>\n",
              "      <th>Precipitation_Probability</th>\n",
              "      <th>number_of_rentals</th>\n",
              "    </tr>\n",
              "  </thead>\n",
              "  <tbody>\n",
              "    <tr>\n",
              "      <th>0</th>\n",
              "      <td>2018-04-012018-04-01</td>\n",
              "      <td>415.000</td>\n",
              "      <td>8.000</td>\n",
              "      <td>0.000</td>\n",
              "      <td>6.100</td>\n",
              "      <td>150.000</td>\n",
              "      <td>25.200</td>\n",
              "      <td>42.000</td>\n",
              "      <td>60.000</td>\n",
              "      <td>45988</td>\n",
              "    </tr>\n",
              "    <tr>\n",
              "      <th>1</th>\n",
              "      <td>2018-04-022018-04-02</td>\n",
              "      <td>416.634</td>\n",
              "      <td>5.900</td>\n",
              "      <td>0.000</td>\n",
              "      <td>6.556</td>\n",
              "      <td>139.666</td>\n",
              "      <td>25.624</td>\n",
              "      <td>38.000</td>\n",
              "      <td>39.000</td>\n",
              "      <td>56278</td>\n",
              "    </tr>\n",
              "    <tr>\n",
              "      <th>2</th>\n",
              "      <td>2018-04-032018-04-03</td>\n",
              "      <td>427.032</td>\n",
              "      <td>5.822</td>\n",
              "      <td>0.000</td>\n",
              "      <td>5.380</td>\n",
              "      <td>149.758</td>\n",
              "      <td>20.624</td>\n",
              "      <td>30.632</td>\n",
              "      <td>38.226</td>\n",
              "      <td>53634</td>\n",
              "    </tr>\n",
              "    <tr>\n",
              "      <th>3</th>\n",
              "      <td>2018-04-042018-04-04</td>\n",
              "      <td>287.672</td>\n",
              "      <td>7.384</td>\n",
              "      <td>0.850</td>\n",
              "      <td>6.276</td>\n",
              "      <td>143.698</td>\n",
              "      <td>16.624</td>\n",
              "      <td>24.736</td>\n",
              "      <td>86.986</td>\n",
              "      <td>52068</td>\n",
              "    </tr>\n",
              "    <tr>\n",
              "      <th>4</th>\n",
              "      <td>2018-04-052018-04-05</td>\n",
              "      <td>191.810</td>\n",
              "      <td>8.000</td>\n",
              "      <td>1.446</td>\n",
              "      <td>6.372</td>\n",
              "      <td>147.568</td>\n",
              "      <td>11.750</td>\n",
              "      <td>20.842</td>\n",
              "      <td>126.756</td>\n",
              "      <td>5666</td>\n",
              "    </tr>\n",
              "    <tr>\n",
              "      <th>...</th>\n",
              "      <td>...</td>\n",
              "      <td>...</td>\n",
              "      <td>...</td>\n",
              "      <td>...</td>\n",
              "      <td>...</td>\n",
              "      <td>...</td>\n",
              "      <td>...</td>\n",
              "      <td>...</td>\n",
              "      <td>...</td>\n",
              "      <td>...</td>\n",
              "    </tr>\n",
              "    <tr>\n",
              "      <th>268</th>\n",
              "      <td>2020-06-262020-06-26</td>\n",
              "      <td>457.324</td>\n",
              "      <td>7.960</td>\n",
              "      <td>0.446</td>\n",
              "      <td>4.542</td>\n",
              "      <td>156.756</td>\n",
              "      <td>41.000</td>\n",
              "      <td>55.052</td>\n",
              "      <td>72.972</td>\n",
              "      <td>192300</td>\n",
              "    </tr>\n",
              "    <tr>\n",
              "      <th>269</th>\n",
              "      <td>2020-06-272020-06-27</td>\n",
              "      <td>415.540</td>\n",
              "      <td>5.730</td>\n",
              "      <td>0.162</td>\n",
              "      <td>3.588</td>\n",
              "      <td>156.824</td>\n",
              "      <td>41.624</td>\n",
              "      <td>57.684</td>\n",
              "      <td>42.162</td>\n",
              "      <td>214002</td>\n",
              "    </tr>\n",
              "    <tr>\n",
              "      <th>270</th>\n",
              "      <td>2020-06-282020-06-28</td>\n",
              "      <td>565.136</td>\n",
              "      <td>3.460</td>\n",
              "      <td>0.000</td>\n",
              "      <td>3.640</td>\n",
              "      <td>145.472</td>\n",
              "      <td>42.000</td>\n",
              "      <td>58.106</td>\n",
              "      <td>14.594</td>\n",
              "      <td>197136</td>\n",
              "    </tr>\n",
              "    <tr>\n",
              "      <th>271</th>\n",
              "      <td>2020-06-292020-06-29</td>\n",
              "      <td>274.054</td>\n",
              "      <td>4.514</td>\n",
              "      <td>0.176</td>\n",
              "      <td>4.086</td>\n",
              "      <td>140.946</td>\n",
              "      <td>39.250</td>\n",
              "      <td>52.000</td>\n",
              "      <td>31.082</td>\n",
              "      <td>140106</td>\n",
              "    </tr>\n",
              "    <tr>\n",
              "      <th>272</th>\n",
              "      <td>2020-06-302020-06-30</td>\n",
              "      <td>241.594</td>\n",
              "      <td>7.244</td>\n",
              "      <td>0.864</td>\n",
              "      <td>11.148</td>\n",
              "      <td>154.122</td>\n",
              "      <td>38.250</td>\n",
              "      <td>52.106</td>\n",
              "      <td>82.568</td>\n",
              "      <td>76172</td>\n",
              "    </tr>\n",
              "  </tbody>\n",
              "</table>\n",
              "<p>273 rows × 10 columns</p>\n",
              "</div>\n",
              "      <button class=\"colab-df-convert\" onclick=\"convertToInteractive('df-45cc1f30-2585-45e0-a6e4-c2d9ef9daa1f')\"\n",
              "              title=\"Convert this dataframe to an interactive table.\"\n",
              "              style=\"display:none;\">\n",
              "        \n",
              "  <svg xmlns=\"http://www.w3.org/2000/svg\" height=\"24px\"viewBox=\"0 0 24 24\"\n",
              "       width=\"24px\">\n",
              "    <path d=\"M0 0h24v24H0V0z\" fill=\"none\"/>\n",
              "    <path d=\"M18.56 5.44l.94 2.06.94-2.06 2.06-.94-2.06-.94-.94-2.06-.94 2.06-2.06.94zm-11 1L8.5 8.5l.94-2.06 2.06-.94-2.06-.94L8.5 2.5l-.94 2.06-2.06.94zm10 10l.94 2.06.94-2.06 2.06-.94-2.06-.94-.94-2.06-.94 2.06-2.06.94z\"/><path d=\"M17.41 7.96l-1.37-1.37c-.4-.4-.92-.59-1.43-.59-.52 0-1.04.2-1.43.59L10.3 9.45l-7.72 7.72c-.78.78-.78 2.05 0 2.83L4 21.41c.39.39.9.59 1.41.59.51 0 1.02-.2 1.41-.59l7.78-7.78 2.81-2.81c.8-.78.8-2.07 0-2.86zM5.41 20L4 18.59l7.72-7.72 1.47 1.35L5.41 20z\"/>\n",
              "  </svg>\n",
              "      </button>\n",
              "      \n",
              "  <style>\n",
              "    .colab-df-container {\n",
              "      display:flex;\n",
              "      flex-wrap:wrap;\n",
              "      gap: 12px;\n",
              "    }\n",
              "\n",
              "    .colab-df-convert {\n",
              "      background-color: #E8F0FE;\n",
              "      border: none;\n",
              "      border-radius: 50%;\n",
              "      cursor: pointer;\n",
              "      display: none;\n",
              "      fill: #1967D2;\n",
              "      height: 32px;\n",
              "      padding: 0 0 0 0;\n",
              "      width: 32px;\n",
              "    }\n",
              "\n",
              "    .colab-df-convert:hover {\n",
              "      background-color: #E2EBFA;\n",
              "      box-shadow: 0px 1px 2px rgba(60, 64, 67, 0.3), 0px 1px 3px 1px rgba(60, 64, 67, 0.15);\n",
              "      fill: #174EA6;\n",
              "    }\n",
              "\n",
              "    [theme=dark] .colab-df-convert {\n",
              "      background-color: #3B4455;\n",
              "      fill: #D2E3FC;\n",
              "    }\n",
              "\n",
              "    [theme=dark] .colab-df-convert:hover {\n",
              "      background-color: #434B5C;\n",
              "      box-shadow: 0px 1px 3px 1px rgba(0, 0, 0, 0.15);\n",
              "      filter: drop-shadow(0px 1px 2px rgba(0, 0, 0, 0.3));\n",
              "      fill: #FFFFFF;\n",
              "    }\n",
              "  </style>\n",
              "\n",
              "      <script>\n",
              "        const buttonEl =\n",
              "          document.querySelector('#df-45cc1f30-2585-45e0-a6e4-c2d9ef9daa1f button.colab-df-convert');\n",
              "        buttonEl.style.display =\n",
              "          google.colab.kernel.accessAllowed ? 'block' : 'none';\n",
              "\n",
              "        async function convertToInteractive(key) {\n",
              "          const element = document.querySelector('#df-45cc1f30-2585-45e0-a6e4-c2d9ef9daa1f');\n",
              "          const dataTable =\n",
              "            await google.colab.kernel.invokeFunction('convertToInteractive',\n",
              "                                                     [key], {});\n",
              "          if (!dataTable) return;\n",
              "\n",
              "          const docLinkHtml = 'Like what you see? Visit the ' +\n",
              "            '<a target=\"_blank\" href=https://colab.research.google.com/notebooks/data_table.ipynb>data table notebook</a>'\n",
              "            + ' to learn more about interactive tables.';\n",
              "          element.innerHTML = '';\n",
              "          dataTable['output_type'] = 'display_data';\n",
              "          await google.colab.output.renderOutput(dataTable, element);\n",
              "          const docLink = document.createElement('div');\n",
              "          docLink.innerHTML = docLinkHtml;\n",
              "          element.appendChild(docLink);\n",
              "        }\n",
              "      </script>\n",
              "    </div>\n",
              "  </div>\n",
              "  "
            ]
          },
          "metadata": {},
          "execution_count": 18
        }
      ]
    },
    {
      "cell_type": "code",
      "source": [
        "# train.map(lambda x : x*2) 불가능"
      ],
      "metadata": {
        "id": "UAl1JQ9Ox17v"
      },
      "execution_count": 19,
      "outputs": []
    },
    {
      "cell_type": "code",
      "source": [
        "# map은 특정열에서만 적용가능\n",
        "train['date_time'].map(lambda x : x*2)"
      ],
      "metadata": {
        "colab": {
          "base_uri": "https://localhost:8080/"
        },
        "id": "ivKpTFwg2ZQE",
        "outputId": "1a9a5831-49b1-499d-e4f9-3e4e7419d296"
      },
      "execution_count": 20,
      "outputs": [
        {
          "output_type": "execute_result",
          "data": {
            "text/plain": [
              "0      2018-04-012018-04-01\n",
              "1      2018-04-022018-04-02\n",
              "2      2018-04-032018-04-03\n",
              "3      2018-04-042018-04-04\n",
              "4      2018-04-052018-04-05\n",
              "               ...         \n",
              "268    2020-06-262020-06-26\n",
              "269    2020-06-272020-06-27\n",
              "270    2020-06-282020-06-28\n",
              "271    2020-06-292020-06-29\n",
              "272    2020-06-302020-06-30\n",
              "Name: date_time, Length: 273, dtype: object"
            ]
          },
          "metadata": {},
          "execution_count": 20
        }
      ]
    },
    {
      "cell_type": "code",
      "source": [
        "#바꾸길 원하는 것에 더블클릭후 컨트롤 D 누르면 다중선택 가능 그리고 바로 변경 가능\n",
        "\n",
        "train['year'] = train['date_time'].apply(lambda x : x.split('-')[0]) #년\n",
        "train['month'] = train['date_time'].apply(lambda x : x.split('-')[1]) #월\n",
        "train['day'] = train['date_time'].apply(lambda x : x.split('-')[2]) #일\n",
        "\n",
        "# 혹은 \n",
        "#train['year'] = train['date_time'].map(lambda x : x.split('-')[0]) #년\n",
        "#train['month'] = train['date_time'].map(lambda x : x.split('-')[1]) #월\n",
        "#train['day'] = train['date_time'].map(lambda x : x.split('-')[2]) #일"
      ],
      "metadata": {
        "id": "Vwg0uVoX2hkL"
      },
      "execution_count": 21,
      "outputs": []
    },
    {
      "cell_type": "code",
      "source": [
        "train.head()"
      ],
      "metadata": {
        "colab": {
          "base_uri": "https://localhost:8080/",
          "height": 270
        },
        "id": "V7m4rcqk3Esi",
        "outputId": "69577043-4cab-48d7-feb2-2c0ae01b9137"
      },
      "execution_count": 22,
      "outputs": [
        {
          "output_type": "execute_result",
          "data": {
            "text/plain": [
              "    date_time  wind_direction  sky_condition  precipitation_form  wind_speed  \\\n",
              "0  2018-04-01         207.500          4.000               0.000       3.050   \n",
              "1  2018-04-02         208.317          2.950               0.000       3.278   \n",
              "2  2018-04-03         213.516          2.911               0.000       2.690   \n",
              "3  2018-04-04         143.836          3.692               0.425       3.138   \n",
              "4  2018-04-05          95.905          4.000               0.723       3.186   \n",
              "\n",
              "   humidity  low_temp  high_temp  Precipitation_Probability  \\\n",
              "0    75.000    12.600     21.000                     30.000   \n",
              "1    69.833    12.812     19.000                     19.500   \n",
              "2    74.879    10.312     15.316                     19.113   \n",
              "3    71.849     8.312     12.368                     43.493   \n",
              "4    73.784     5.875     10.421                     63.378   \n",
              "\n",
              "   number_of_rentals  year month day  \n",
              "0              22994  2018    04  01  \n",
              "1              28139  2018    04  02  \n",
              "2              26817  2018    04  03  \n",
              "3              26034  2018    04  04  \n",
              "4               2833  2018    04  05  "
            ],
            "text/html": [
              "\n",
              "  <div id=\"df-b2aed138-e8c2-4e26-9546-c1f5bd6bd4cd\">\n",
              "    <div class=\"colab-df-container\">\n",
              "      <div>\n",
              "<style scoped>\n",
              "    .dataframe tbody tr th:only-of-type {\n",
              "        vertical-align: middle;\n",
              "    }\n",
              "\n",
              "    .dataframe tbody tr th {\n",
              "        vertical-align: top;\n",
              "    }\n",
              "\n",
              "    .dataframe thead th {\n",
              "        text-align: right;\n",
              "    }\n",
              "</style>\n",
              "<table border=\"1\" class=\"dataframe\">\n",
              "  <thead>\n",
              "    <tr style=\"text-align: right;\">\n",
              "      <th></th>\n",
              "      <th>date_time</th>\n",
              "      <th>wind_direction</th>\n",
              "      <th>sky_condition</th>\n",
              "      <th>precipitation_form</th>\n",
              "      <th>wind_speed</th>\n",
              "      <th>humidity</th>\n",
              "      <th>low_temp</th>\n",
              "      <th>high_temp</th>\n",
              "      <th>Precipitation_Probability</th>\n",
              "      <th>number_of_rentals</th>\n",
              "      <th>year</th>\n",
              "      <th>month</th>\n",
              "      <th>day</th>\n",
              "    </tr>\n",
              "  </thead>\n",
              "  <tbody>\n",
              "    <tr>\n",
              "      <th>0</th>\n",
              "      <td>2018-04-01</td>\n",
              "      <td>207.500</td>\n",
              "      <td>4.000</td>\n",
              "      <td>0.000</td>\n",
              "      <td>3.050</td>\n",
              "      <td>75.000</td>\n",
              "      <td>12.600</td>\n",
              "      <td>21.000</td>\n",
              "      <td>30.000</td>\n",
              "      <td>22994</td>\n",
              "      <td>2018</td>\n",
              "      <td>04</td>\n",
              "      <td>01</td>\n",
              "    </tr>\n",
              "    <tr>\n",
              "      <th>1</th>\n",
              "      <td>2018-04-02</td>\n",
              "      <td>208.317</td>\n",
              "      <td>2.950</td>\n",
              "      <td>0.000</td>\n",
              "      <td>3.278</td>\n",
              "      <td>69.833</td>\n",
              "      <td>12.812</td>\n",
              "      <td>19.000</td>\n",
              "      <td>19.500</td>\n",
              "      <td>28139</td>\n",
              "      <td>2018</td>\n",
              "      <td>04</td>\n",
              "      <td>02</td>\n",
              "    </tr>\n",
              "    <tr>\n",
              "      <th>2</th>\n",
              "      <td>2018-04-03</td>\n",
              "      <td>213.516</td>\n",
              "      <td>2.911</td>\n",
              "      <td>0.000</td>\n",
              "      <td>2.690</td>\n",
              "      <td>74.879</td>\n",
              "      <td>10.312</td>\n",
              "      <td>15.316</td>\n",
              "      <td>19.113</td>\n",
              "      <td>26817</td>\n",
              "      <td>2018</td>\n",
              "      <td>04</td>\n",
              "      <td>03</td>\n",
              "    </tr>\n",
              "    <tr>\n",
              "      <th>3</th>\n",
              "      <td>2018-04-04</td>\n",
              "      <td>143.836</td>\n",
              "      <td>3.692</td>\n",
              "      <td>0.425</td>\n",
              "      <td>3.138</td>\n",
              "      <td>71.849</td>\n",
              "      <td>8.312</td>\n",
              "      <td>12.368</td>\n",
              "      <td>43.493</td>\n",
              "      <td>26034</td>\n",
              "      <td>2018</td>\n",
              "      <td>04</td>\n",
              "      <td>04</td>\n",
              "    </tr>\n",
              "    <tr>\n",
              "      <th>4</th>\n",
              "      <td>2018-04-05</td>\n",
              "      <td>95.905</td>\n",
              "      <td>4.000</td>\n",
              "      <td>0.723</td>\n",
              "      <td>3.186</td>\n",
              "      <td>73.784</td>\n",
              "      <td>5.875</td>\n",
              "      <td>10.421</td>\n",
              "      <td>63.378</td>\n",
              "      <td>2833</td>\n",
              "      <td>2018</td>\n",
              "      <td>04</td>\n",
              "      <td>05</td>\n",
              "    </tr>\n",
              "  </tbody>\n",
              "</table>\n",
              "</div>\n",
              "      <button class=\"colab-df-convert\" onclick=\"convertToInteractive('df-b2aed138-e8c2-4e26-9546-c1f5bd6bd4cd')\"\n",
              "              title=\"Convert this dataframe to an interactive table.\"\n",
              "              style=\"display:none;\">\n",
              "        \n",
              "  <svg xmlns=\"http://www.w3.org/2000/svg\" height=\"24px\"viewBox=\"0 0 24 24\"\n",
              "       width=\"24px\">\n",
              "    <path d=\"M0 0h24v24H0V0z\" fill=\"none\"/>\n",
              "    <path d=\"M18.56 5.44l.94 2.06.94-2.06 2.06-.94-2.06-.94-.94-2.06-.94 2.06-2.06.94zm-11 1L8.5 8.5l.94-2.06 2.06-.94-2.06-.94L8.5 2.5l-.94 2.06-2.06.94zm10 10l.94 2.06.94-2.06 2.06-.94-2.06-.94-.94-2.06-.94 2.06-2.06.94z\"/><path d=\"M17.41 7.96l-1.37-1.37c-.4-.4-.92-.59-1.43-.59-.52 0-1.04.2-1.43.59L10.3 9.45l-7.72 7.72c-.78.78-.78 2.05 0 2.83L4 21.41c.39.39.9.59 1.41.59.51 0 1.02-.2 1.41-.59l7.78-7.78 2.81-2.81c.8-.78.8-2.07 0-2.86zM5.41 20L4 18.59l7.72-7.72 1.47 1.35L5.41 20z\"/>\n",
              "  </svg>\n",
              "      </button>\n",
              "      \n",
              "  <style>\n",
              "    .colab-df-container {\n",
              "      display:flex;\n",
              "      flex-wrap:wrap;\n",
              "      gap: 12px;\n",
              "    }\n",
              "\n",
              "    .colab-df-convert {\n",
              "      background-color: #E8F0FE;\n",
              "      border: none;\n",
              "      border-radius: 50%;\n",
              "      cursor: pointer;\n",
              "      display: none;\n",
              "      fill: #1967D2;\n",
              "      height: 32px;\n",
              "      padding: 0 0 0 0;\n",
              "      width: 32px;\n",
              "    }\n",
              "\n",
              "    .colab-df-convert:hover {\n",
              "      background-color: #E2EBFA;\n",
              "      box-shadow: 0px 1px 2px rgba(60, 64, 67, 0.3), 0px 1px 3px 1px rgba(60, 64, 67, 0.15);\n",
              "      fill: #174EA6;\n",
              "    }\n",
              "\n",
              "    [theme=dark] .colab-df-convert {\n",
              "      background-color: #3B4455;\n",
              "      fill: #D2E3FC;\n",
              "    }\n",
              "\n",
              "    [theme=dark] .colab-df-convert:hover {\n",
              "      background-color: #434B5C;\n",
              "      box-shadow: 0px 1px 3px 1px rgba(0, 0, 0, 0.15);\n",
              "      filter: drop-shadow(0px 1px 2px rgba(0, 0, 0, 0.3));\n",
              "      fill: #FFFFFF;\n",
              "    }\n",
              "  </style>\n",
              "\n",
              "      <script>\n",
              "        const buttonEl =\n",
              "          document.querySelector('#df-b2aed138-e8c2-4e26-9546-c1f5bd6bd4cd button.colab-df-convert');\n",
              "        buttonEl.style.display =\n",
              "          google.colab.kernel.accessAllowed ? 'block' : 'none';\n",
              "\n",
              "        async function convertToInteractive(key) {\n",
              "          const element = document.querySelector('#df-b2aed138-e8c2-4e26-9546-c1f5bd6bd4cd');\n",
              "          const dataTable =\n",
              "            await google.colab.kernel.invokeFunction('convertToInteractive',\n",
              "                                                     [key], {});\n",
              "          if (!dataTable) return;\n",
              "\n",
              "          const docLinkHtml = 'Like what you see? Visit the ' +\n",
              "            '<a target=\"_blank\" href=https://colab.research.google.com/notebooks/data_table.ipynb>data table notebook</a>'\n",
              "            + ' to learn more about interactive tables.';\n",
              "          element.innerHTML = '';\n",
              "          dataTable['output_type'] = 'display_data';\n",
              "          await google.colab.output.renderOutput(dataTable, element);\n",
              "          const docLink = document.createElement('div');\n",
              "          docLink.innerHTML = docLinkHtml;\n",
              "          element.appendChild(docLink);\n",
              "        }\n",
              "      </script>\n",
              "    </div>\n",
              "  </div>\n",
              "  "
            ]
          },
          "metadata": {},
          "execution_count": 22
        }
      ]
    },
    {
      "cell_type": "markdown",
      "source": [
        "## 2.2. 요일 정보 추가 (week_day 열 생성)"
      ],
      "metadata": {
        "id": "QM-NGtQz3osb"
      }
    },
    {
      "cell_type": "code",
      "source": [
        "week_day = pd.to_datetime(train['date_time']).dt.day_name()\n",
        "week_day"
      ],
      "metadata": {
        "colab": {
          "base_uri": "https://localhost:8080/"
        },
        "id": "Na1ENuv73Gjd",
        "outputId": "50209446-4f03-49ed-c6d5-708e8aaf6e54"
      },
      "execution_count": 23,
      "outputs": [
        {
          "output_type": "execute_result",
          "data": {
            "text/plain": [
              "0         Sunday\n",
              "1         Monday\n",
              "2        Tuesday\n",
              "3      Wednesday\n",
              "4       Thursday\n",
              "         ...    \n",
              "268       Friday\n",
              "269     Saturday\n",
              "270       Sunday\n",
              "271       Monday\n",
              "272      Tuesday\n",
              "Name: date_time, Length: 273, dtype: object"
            ]
          },
          "metadata": {},
          "execution_count": 23
        }
      ]
    },
    {
      "cell_type": "code",
      "source": [
        "train['week_day']= week_day"
      ],
      "metadata": {
        "id": "Zc9o80Rw7IuT"
      },
      "execution_count": 24,
      "outputs": []
    },
    {
      "cell_type": "code",
      "source": [
        "train.head()"
      ],
      "metadata": {
        "colab": {
          "base_uri": "https://localhost:8080/",
          "height": 270
        },
        "id": "DGDKvP_w30JD",
        "outputId": "9224a36e-27d0-40e0-9b47-056abf85d2e5"
      },
      "execution_count": 25,
      "outputs": [
        {
          "output_type": "execute_result",
          "data": {
            "text/plain": [
              "    date_time  wind_direction  sky_condition  precipitation_form  wind_speed  \\\n",
              "0  2018-04-01         207.500          4.000               0.000       3.050   \n",
              "1  2018-04-02         208.317          2.950               0.000       3.278   \n",
              "2  2018-04-03         213.516          2.911               0.000       2.690   \n",
              "3  2018-04-04         143.836          3.692               0.425       3.138   \n",
              "4  2018-04-05          95.905          4.000               0.723       3.186   \n",
              "\n",
              "   humidity  low_temp  high_temp  Precipitation_Probability  \\\n",
              "0    75.000    12.600     21.000                     30.000   \n",
              "1    69.833    12.812     19.000                     19.500   \n",
              "2    74.879    10.312     15.316                     19.113   \n",
              "3    71.849     8.312     12.368                     43.493   \n",
              "4    73.784     5.875     10.421                     63.378   \n",
              "\n",
              "   number_of_rentals  year month day   week_day  \n",
              "0              22994  2018    04  01     Sunday  \n",
              "1              28139  2018    04  02     Monday  \n",
              "2              26817  2018    04  03    Tuesday  \n",
              "3              26034  2018    04  04  Wednesday  \n",
              "4               2833  2018    04  05   Thursday  "
            ],
            "text/html": [
              "\n",
              "  <div id=\"df-723967a6-efcc-4849-82f0-16b6351869e5\">\n",
              "    <div class=\"colab-df-container\">\n",
              "      <div>\n",
              "<style scoped>\n",
              "    .dataframe tbody tr th:only-of-type {\n",
              "        vertical-align: middle;\n",
              "    }\n",
              "\n",
              "    .dataframe tbody tr th {\n",
              "        vertical-align: top;\n",
              "    }\n",
              "\n",
              "    .dataframe thead th {\n",
              "        text-align: right;\n",
              "    }\n",
              "</style>\n",
              "<table border=\"1\" class=\"dataframe\">\n",
              "  <thead>\n",
              "    <tr style=\"text-align: right;\">\n",
              "      <th></th>\n",
              "      <th>date_time</th>\n",
              "      <th>wind_direction</th>\n",
              "      <th>sky_condition</th>\n",
              "      <th>precipitation_form</th>\n",
              "      <th>wind_speed</th>\n",
              "      <th>humidity</th>\n",
              "      <th>low_temp</th>\n",
              "      <th>high_temp</th>\n",
              "      <th>Precipitation_Probability</th>\n",
              "      <th>number_of_rentals</th>\n",
              "      <th>year</th>\n",
              "      <th>month</th>\n",
              "      <th>day</th>\n",
              "      <th>week_day</th>\n",
              "    </tr>\n",
              "  </thead>\n",
              "  <tbody>\n",
              "    <tr>\n",
              "      <th>0</th>\n",
              "      <td>2018-04-01</td>\n",
              "      <td>207.500</td>\n",
              "      <td>4.000</td>\n",
              "      <td>0.000</td>\n",
              "      <td>3.050</td>\n",
              "      <td>75.000</td>\n",
              "      <td>12.600</td>\n",
              "      <td>21.000</td>\n",
              "      <td>30.000</td>\n",
              "      <td>22994</td>\n",
              "      <td>2018</td>\n",
              "      <td>04</td>\n",
              "      <td>01</td>\n",
              "      <td>Sunday</td>\n",
              "    </tr>\n",
              "    <tr>\n",
              "      <th>1</th>\n",
              "      <td>2018-04-02</td>\n",
              "      <td>208.317</td>\n",
              "      <td>2.950</td>\n",
              "      <td>0.000</td>\n",
              "      <td>3.278</td>\n",
              "      <td>69.833</td>\n",
              "      <td>12.812</td>\n",
              "      <td>19.000</td>\n",
              "      <td>19.500</td>\n",
              "      <td>28139</td>\n",
              "      <td>2018</td>\n",
              "      <td>04</td>\n",
              "      <td>02</td>\n",
              "      <td>Monday</td>\n",
              "    </tr>\n",
              "    <tr>\n",
              "      <th>2</th>\n",
              "      <td>2018-04-03</td>\n",
              "      <td>213.516</td>\n",
              "      <td>2.911</td>\n",
              "      <td>0.000</td>\n",
              "      <td>2.690</td>\n",
              "      <td>74.879</td>\n",
              "      <td>10.312</td>\n",
              "      <td>15.316</td>\n",
              "      <td>19.113</td>\n",
              "      <td>26817</td>\n",
              "      <td>2018</td>\n",
              "      <td>04</td>\n",
              "      <td>03</td>\n",
              "      <td>Tuesday</td>\n",
              "    </tr>\n",
              "    <tr>\n",
              "      <th>3</th>\n",
              "      <td>2018-04-04</td>\n",
              "      <td>143.836</td>\n",
              "      <td>3.692</td>\n",
              "      <td>0.425</td>\n",
              "      <td>3.138</td>\n",
              "      <td>71.849</td>\n",
              "      <td>8.312</td>\n",
              "      <td>12.368</td>\n",
              "      <td>43.493</td>\n",
              "      <td>26034</td>\n",
              "      <td>2018</td>\n",
              "      <td>04</td>\n",
              "      <td>04</td>\n",
              "      <td>Wednesday</td>\n",
              "    </tr>\n",
              "    <tr>\n",
              "      <th>4</th>\n",
              "      <td>2018-04-05</td>\n",
              "      <td>95.905</td>\n",
              "      <td>4.000</td>\n",
              "      <td>0.723</td>\n",
              "      <td>3.186</td>\n",
              "      <td>73.784</td>\n",
              "      <td>5.875</td>\n",
              "      <td>10.421</td>\n",
              "      <td>63.378</td>\n",
              "      <td>2833</td>\n",
              "      <td>2018</td>\n",
              "      <td>04</td>\n",
              "      <td>05</td>\n",
              "      <td>Thursday</td>\n",
              "    </tr>\n",
              "  </tbody>\n",
              "</table>\n",
              "</div>\n",
              "      <button class=\"colab-df-convert\" onclick=\"convertToInteractive('df-723967a6-efcc-4849-82f0-16b6351869e5')\"\n",
              "              title=\"Convert this dataframe to an interactive table.\"\n",
              "              style=\"display:none;\">\n",
              "        \n",
              "  <svg xmlns=\"http://www.w3.org/2000/svg\" height=\"24px\"viewBox=\"0 0 24 24\"\n",
              "       width=\"24px\">\n",
              "    <path d=\"M0 0h24v24H0V0z\" fill=\"none\"/>\n",
              "    <path d=\"M18.56 5.44l.94 2.06.94-2.06 2.06-.94-2.06-.94-.94-2.06-.94 2.06-2.06.94zm-11 1L8.5 8.5l.94-2.06 2.06-.94-2.06-.94L8.5 2.5l-.94 2.06-2.06.94zm10 10l.94 2.06.94-2.06 2.06-.94-2.06-.94-.94-2.06-.94 2.06-2.06.94z\"/><path d=\"M17.41 7.96l-1.37-1.37c-.4-.4-.92-.59-1.43-.59-.52 0-1.04.2-1.43.59L10.3 9.45l-7.72 7.72c-.78.78-.78 2.05 0 2.83L4 21.41c.39.39.9.59 1.41.59.51 0 1.02-.2 1.41-.59l7.78-7.78 2.81-2.81c.8-.78.8-2.07 0-2.86zM5.41 20L4 18.59l7.72-7.72 1.47 1.35L5.41 20z\"/>\n",
              "  </svg>\n",
              "      </button>\n",
              "      \n",
              "  <style>\n",
              "    .colab-df-container {\n",
              "      display:flex;\n",
              "      flex-wrap:wrap;\n",
              "      gap: 12px;\n",
              "    }\n",
              "\n",
              "    .colab-df-convert {\n",
              "      background-color: #E8F0FE;\n",
              "      border: none;\n",
              "      border-radius: 50%;\n",
              "      cursor: pointer;\n",
              "      display: none;\n",
              "      fill: #1967D2;\n",
              "      height: 32px;\n",
              "      padding: 0 0 0 0;\n",
              "      width: 32px;\n",
              "    }\n",
              "\n",
              "    .colab-df-convert:hover {\n",
              "      background-color: #E2EBFA;\n",
              "      box-shadow: 0px 1px 2px rgba(60, 64, 67, 0.3), 0px 1px 3px 1px rgba(60, 64, 67, 0.15);\n",
              "      fill: #174EA6;\n",
              "    }\n",
              "\n",
              "    [theme=dark] .colab-df-convert {\n",
              "      background-color: #3B4455;\n",
              "      fill: #D2E3FC;\n",
              "    }\n",
              "\n",
              "    [theme=dark] .colab-df-convert:hover {\n",
              "      background-color: #434B5C;\n",
              "      box-shadow: 0px 1px 3px 1px rgba(0, 0, 0, 0.15);\n",
              "      filter: drop-shadow(0px 1px 2px rgba(0, 0, 0, 0.3));\n",
              "      fill: #FFFFFF;\n",
              "    }\n",
              "  </style>\n",
              "\n",
              "      <script>\n",
              "        const buttonEl =\n",
              "          document.querySelector('#df-723967a6-efcc-4849-82f0-16b6351869e5 button.colab-df-convert');\n",
              "        buttonEl.style.display =\n",
              "          google.colab.kernel.accessAllowed ? 'block' : 'none';\n",
              "\n",
              "        async function convertToInteractive(key) {\n",
              "          const element = document.querySelector('#df-723967a6-efcc-4849-82f0-16b6351869e5');\n",
              "          const dataTable =\n",
              "            await google.colab.kernel.invokeFunction('convertToInteractive',\n",
              "                                                     [key], {});\n",
              "          if (!dataTable) return;\n",
              "\n",
              "          const docLinkHtml = 'Like what you see? Visit the ' +\n",
              "            '<a target=\"_blank\" href=https://colab.research.google.com/notebooks/data_table.ipynb>data table notebook</a>'\n",
              "            + ' to learn more about interactive tables.';\n",
              "          element.innerHTML = '';\n",
              "          dataTable['output_type'] = 'display_data';\n",
              "          await google.colab.output.renderOutput(dataTable, element);\n",
              "          const docLink = document.createElement('div');\n",
              "          docLink.innerHTML = docLinkHtml;\n",
              "          element.appendChild(docLink);\n",
              "        }\n",
              "      </script>\n",
              "    </div>\n",
              "  </div>\n",
              "  "
            ]
          },
          "metadata": {},
          "execution_count": 25
        }
      ]
    },
    {
      "cell_type": "markdown",
      "source": [
        "## 2.3. 가공한 변수 타입 변경"
      ],
      "metadata": {
        "id": "0HJg_XYf4G7J"
      }
    },
    {
      "cell_type": "code",
      "source": [
        "train.info()"
      ],
      "metadata": {
        "colab": {
          "base_uri": "https://localhost:8080/"
        },
        "id": "hTqtztwoybTy",
        "outputId": "b3c33c0e-cf0b-4aed-e635-90e8459a3f99"
      },
      "execution_count": 26,
      "outputs": [
        {
          "output_type": "stream",
          "name": "stdout",
          "text": [
            "<class 'pandas.core.frame.DataFrame'>\n",
            "RangeIndex: 273 entries, 0 to 272\n",
            "Data columns (total 14 columns):\n",
            " #   Column                     Non-Null Count  Dtype  \n",
            "---  ------                     --------------  -----  \n",
            " 0   date_time                  273 non-null    object \n",
            " 1   wind_direction             273 non-null    float64\n",
            " 2   sky_condition              273 non-null    float64\n",
            " 3   precipitation_form         273 non-null    float64\n",
            " 4   wind_speed                 273 non-null    float64\n",
            " 5   humidity                   273 non-null    float64\n",
            " 6   low_temp                   273 non-null    float64\n",
            " 7   high_temp                  273 non-null    float64\n",
            " 8   Precipitation_Probability  273 non-null    float64\n",
            " 9   number_of_rentals          273 non-null    int64  \n",
            " 10  year                       273 non-null    object \n",
            " 11  month                      273 non-null    object \n",
            " 12  day                        273 non-null    object \n",
            " 13  week_day                   273 non-null    object \n",
            "dtypes: float64(8), int64(1), object(5)\n",
            "memory usage: 30.0+ KB\n"
          ]
        }
      ]
    },
    {
      "cell_type": "code",
      "source": [
        "#train['year'] = train['year'].apply(lambda x : int(x)) -> astype 과 같은 방법 같은 결과 도출\n",
        "train['year'] = train['year'].astype('int')"
      ],
      "metadata": {
        "id": "8tPEt83A4cYp"
      },
      "execution_count": 27,
      "outputs": []
    },
    {
      "cell_type": "code",
      "source": [
        "train['month'] = train['month'].astype('int')\n",
        "train['day'] = train['day'].astype('int')"
      ],
      "metadata": {
        "id": "wlb6rtyj4ufa"
      },
      "execution_count": 28,
      "outputs": []
    },
    {
      "cell_type": "code",
      "source": [
        "train.week_day.unique()"
      ],
      "metadata": {
        "colab": {
          "base_uri": "https://localhost:8080/"
        },
        "id": "q64Ljcde5DqH",
        "outputId": "fac269ec-4a8a-426c-9bfe-16902bf8d773"
      },
      "execution_count": 29,
      "outputs": [
        {
          "output_type": "execute_result",
          "data": {
            "text/plain": [
              "array(['Sunday', 'Monday', 'Tuesday', 'Wednesday', 'Thursday', 'Friday',\n",
              "       'Saturday'], dtype=object)"
            ]
          },
          "metadata": {},
          "execution_count": 29
        }
      ]
    },
    {
      "cell_type": "code",
      "source": [
        "train.loc[train['week_day'] == 'Sunday', 'week_day'] = 0\n",
        "train.loc[train['week_day'] == 'Monday', 'week_day'] = 1\n",
        "train.loc[train['week_day'] == 'Tuesday', 'week_day'] = 2\n",
        "train.loc[train['week_day'] == 'Wednesday', 'week_day'] = 3\n",
        "train.loc[train['week_day'] == 'Thursday', 'week_day'] = 4\n",
        "train.loc[train['week_day'] == 'Friday', 'week_day'] = 5\n",
        "train.loc[train['week_day'] == 'Saturday', 'week_day'] = 6"
      ],
      "metadata": {
        "id": "psdqTvxm5Jmh"
      },
      "execution_count": 30,
      "outputs": []
    },
    {
      "cell_type": "code",
      "source": [
        "train.info()"
      ],
      "metadata": {
        "colab": {
          "base_uri": "https://localhost:8080/"
        },
        "id": "FNWvJIJm1aBJ",
        "outputId": "7ce983ec-eba0-45fc-c2d9-8149e0f497f6"
      },
      "execution_count": 31,
      "outputs": [
        {
          "output_type": "stream",
          "name": "stdout",
          "text": [
            "<class 'pandas.core.frame.DataFrame'>\n",
            "RangeIndex: 273 entries, 0 to 272\n",
            "Data columns (total 14 columns):\n",
            " #   Column                     Non-Null Count  Dtype  \n",
            "---  ------                     --------------  -----  \n",
            " 0   date_time                  273 non-null    object \n",
            " 1   wind_direction             273 non-null    float64\n",
            " 2   sky_condition              273 non-null    float64\n",
            " 3   precipitation_form         273 non-null    float64\n",
            " 4   wind_speed                 273 non-null    float64\n",
            " 5   humidity                   273 non-null    float64\n",
            " 6   low_temp                   273 non-null    float64\n",
            " 7   high_temp                  273 non-null    float64\n",
            " 8   Precipitation_Probability  273 non-null    float64\n",
            " 9   number_of_rentals          273 non-null    int64  \n",
            " 10  year                       273 non-null    int64  \n",
            " 11  month                      273 non-null    int64  \n",
            " 12  day                        273 non-null    int64  \n",
            " 13  week_day                   273 non-null    object \n",
            "dtypes: float64(8), int64(4), object(2)\n",
            "memory usage: 30.0+ KB\n"
          ]
        }
      ]
    },
    {
      "cell_type": "code",
      "source": [
        "train['week_day'] = train['week_day'].astype('int')"
      ],
      "metadata": {
        "id": "RYSBY3GG5mDU"
      },
      "execution_count": 32,
      "outputs": []
    },
    {
      "cell_type": "code",
      "source": [
        "train.info()"
      ],
      "metadata": {
        "colab": {
          "base_uri": "https://localhost:8080/"
        },
        "id": "QletW-TW5uFw",
        "outputId": "3832a33a-e244-4e66-db2b-4ce75bcf7ee9"
      },
      "execution_count": 33,
      "outputs": [
        {
          "output_type": "stream",
          "name": "stdout",
          "text": [
            "<class 'pandas.core.frame.DataFrame'>\n",
            "RangeIndex: 273 entries, 0 to 272\n",
            "Data columns (total 14 columns):\n",
            " #   Column                     Non-Null Count  Dtype  \n",
            "---  ------                     --------------  -----  \n",
            " 0   date_time                  273 non-null    object \n",
            " 1   wind_direction             273 non-null    float64\n",
            " 2   sky_condition              273 non-null    float64\n",
            " 3   precipitation_form         273 non-null    float64\n",
            " 4   wind_speed                 273 non-null    float64\n",
            " 5   humidity                   273 non-null    float64\n",
            " 6   low_temp                   273 non-null    float64\n",
            " 7   high_temp                  273 non-null    float64\n",
            " 8   Precipitation_Probability  273 non-null    float64\n",
            " 9   number_of_rentals          273 non-null    int64  \n",
            " 10  year                       273 non-null    int64  \n",
            " 11  month                      273 non-null    int64  \n",
            " 12  day                        273 non-null    int64  \n",
            " 13  week_day                   273 non-null    int64  \n",
            "dtypes: float64(8), int64(5), object(1)\n",
            "memory usage: 30.0+ KB\n"
          ]
        }
      ]
    },
    {
      "cell_type": "markdown",
      "source": [
        "# 3. EDA\n",
        "\n",
        "가설 설정\n",
        "\n",
        "1. 주중에 비해서 주말에 따릉이 대여량이 증가 할 것이다.\n",
        "2. 날씨가 덥고 습하다면 따릉이 대여량이 감소 할 것이다.\n",
        "3. 날씨가 춥고 바람이 많이 분다면 따릉이 대여량이 감소 할 것이다."
      ],
      "metadata": {
        "id": "_NlOUxT_-XgR"
      }
    },
    {
      "cell_type": "markdown",
      "source": [
        "## 3.1. 시각화"
      ],
      "metadata": {
        "id": "fMAiIgGm-sZu"
      }
    },
    {
      "cell_type": "code",
      "source": [
        "import matplotlib.pyplot as plt\n",
        "import seaborn as sns \n",
        "\n",
        "%matplotlib inline\n",
        "plt.rcParams['font.size'] = 15\n",
        "plt.style.use('ggplot')\n",
        "plt.rc('font', family='NanumGothic')"
      ],
      "metadata": {
        "id": "65Spy-_05wV_"
      },
      "execution_count": 34,
      "outputs": []
    },
    {
      "cell_type": "markdown",
      "source": [
        "### 3.1.1. Target"
      ],
      "metadata": {
        "id": "lHquW-hx_HRu"
      }
    },
    {
      "cell_type": "code",
      "source": [
        "plt.figure(dpi = 150)\n",
        "\n",
        "x = train['number_of_rentals'].index\n",
        "y = train['number_of_rentals'].values\n",
        "\n",
        "plt.title(\"따릉이 대여량\")\n",
        "plt.xlabel(\"일별\")\n",
        "plt.ylabel(\"일별 따릉이 대여량\")\n",
        "plt.hlines(y=8000, xmin=0, xmax=len(x), color='Orange', linestyle='dotted')\n",
        "plt.plot(x,y)\n",
        "plt.show()"
      ],
      "metadata": {
        "colab": {
          "base_uri": "https://localhost:8080/",
          "height": 549
        },
        "id": "j5Bnh-4x_DXc",
        "outputId": "ef5e777c-9d64-4766-d727-f62412439e52"
      },
      "execution_count": 35,
      "outputs": [
        {
          "output_type": "display_data",
          "data": {
            "text/plain": [
              "<Figure size 900x600 with 1 Axes>"
            ],
            "image/png": "[encoded data removed]"
          },
          "metadata": {}
        }
      ]
    },
    {
      "cell_type": "markdown",
      "source": [
        "* 인사이트\n",
        "\n",
        "1. 시간이 흐를수록 대여량이 증가하고있다 -> 연도별 차이\n",
        "2. 이상치가 존재한다\n",
        "3. 평일에는 출근을 하니까 대여량이 주말보다 많을까? -> 요일별 차이"
      ],
      "metadata": {
        "id": "nyDV0Ikx_zyY"
      }
    },
    {
      "cell_type": "markdown",
      "source": [
        "## 3.1.2. 연도별 따릉이 대여량\n",
        "\n",
        "인사이트1 : 시간이 흐를수록 대여량이 증가하고있다 "
      ],
      "metadata": {
        "id": "FAMrEzmb_-7B"
      }
    },
    {
      "cell_type": "code",
      "source": [
        "month_day = train['month'].astype(str) + '.' + train['day'].astype(str)\n",
        "\n",
        "plt.figure(figsize=(20,10))\n",
        "sns.scatterplot(x=month_day, y=train['number_of_rentals'], hue=train['year']) # hue: 분화하기\n",
        "plt.xticks(rotation=90)\n",
        "plt.title('연도별 따릉이 대여량 비교', fontsize = 30)\n",
        "plt.show()"
      ],
      "metadata": {
        "colab": {
          "base_uri": "https://localhost:8080/",
          "height": 418
        },
        "id": "urwRR0jP_rxX",
        "outputId": "48a061fc-eb1d-46ee-a115-a686dfceed15"
      },
      "execution_count": 36,
      "outputs": [
        {
          "output_type": "display_data",
          "data": {
            "text/plain": [
              "<Figure size 1440x720 with 1 Axes>"
            ],
            "image/png": "[encoded data removed]"
          },
          "metadata": {}
        }
      ]
    },
    {
      "cell_type": "markdown",
      "source": [
        "* 결론\n",
        "\n",
        "Year은 매우 중요한 변수이고,\n",
        "\n",
        "Year을 반영하는 파생 변수를 생성해도 좋겠다!"
      ],
      "metadata": {
        "id": "mqPxKnboA6TB"
      }
    },
    {
      "cell_type": "markdown",
      "source": [
        "## 3.1.3.  평일과 주말 대여량\n",
        "\n",
        "인사이트 3 : 평일에는 출근을 하니까 대여량이 주말보다 많을까?\n",
        "\n",
        "가설 1"
      ],
      "metadata": {
        "id": "uqXFwdP8BLZC"
      }
    },
    {
      "cell_type": "code",
      "source": [
        "weekend = train[(train['week_day'] == 0) | (train['week_day'] == 6)] # 일요일과 토요일 -> 주말을 나타내는 데이터 프레임"
      ],
      "metadata": {
        "id": "jGzvJdVtAoHA"
      },
      "execution_count": 37,
      "outputs": []
    },
    {
      "cell_type": "code",
      "source": [
        "weekday = train[(train['week_day'] != 0) & (train['week_day'] != 6)] # 일요일과 토요일 아닌 -> 평일을 나타내는 데이터 프레임"
      ],
      "metadata": {
        "id": "Gg0OC6f0Be35"
      },
      "execution_count": 38,
      "outputs": []
    },
    {
      "cell_type": "code",
      "source": [
        "weekend.mean().number_of_rentals"
      ],
      "metadata": {
        "colab": {
          "base_uri": "https://localhost:8080/"
        },
        "id": "t4xbcKC9B6lS",
        "outputId": "2d2beffa-b5f1-4acd-f568-44d5760e4073"
      },
      "execution_count": 39,
      "outputs": [
        {
          "output_type": "stream",
          "name": "stderr",
          "text": [
            "/usr/local/lib/python3.7/dist-packages/ipykernel_launcher.py:1: FutureWarning: Dropping of nuisance columns in DataFrame reductions (with 'numeric_only=None') is deprecated; in a future version this will raise TypeError.  Select only valid columns before calling the reduction.\n",
            "  \"\"\"Entry point for launching an IPython kernel.\n"
          ]
        },
        {
          "output_type": "execute_result",
          "data": {
            "text/plain": [
              "58988.64102564102"
            ]
          },
          "metadata": {},
          "execution_count": 39
        }
      ]
    },
    {
      "cell_type": "code",
      "source": [
        "weekday.mean().number_of_rentals"
      ],
      "metadata": {
        "colab": {
          "base_uri": "https://localhost:8080/"
        },
        "id": "MdIwAu0dB_Sh",
        "outputId": "ada2ab0f-14d5-4e43-adc5-dce62b4c4b3c"
      },
      "execution_count": 40,
      "outputs": [
        {
          "output_type": "stream",
          "name": "stderr",
          "text": [
            "/usr/local/lib/python3.7/dist-packages/ipykernel_launcher.py:1: FutureWarning: Dropping of nuisance columns in DataFrame reductions (with 'numeric_only=None') is deprecated; in a future version this will raise TypeError.  Select only valid columns before calling the reduction.\n",
            "  \"\"\"Entry point for launching an IPython kernel.\n"
          ]
        },
        {
          "output_type": "execute_result",
          "data": {
            "text/plain": [
              "59809.51282051282"
            ]
          },
          "metadata": {},
          "execution_count": 40
        }
      ]
    },
    {
      "cell_type": "code",
      "source": [
        "x = ['weekday', 'weekend']\n",
        "y = [weekday.mean().number_of_rentals, weekend.mean().number_of_rentals]\n",
        "\n",
        "plt.figure(figsize = (8,5))\n",
        "plt.title(\"따릉이 대여량 평균\")\n",
        "plt.xlabel('평일/주말')\n",
        "plt.ylabel('대여량')\n",
        "plt.bar(x, y)\n",
        "plt.show()"
      ],
      "metadata": {
        "colab": {
          "base_uri": "https://localhost:8080/",
          "height": 407
        },
        "id": "OrL9p5e3CBKw",
        "outputId": "84482e2c-e7e9-4aa3-c794-1660893f1003"
      },
      "execution_count": 41,
      "outputs": [
        {
          "output_type": "stream",
          "name": "stderr",
          "text": [
            "/usr/local/lib/python3.7/dist-packages/ipykernel_launcher.py:2: FutureWarning: Dropping of nuisance columns in DataFrame reductions (with 'numeric_only=None') is deprecated; in a future version this will raise TypeError.  Select only valid columns before calling the reduction.\n",
            "  \n"
          ]
        },
        {
          "output_type": "display_data",
          "data": {
            "text/plain": [
              "<Figure size 576x360 with 1 Axes>"
            ],
            "image/png": "[encoded data removed]"
          },
          "metadata": {}
        }
      ]
    },
    {
      "cell_type": "code",
      "source": [
        "weekday.number_of_rentals.plot()"
      ],
      "metadata": {
        "colab": {
          "base_uri": "https://localhost:8080/",
          "height": 283
        },
        "id": "7nPtjQd0CXbs",
        "outputId": "d2399a79-3ca5-4b36-809b-afa07a0a34ed"
      },
      "execution_count": 42,
      "outputs": [
        {
          "output_type": "execute_result",
          "data": {
            "text/plain": [
              "<matplotlib.axes._subplots.AxesSubplot at 0x7fa67cc48f50>"
            ]
          },
          "metadata": {},
          "execution_count": 42
        },
        {
          "output_type": "display_data",
          "data": {
            "text/plain": [
              "<Figure size 432x288 with 1 Axes>"
            ],
            "image/png": "[encoded data removed]"
          },
          "metadata": {}
        }
      ]
    },
    {
      "cell_type": "code",
      "source": [
        "weekend.number_of_rentals.plot()"
      ],
      "metadata": {
        "colab": {
          "base_uri": "https://localhost:8080/",
          "height": 283
        },
        "id": "MIdj-zs2CfGp",
        "outputId": "ce03fc91-413b-426d-a37d-683742a80bdf"
      },
      "execution_count": 43,
      "outputs": [
        {
          "output_type": "execute_result",
          "data": {
            "text/plain": [
              "<matplotlib.axes._subplots.AxesSubplot at 0x7fa67cbd1450>"
            ]
          },
          "metadata": {},
          "execution_count": 43
        },
        {
          "output_type": "display_data",
          "data": {
            "text/plain": [
              "<Figure size 432x288 with 1 Axes>"
            ],
            "image/png": "[encoded data removed]"
          },
          "metadata": {}
        }
      ]
    },
    {
      "cell_type": "markdown",
      "source": [
        "* 결론\n",
        "\n",
        "평일과 주말의 따릉이 대여량은 별 차이가 없다고 말할 수 있다!"
      ],
      "metadata": {
        "id": "As9bDD5BCpCI"
      }
    },
    {
      "cell_type": "markdown",
      "source": [
        "## 3.1.4. 요일별 대여량"
      ],
      "metadata": {
        "id": "r0B7qiHtCs0a"
      }
    },
    {
      "cell_type": "code",
      "source": [
        "plt.figure(figsize=(15,8))\n",
        "\n",
        "sns.barplot(x=train['week_day'], y=train['number_of_rentals'])\n",
        "plt.title('요일별 대여량 비교', fontsize = 30)\n",
        "plt.show()"
      ],
      "metadata": {
        "colab": {
          "base_uri": "https://localhost:8080/",
          "height": 453
        },
        "id": "HXwj9WyiCjzl",
        "outputId": "dca57d9c-ee65-4fbb-87cb-7f9fcb5f4bc6"
      },
      "execution_count": 44,
      "outputs": [
        {
          "output_type": "display_data",
          "data": {
            "text/plain": [
              "<Figure size 1080x576 with 1 Axes>"
            ],
            "image/png": "[encoded data removed]"
          },
          "metadata": {}
        }
      ]
    },
    {
      "cell_type": "code",
      "source": [
        "plt.figure(figsize=(15,8))\n",
        "\n",
        "sns.barplot(x=train['week_day'], y=train['number_of_rentals'], hue=train['year'])\n",
        "plt.title('요일별+연도별 대여량 비교', fontsize = 30)\n",
        "plt.show()"
      ],
      "metadata": {
        "colab": {
          "base_uri": "https://localhost:8080/",
          "height": 450
        },
        "id": "H54HVOI0DBFU",
        "outputId": "bee5291d-bbf4-42b5-d501-d2e783c1dcde"
      },
      "execution_count": 45,
      "outputs": [
        {
          "output_type": "display_data",
          "data": {
            "text/plain": [
              "<Figure size 1080x576 with 1 Axes>"
            ],
            "image/png": "[encoded data removed]"
          },
          "metadata": {}
        }
      ]
    },
    {
      "cell_type": "markdown",
      "source": [
        "* 결론\n",
        "\n",
        "요일이라는 변수는 따릉이 대여량에 영향을 크게 미치지 않는다\n",
        "\n",
        "따라서 drop을 해줘도 괜찮겠다!"
      ],
      "metadata": {
        "id": "5Ufk_9YVDqbY"
      }
    },
    {
      "cell_type": "markdown",
      "source": [
        "## 3.1.5 더위+습도 = 더위 점수\n",
        "\n",
        "가설2. 날씨가 덥고 습하다면 따릉이 대여량 감소"
      ],
      "metadata": {
        "id": "pzi5ZdECD-Vh"
      }
    },
    {
      "cell_type": "code",
      "source": [
        "from seaborn.relational import scatterplot\n",
        "hot_score = train['high_temp'] * train['humidity'] # 높은 온도와 높은 습도 *\n",
        "\n",
        "plt.figure(figsize=(8,5))\n",
        "sns.scatterplot(x=hot_score, y=train['number_of_rentals'], hue=train['year'], s = 100 )\n",
        "plt.xticks(fontsize=15)\n",
        "plt.title('더위 점수와 대여량', fontsize = 30)\n",
        "plt.show()"
      ],
      "metadata": {
        "colab": {
          "base_uri": "https://localhost:8080/",
          "height": 353
        },
        "id": "e7Hmhc_RDcWt",
        "outputId": "927b2c78-b37a-4337-868a-19a624e104aa"
      },
      "execution_count": 46,
      "outputs": [
        {
          "output_type": "display_data",
          "data": {
            "text/plain": [
              "<Figure size 576x360 with 1 Axes>"
            ],
            "image/png": "[encoded data removed]"
          },
          "metadata": {}
        }
      ]
    },
    {
      "cell_type": "markdown",
      "source": [
        "* 결론\n",
        "\n",
        "더위 점수가 따릉이 대여량이 영향을 준다  \n",
        ": 파생변수 '더위 점수'"
      ],
      "metadata": {
        "id": "PFHQdTqTE1cX"
      }
    },
    {
      "cell_type": "markdown",
      "source": [
        "## 3.1.6. 추위 점수\n",
        "\n",
        "가설3 : 날씨가 춥고 바람이 많이 불면 따릉이 대여량이 감소할 것이다."
      ],
      "metadata": {
        "id": "vjfYZer5E-T0"
      }
    },
    {
      "cell_type": "code",
      "source": [
        "cold_score = train['wind_speed'] / train['low_temp'] # 바람 높고 온도 낮다 /\n",
        "\n",
        "plt.figure(figsize=(8,5))\n",
        "sns.scatterplot(x = cold_score, y=train['number_of_rentals'], hue=train['year'], s = 100 )\n",
        "plt.xticks(fontsize=15)\n",
        "plt.title('추위 점수와 대여량', fontsize = 30)\n",
        "plt.show()"
      ],
      "metadata": {
        "colab": {
          "base_uri": "https://localhost:8080/",
          "height": 353
        },
        "id": "IF73oLsnEQj4",
        "outputId": "c7eb919a-6408-4031-8205-784ee552a4cf"
      },
      "execution_count": 47,
      "outputs": [
        {
          "output_type": "display_data",
          "data": {
            "text/plain": [
              "<Figure size 576x360 with 1 Axes>"
            ],
            "image/png": "[encoded data removed]"
          },
          "metadata": {}
        }
      ]
    },
    {
      "cell_type": "markdown",
      "source": [
        "* 결론 \n",
        "\n",
        "추위 점수가 따릉이 대여량에 영향을 미칠 것이다 (음의 상관관계)\n",
        "\n",
        ": 추위 점수라는 파생변수를 생성"
      ],
      "metadata": {
        "id": "kMu-0g4MFt8i"
      }
    },
    {
      "cell_type": "markdown",
      "source": [
        "## 3.1.7. 이상치 확인"
      ],
      "metadata": {
        "id": "e0jL_omuGZ_K"
      }
    },
    {
      "cell_type": "code",
      "source": [
        "train.describe()"
      ],
      "metadata": {
        "colab": {
          "base_uri": "https://localhost:8080/",
          "height": 364
        },
        "id": "al1VpTn_5REm",
        "outputId": "02bc514d-d9bd-419c-8804-4d437006f725"
      },
      "execution_count": 48,
      "outputs": [
        {
          "output_type": "execute_result",
          "data": {
            "text/plain": [
              "       wind_direction  sky_condition  precipitation_form  wind_speed  \\\n",
              "count      273.000000     273.000000          273.000000  273.000000   \n",
              "mean       202.750967       2.288256            0.100963    2.480963   \n",
              "std         56.659232       0.961775            0.203193    0.884397   \n",
              "min         57.047000       1.000000            0.000000    0.753000   \n",
              "25%        171.541000       1.405000            0.000000    1.820000   \n",
              "50%        209.774000       2.167000            0.000000    2.411000   \n",
              "75%        238.412000       3.000000            0.088000    2.924000   \n",
              "max        321.622000       4.000000            1.000000    5.607000   \n",
              "\n",
              "         humidity    low_temp   high_temp  Precipitation_Probability  \\\n",
              "count  273.000000  273.000000  273.000000                 273.000000   \n",
              "mean    56.745491   13.795249   23.384733                  16.878103   \n",
              "std     12.351268    5.107711    5.204605                  16.643772   \n",
              "min     24.831000    1.938000    9.895000                   0.000000   \n",
              "25%     47.196000    9.938000   19.842000                   4.054000   \n",
              "50%     55.845000   14.375000   24.158000                  12.162000   \n",
              "75%     66.419000   18.000000   27.526000                  22.973000   \n",
              "max     88.885000   22.312000   33.421000                  82.162000   \n",
              "\n",
              "       number_of_rentals         year       month         day    week_day  \n",
              "count         273.000000   273.000000  273.000000  273.000000  273.000000  \n",
              "mean        59574.978022  2019.000000    5.000000   15.670330    3.000000  \n",
              "std         27659.575774     0.817996    0.813489    8.774195    2.003673  \n",
              "min          1037.000000  2018.000000    4.000000    1.000000    0.000000  \n",
              "25%         36761.000000  2018.000000    4.000000    8.000000    1.000000  \n",
              "50%         63032.000000  2019.000000    5.000000   16.000000    3.000000  \n",
              "75%         81515.000000  2020.000000    6.000000   23.000000    5.000000  \n",
              "max        110377.000000  2020.000000    6.000000   31.000000    6.000000  "
            ],
            "text/html": [
              "\n",
              "  <div id=\"df-b3c38719-6581-4c6a-b709-3f9af0f75d09\">\n",
              "    <div class=\"colab-df-container\">\n",
              "      <div>\n",
              "<style scoped>\n",
              "    .dataframe tbody tr th:only-of-type {\n",
              "        vertical-align: middle;\n",
              "    }\n",
              "\n",
              "    .dataframe tbody tr th {\n",
              "        vertical-align: top;\n",
              "    }\n",
              "\n",
              "    .dataframe thead th {\n",
              "        text-align: right;\n",
              "    }\n",
              "</style>\n",
              "<table border=\"1\" class=\"dataframe\">\n",
              "  <thead>\n",
              "    <tr style=\"text-align: right;\">\n",
              "      <th></th>\n",
              "      <th>wind_direction</th>\n",
              "      <th>sky_condition</th>\n",
              "      <th>precipitation_form</th>\n",
              "      <th>wind_speed</th>\n",
              "      <th>humidity</th>\n",
              "      <th>low_temp</th>\n",
              "      <th>high_temp</th>\n",
              "      <th>Precipitation_Probability</th>\n",
              "      <th>number_of_rentals</th>\n",
              "      <th>year</th>\n",
              "      <th>month</th>\n",
              "      <th>day</th>\n",
              "      <th>week_day</th>\n",
              "    </tr>\n",
              "  </thead>\n",
              "  <tbody>\n",
              "    <tr>\n",
              "      <th>count</th>\n",
              "      <td>273.000000</td>\n",
              "      <td>273.000000</td>\n",
              "      <td>273.000000</td>\n",
              "      <td>273.000000</td>\n",
              "      <td>273.000000</td>\n",
              "      <td>273.000000</td>\n",
              "      <td>273.000000</td>\n",
              "      <td>273.000000</td>\n",
              "      <td>273.000000</td>\n",
              "      <td>273.000000</td>\n",
              "      <td>273.000000</td>\n",
              "      <td>273.000000</td>\n",
              "      <td>273.000000</td>\n",
              "    </tr>\n",
              "    <tr>\n",
              "      <th>mean</th>\n",
              "      <td>202.750967</td>\n",
              "      <td>2.288256</td>\n",
              "      <td>0.100963</td>\n",
              "      <td>2.480963</td>\n",
              "      <td>56.745491</td>\n",
              "      <td>13.795249</td>\n",
              "      <td>23.384733</td>\n",
              "      <td>16.878103</td>\n",
              "      <td>59574.978022</td>\n",
              "      <td>2019.000000</td>\n",
              "      <td>5.000000</td>\n",
              "      <td>15.670330</td>\n",
              "      <td>3.000000</td>\n",
              "    </tr>\n",
              "    <tr>\n",
              "      <th>std</th>\n",
              "      <td>56.659232</td>\n",
              "      <td>0.961775</td>\n",
              "      <td>0.203193</td>\n",
              "      <td>0.884397</td>\n",
              "      <td>12.351268</td>\n",
              "      <td>5.107711</td>\n",
              "      <td>5.204605</td>\n",
              "      <td>16.643772</td>\n",
              "      <td>27659.575774</td>\n",
              "      <td>0.817996</td>\n",
              "      <td>0.813489</td>\n",
              "      <td>8.774195</td>\n",
              "      <td>2.003673</td>\n",
              "    </tr>\n",
              "    <tr>\n",
              "      <th>min</th>\n",
              "      <td>57.047000</td>\n",
              "      <td>1.000000</td>\n",
              "      <td>0.000000</td>\n",
              "      <td>0.753000</td>\n",
              "      <td>24.831000</td>\n",
              "      <td>1.938000</td>\n",
              "      <td>9.895000</td>\n",
              "      <td>0.000000</td>\n",
              "      <td>1037.000000</td>\n",
              "      <td>2018.000000</td>\n",
              "      <td>4.000000</td>\n",
              "      <td>1.000000</td>\n",
              "      <td>0.000000</td>\n",
              "    </tr>\n",
              "    <tr>\n",
              "      <th>25%</th>\n",
              "      <td>171.541000</td>\n",
              "      <td>1.405000</td>\n",
              "      <td>0.000000</td>\n",
              "      <td>1.820000</td>\n",
              "      <td>47.196000</td>\n",
              "      <td>9.938000</td>\n",
              "      <td>19.842000</td>\n",
              "      <td>4.054000</td>\n",
              "      <td>36761.000000</td>\n",
              "      <td>2018.000000</td>\n",
              "      <td>4.000000</td>\n",
              "      <td>8.000000</td>\n",
              "      <td>1.000000</td>\n",
              "    </tr>\n",
              "    <tr>\n",
              "      <th>50%</th>\n",
              "      <td>209.774000</td>\n",
              "      <td>2.167000</td>\n",
              "      <td>0.000000</td>\n",
              "      <td>2.411000</td>\n",
              "      <td>55.845000</td>\n",
              "      <td>14.375000</td>\n",
              "      <td>24.158000</td>\n",
              "      <td>12.162000</td>\n",
              "      <td>63032.000000</td>\n",
              "      <td>2019.000000</td>\n",
              "      <td>5.000000</td>\n",
              "      <td>16.000000</td>\n",
              "      <td>3.000000</td>\n",
              "    </tr>\n",
              "    <tr>\n",
              "      <th>75%</th>\n",
              "      <td>238.412000</td>\n",
              "      <td>3.000000</td>\n",
              "      <td>0.088000</td>\n",
              "      <td>2.924000</td>\n",
              "      <td>66.419000</td>\n",
              "      <td>18.000000</td>\n",
              "      <td>27.526000</td>\n",
              "      <td>22.973000</td>\n",
              "      <td>81515.000000</td>\n",
              "      <td>2020.000000</td>\n",
              "      <td>6.000000</td>\n",
              "      <td>23.000000</td>\n",
              "      <td>5.000000</td>\n",
              "    </tr>\n",
              "    <tr>\n",
              "      <th>max</th>\n",
              "      <td>321.622000</td>\n",
              "      <td>4.000000</td>\n",
              "      <td>1.000000</td>\n",
              "      <td>5.607000</td>\n",
              "      <td>88.885000</td>\n",
              "      <td>22.312000</td>\n",
              "      <td>33.421000</td>\n",
              "      <td>82.162000</td>\n",
              "      <td>110377.000000</td>\n",
              "      <td>2020.000000</td>\n",
              "      <td>6.000000</td>\n",
              "      <td>31.000000</td>\n",
              "      <td>6.000000</td>\n",
              "    </tr>\n",
              "  </tbody>\n",
              "</table>\n",
              "</div>\n",
              "      <button class=\"colab-df-convert\" onclick=\"convertToInteractive('df-b3c38719-6581-4c6a-b709-3f9af0f75d09')\"\n",
              "              title=\"Convert this dataframe to an interactive table.\"\n",
              "              style=\"display:none;\">\n",
              "        \n",
              "  <svg xmlns=\"http://www.w3.org/2000/svg\" height=\"24px\"viewBox=\"0 0 24 24\"\n",
              "       width=\"24px\">\n",
              "    <path d=\"M0 0h24v24H0V0z\" fill=\"none\"/>\n",
              "    <path d=\"M18.56 5.44l.94 2.06.94-2.06 2.06-.94-2.06-.94-.94-2.06-.94 2.06-2.06.94zm-11 1L8.5 8.5l.94-2.06 2.06-.94-2.06-.94L8.5 2.5l-.94 2.06-2.06.94zm10 10l.94 2.06.94-2.06 2.06-.94-2.06-.94-.94-2.06-.94 2.06-2.06.94z\"/><path d=\"M17.41 7.96l-1.37-1.37c-.4-.4-.92-.59-1.43-.59-.52 0-1.04.2-1.43.59L10.3 9.45l-7.72 7.72c-.78.78-.78 2.05 0 2.83L4 21.41c.39.39.9.59 1.41.59.51 0 1.02-.2 1.41-.59l7.78-7.78 2.81-2.81c.8-.78.8-2.07 0-2.86zM5.41 20L4 18.59l7.72-7.72 1.47 1.35L5.41 20z\"/>\n",
              "  </svg>\n",
              "      </button>\n",
              "      \n",
              "  <style>\n",
              "    .colab-df-container {\n",
              "      display:flex;\n",
              "      flex-wrap:wrap;\n",
              "      gap: 12px;\n",
              "    }\n",
              "\n",
              "    .colab-df-convert {\n",
              "      background-color: #E8F0FE;\n",
              "      border: none;\n",
              "      border-radius: 50%;\n",
              "      cursor: pointer;\n",
              "      display: none;\n",
              "      fill: #1967D2;\n",
              "      height: 32px;\n",
              "      padding: 0 0 0 0;\n",
              "      width: 32px;\n",
              "    }\n",
              "\n",
              "    .colab-df-convert:hover {\n",
              "      background-color: #E2EBFA;\n",
              "      box-shadow: 0px 1px 2px rgba(60, 64, 67, 0.3), 0px 1px 3px 1px rgba(60, 64, 67, 0.15);\n",
              "      fill: #174EA6;\n",
              "    }\n",
              "\n",
              "    [theme=dark] .colab-df-convert {\n",
              "      background-color: #3B4455;\n",
              "      fill: #D2E3FC;\n",
              "    }\n",
              "\n",
              "    [theme=dark] .colab-df-convert:hover {\n",
              "      background-color: #434B5C;\n",
              "      box-shadow: 0px 1px 3px 1px rgba(0, 0, 0, 0.15);\n",
              "      filter: drop-shadow(0px 1px 2px rgba(0, 0, 0, 0.3));\n",
              "      fill: #FFFFFF;\n",
              "    }\n",
              "  </style>\n",
              "\n",
              "      <script>\n",
              "        const buttonEl =\n",
              "          document.querySelector('#df-b3c38719-6581-4c6a-b709-3f9af0f75d09 button.colab-df-convert');\n",
              "        buttonEl.style.display =\n",
              "          google.colab.kernel.accessAllowed ? 'block' : 'none';\n",
              "\n",
              "        async function convertToInteractive(key) {\n",
              "          const element = document.querySelector('#df-b3c38719-6581-4c6a-b709-3f9af0f75d09');\n",
              "          const dataTable =\n",
              "            await google.colab.kernel.invokeFunction('convertToInteractive',\n",
              "                                                     [key], {});\n",
              "          if (!dataTable) return;\n",
              "\n",
              "          const docLinkHtml = 'Like what you see? Visit the ' +\n",
              "            '<a target=\"_blank\" href=https://colab.research.google.com/notebooks/data_table.ipynb>data table notebook</a>'\n",
              "            + ' to learn more about interactive tables.';\n",
              "          element.innerHTML = '';\n",
              "          dataTable['output_type'] = 'display_data';\n",
              "          await google.colab.output.renderOutput(dataTable, element);\n",
              "          const docLink = document.createElement('div');\n",
              "          docLink.innerHTML = docLinkHtml;\n",
              "          element.appendChild(docLink);\n",
              "        }\n",
              "      </script>\n",
              "    </div>\n",
              "  </div>\n",
              "  "
            ]
          },
          "metadata": {},
          "execution_count": 48
        }
      ]
    },
    {
      "cell_type": "code",
      "source": [
        "plt.style.use(\"ggplot\")\n",
        "\n",
        "feature = train.describe().columns\n",
        "\n",
        "plt.figure(figsize=(30,15))\n",
        "plt.suptitle(\"독립변수별 이상치 확인\", fontsize = 30)\n",
        "\n",
        "for i in range(len(feature)):\n",
        "  plt.subplot(2,7,i+1)\n",
        "  plt.title(feature[i])\n",
        "  plt.boxplot(train[feature[i]])\n",
        "plt.show()\n",
        "\n",
        "# 이상치가 없는 듯하다. 강수형태는 이상치라고 보기에는 애매"
      ],
      "metadata": {
        "colab": {
          "base_uri": "https://localhost:8080/",
          "height": 448
        },
        "id": "CDW7CtWRFj1k",
        "outputId": "b06e1974-e39c-4ca9-a7da-bf55f9b955c8"
      },
      "execution_count": 49,
      "outputs": [
        {
          "output_type": "display_data",
          "data": {
            "text/plain": [
              "<Figure size 2160x1080 with 13 Axes>"
            ],
            "image/png": "[encoded data removed]"
          },
          "metadata": {}
        }
      ]
    },
    {
      "cell_type": "markdown",
      "source": [
        "## 3.1.8. 상관관계\n",
        "\n",
        "가로를 봐주자"
      ],
      "metadata": {
        "id": "JX7E2fn2IQo1"
      }
    },
    {
      "cell_type": "code",
      "source": [
        "plt.figure(figsize=(12,10))\n",
        "sns.heatmap(data = train.corr(method='pearson'), annot=True, fmt='.2f', linewidths=.5, cmap='Blues')"
      ],
      "metadata": {
        "colab": {
          "base_uri": "https://localhost:8080/",
          "height": 809
        },
        "id": "BuwGiwfOGnCR",
        "outputId": "c2d60de8-feeb-4f1d-ce4e-62570ce67974"
      },
      "execution_count": 50,
      "outputs": [
        {
          "output_type": "stream",
          "name": "stderr",
          "text": [
            "/usr/local/lib/python3.7/dist-packages/matplotlib/backends/backend_agg.py:214: RuntimeWarning: Glyph 8722 missing from current font.\n",
            "  font.set_text(s, 0.0, flags=flags)\n",
            "/usr/local/lib/python3.7/dist-packages/matplotlib/backends/backend_agg.py:183: RuntimeWarning: Glyph 8722 missing from current font.\n",
            "  font.set_text(s, 0, flags=flags)\n"
          ]
        },
        {
          "output_type": "execute_result",
          "data": {
            "text/plain": [
              "<matplotlib.axes._subplots.AxesSubplot at 0x7fa67c8178d0>"
            ]
          },
          "metadata": {},
          "execution_count": 50
        },
        {
          "output_type": "display_data",
          "data": {
            "text/plain": [
              "<Figure size 864x720 with 2 Axes>"
            ],
            "image/png": "[encoded data removed]"
          },
          "metadata": {}
        }
      ]
    },
    {
      "cell_type": "markdown",
      "source": [
        "## 3.2. 가설 검정 및 총 정리\n",
        "\n",
        "3.1.1. : 타겟을 통하여 3가지 인사이트 도출  \n",
        "3.1.2. : 연도별 대여량이 증가 하므로 , Year 관한 변수 하나 생성  \n",
        "3.1.3. : 가설 1 : 평일과 주말의 대여량 차이는 X  \n",
        "3.1.4. : 가설 1 (파생) : 요일별 대여량도 차이가 없다  \n",
        "3.1.5. : 가설 2 : 더위 점수는 대여량이 감소하는 것이아니라 오히려 증가했다  \n",
        "3.1.6. : 가설 3 : 추위 점수는 대여량이 감소하였다.  \n",
        "3.1.7. : 이상치에서는 특이한 이상치 발견 X  \n",
        "3.1.8. : 피어슨 상관계수를 통한 전반적인 피처의 상관관계를 도출  \n",
        "\n",
        ": Year 인플레이션 변수 생성, 더위 점수 생성, 추위 점수 생성, 요일, 날짜, 일 변수 삭제"
      ],
      "metadata": {
        "id": "8XIqX_D3KU10"
      }
    },
    {
      "cell_type": "markdown",
      "source": [
        "# 4. Feature Engineering\n",
        "\n",
        "## 4.1. Feature Extraction\n",
        "\n",
        "### 4.1.1. Year inflation"
      ],
      "metadata": {
        "id": "P0uYYc8nL4TR"
      }
    },
    {
      "cell_type": "code",
      "source": [
        "train[train['year']==2018]['number_of_rentals']"
      ],
      "metadata": {
        "colab": {
          "base_uri": "https://localhost:8080/"
        },
        "id": "6ffrpGgsIkm1",
        "outputId": "e28be297-6028-4d48-a304-9c24f04b64f1"
      },
      "execution_count": 51,
      "outputs": [
        {
          "output_type": "execute_result",
          "data": {
            "text/plain": [
              "0     22994\n",
              "1     28139\n",
              "2     26817\n",
              "3     26034\n",
              "4      2833\n",
              "      ...  \n",
              "86     6391\n",
              "87    41128\n",
              "88    27757\n",
              "89    42765\n",
              "90    26911\n",
              "Name: number_of_rentals, Length: 91, dtype: int64"
            ]
          },
          "metadata": {},
          "execution_count": 51
        }
      ]
    },
    {
      "cell_type": "code",
      "source": [
        "train[train['year']==2019]['number_of_rentals']"
      ],
      "metadata": {
        "colab": {
          "base_uri": "https://localhost:8080/"
        },
        "id": "ff6oSiveMJSg",
        "outputId": "f667e5dc-5490-4b9d-8e15-76ea5c688e37"
      },
      "execution_count": 52,
      "outputs": [
        {
          "output_type": "execute_result",
          "data": {
            "text/plain": [
              "91     37660\n",
              "92     42029\n",
              "93     43257\n",
              "94     45681\n",
              "95     45643\n",
              "       ...  \n",
              "177    81274\n",
              "178    79234\n",
              "179    77056\n",
              "180    67346\n",
              "181    74994\n",
              "Name: number_of_rentals, Length: 91, dtype: int64"
            ]
          },
          "metadata": {},
          "execution_count": 52
        }
      ]
    },
    {
      "cell_type": "code",
      "source": [
        "train[train['year']==2020]['number_of_rentals']"
      ],
      "metadata": {
        "colab": {
          "base_uri": "https://localhost:8080/"
        },
        "id": "kPKpKtZAMLJU",
        "outputId": "aa980228-cd73-4208-e8ae-423e9340ca66"
      },
      "execution_count": 53,
      "outputs": [
        {
          "output_type": "execute_result",
          "data": {
            "text/plain": [
              "182     70258\n",
              "183     72129\n",
              "184     74856\n",
              "185     66405\n",
              "186     64111\n",
              "        ...  \n",
              "268     96150\n",
              "269    107001\n",
              "270     98568\n",
              "271     70053\n",
              "272     38086\n",
              "Name: number_of_rentals, Length: 91, dtype: int64"
            ]
          },
          "metadata": {},
          "execution_count": 53
        }
      ]
    },
    {
      "cell_type": "code",
      "source": [
        "test"
      ],
      "metadata": {
        "colab": {
          "base_uri": "https://localhost:8080/",
          "height": 488
        },
        "id": "NGLrt956NKZK",
        "outputId": "d09d6c34-e41e-4643-ac74-1e915b6e0bff"
      },
      "execution_count": 54,
      "outputs": [
        {
          "output_type": "execute_result",
          "data": {
            "text/plain": [
              "     date_time  wind_direction  sky_condition  precipitation_form  wind_speed  \\\n",
              "0   2021-04-01         108.833          3.000               0.000       2.900   \n",
              "1   2021-04-02         116.717          3.850               0.000       2.662   \n",
              "2   2021-04-03          82.669          4.000               0.565       2.165   \n",
              "3   2021-04-04          44.123          3.466               0.466       3.747   \n",
              "4   2021-04-05         147.791          1.500               0.000       1.560   \n",
              "..         ...             ...            ...                 ...         ...   \n",
              "86  2021-06-26         177.149          3.980               0.223       1.066   \n",
              "87  2021-06-27         138.723          2.777               0.135       1.290   \n",
              "88  2021-06-28         111.095          3.338               1.270       1.692   \n",
              "89  2021-06-29         171.622          3.270               0.595       1.470   \n",
              "90  2021-06-30         181.709          3.270               0.703       1.180   \n",
              "\n",
              "    humidity  low_temp  high_temp  Precipitation_Probability  \n",
              "0     28.333    11.800     20.667                     18.333  \n",
              "1     46.417    12.000     19.000                     28.500  \n",
              "2     77.258     8.875     16.368                     52.847  \n",
              "3     63.288     6.250     17.368                     37.671  \n",
              "4     48.176     7.188     18.684                      4.459  \n",
              "..       ...       ...        ...                        ...  \n",
              "86    74.628    20.312     28.579                     36.486  \n",
              "87    70.236    20.812     29.000                     18.378  \n",
              "88    70.338    21.000     28.789                     35.946  \n",
              "89    70.473    21.000     29.421                     27.770  \n",
              "90    75.203    21.500     30.211                     29.054  \n",
              "\n",
              "[91 rows x 9 columns]"
            ],
            "text/html": [
              "\n",
              "  <div id=\"df-f7901c3c-003f-46aa-b705-d08beec52168\">\n",
              "    <div class=\"colab-df-container\">\n",
              "      <div>\n",
              "<style scoped>\n",
              "    .dataframe tbody tr th:only-of-type {\n",
              "        vertical-align: middle;\n",
              "    }\n",
              "\n",
              "    .dataframe tbody tr th {\n",
              "        vertical-align: top;\n",
              "    }\n",
              "\n",
              "    .dataframe thead th {\n",
              "        text-align: right;\n",
              "    }\n",
              "</style>\n",
              "<table border=\"1\" class=\"dataframe\">\n",
              "  <thead>\n",
              "    <tr style=\"text-align: right;\">\n",
              "      <th></th>\n",
              "      <th>date_time</th>\n",
              "      <th>wind_direction</th>\n",
              "      <th>sky_condition</th>\n",
              "      <th>precipitation_form</th>\n",
              "      <th>wind_speed</th>\n",
              "      <th>humidity</th>\n",
              "      <th>low_temp</th>\n",
              "      <th>high_temp</th>\n",
              "      <th>Precipitation_Probability</th>\n",
              "    </tr>\n",
              "  </thead>\n",
              "  <tbody>\n",
              "    <tr>\n",
              "      <th>0</th>\n",
              "      <td>2021-04-01</td>\n",
              "      <td>108.833</td>\n",
              "      <td>3.000</td>\n",
              "      <td>0.000</td>\n",
              "      <td>2.900</td>\n",
              "      <td>28.333</td>\n",
              "      <td>11.800</td>\n",
              "      <td>20.667</td>\n",
              "      <td>18.333</td>\n",
              "    </tr>\n",
              "    <tr>\n",
              "      <th>1</th>\n",
              "      <td>2021-04-02</td>\n",
              "      <td>116.717</td>\n",
              "      <td>3.850</td>\n",
              "      <td>0.000</td>\n",
              "      <td>2.662</td>\n",
              "      <td>46.417</td>\n",
              "      <td>12.000</td>\n",
              "      <td>19.000</td>\n",
              "      <td>28.500</td>\n",
              "    </tr>\n",
              "    <tr>\n",
              "      <th>2</th>\n",
              "      <td>2021-04-03</td>\n",
              "      <td>82.669</td>\n",
              "      <td>4.000</td>\n",
              "      <td>0.565</td>\n",
              "      <td>2.165</td>\n",
              "      <td>77.258</td>\n",
              "      <td>8.875</td>\n",
              "      <td>16.368</td>\n",
              "      <td>52.847</td>\n",
              "    </tr>\n",
              "    <tr>\n",
              "      <th>3</th>\n",
              "      <td>2021-04-04</td>\n",
              "      <td>44.123</td>\n",
              "      <td>3.466</td>\n",
              "      <td>0.466</td>\n",
              "      <td>3.747</td>\n",
              "      <td>63.288</td>\n",
              "      <td>6.250</td>\n",
              "      <td>17.368</td>\n",
              "      <td>37.671</td>\n",
              "    </tr>\n",
              "    <tr>\n",
              "      <th>4</th>\n",
              "      <td>2021-04-05</td>\n",
              "      <td>147.791</td>\n",
              "      <td>1.500</td>\n",
              "      <td>0.000</td>\n",
              "      <td>1.560</td>\n",
              "      <td>48.176</td>\n",
              "      <td>7.188</td>\n",
              "      <td>18.684</td>\n",
              "      <td>4.459</td>\n",
              "    </tr>\n",
              "    <tr>\n",
              "      <th>...</th>\n",
              "      <td>...</td>\n",
              "      <td>...</td>\n",
              "      <td>...</td>\n",
              "      <td>...</td>\n",
              "      <td>...</td>\n",
              "      <td>...</td>\n",
              "      <td>...</td>\n",
              "      <td>...</td>\n",
              "      <td>...</td>\n",
              "    </tr>\n",
              "    <tr>\n",
              "      <th>86</th>\n",
              "      <td>2021-06-26</td>\n",
              "      <td>177.149</td>\n",
              "      <td>3.980</td>\n",
              "      <td>0.223</td>\n",
              "      <td>1.066</td>\n",
              "      <td>74.628</td>\n",
              "      <td>20.312</td>\n",
              "      <td>28.579</td>\n",
              "      <td>36.486</td>\n",
              "    </tr>\n",
              "    <tr>\n",
              "      <th>87</th>\n",
              "      <td>2021-06-27</td>\n",
              "      <td>138.723</td>\n",
              "      <td>2.777</td>\n",
              "      <td>0.135</td>\n",
              "      <td>1.290</td>\n",
              "      <td>70.236</td>\n",
              "      <td>20.812</td>\n",
              "      <td>29.000</td>\n",
              "      <td>18.378</td>\n",
              "    </tr>\n",
              "    <tr>\n",
              "      <th>88</th>\n",
              "      <td>2021-06-28</td>\n",
              "      <td>111.095</td>\n",
              "      <td>3.338</td>\n",
              "      <td>1.270</td>\n",
              "      <td>1.692</td>\n",
              "      <td>70.338</td>\n",
              "      <td>21.000</td>\n",
              "      <td>28.789</td>\n",
              "      <td>35.946</td>\n",
              "    </tr>\n",
              "    <tr>\n",
              "      <th>89</th>\n",
              "      <td>2021-06-29</td>\n",
              "      <td>171.622</td>\n",
              "      <td>3.270</td>\n",
              "      <td>0.595</td>\n",
              "      <td>1.470</td>\n",
              "      <td>70.473</td>\n",
              "      <td>21.000</td>\n",
              "      <td>29.421</td>\n",
              "      <td>27.770</td>\n",
              "    </tr>\n",
              "    <tr>\n",
              "      <th>90</th>\n",
              "      <td>2021-06-30</td>\n",
              "      <td>181.709</td>\n",
              "      <td>3.270</td>\n",
              "      <td>0.703</td>\n",
              "      <td>1.180</td>\n",
              "      <td>75.203</td>\n",
              "      <td>21.500</td>\n",
              "      <td>30.211</td>\n",
              "      <td>29.054</td>\n",
              "    </tr>\n",
              "  </tbody>\n",
              "</table>\n",
              "<p>91 rows × 9 columns</p>\n",
              "</div>\n",
              "      <button class=\"colab-df-convert\" onclick=\"convertToInteractive('df-f7901c3c-003f-46aa-b705-d08beec52168')\"\n",
              "              title=\"Convert this dataframe to an interactive table.\"\n",
              "              style=\"display:none;\">\n",
              "        \n",
              "  <svg xmlns=\"http://www.w3.org/2000/svg\" height=\"24px\"viewBox=\"0 0 24 24\"\n",
              "       width=\"24px\">\n",
              "    <path d=\"M0 0h24v24H0V0z\" fill=\"none\"/>\n",
              "    <path d=\"M18.56 5.44l.94 2.06.94-2.06 2.06-.94-2.06-.94-.94-2.06-.94 2.06-2.06.94zm-11 1L8.5 8.5l.94-2.06 2.06-.94-2.06-.94L8.5 2.5l-.94 2.06-2.06.94zm10 10l.94 2.06.94-2.06 2.06-.94-2.06-.94-.94-2.06-.94 2.06-2.06.94z\"/><path d=\"M17.41 7.96l-1.37-1.37c-.4-.4-.92-.59-1.43-.59-.52 0-1.04.2-1.43.59L10.3 9.45l-7.72 7.72c-.78.78-.78 2.05 0 2.83L4 21.41c.39.39.9.59 1.41.59.51 0 1.02-.2 1.41-.59l7.78-7.78 2.81-2.81c.8-.78.8-2.07 0-2.86zM5.41 20L4 18.59l7.72-7.72 1.47 1.35L5.41 20z\"/>\n",
              "  </svg>\n",
              "      </button>\n",
              "      \n",
              "  <style>\n",
              "    .colab-df-container {\n",
              "      display:flex;\n",
              "      flex-wrap:wrap;\n",
              "      gap: 12px;\n",
              "    }\n",
              "\n",
              "    .colab-df-convert {\n",
              "      background-color: #E8F0FE;\n",
              "      border: none;\n",
              "      border-radius: 50%;\n",
              "      cursor: pointer;\n",
              "      display: none;\n",
              "      fill: #1967D2;\n",
              "      height: 32px;\n",
              "      padding: 0 0 0 0;\n",
              "      width: 32px;\n",
              "    }\n",
              "\n",
              "    .colab-df-convert:hover {\n",
              "      background-color: #E2EBFA;\n",
              "      box-shadow: 0px 1px 2px rgba(60, 64, 67, 0.3), 0px 1px 3px 1px rgba(60, 64, 67, 0.15);\n",
              "      fill: #174EA6;\n",
              "    }\n",
              "\n",
              "    [theme=dark] .colab-df-convert {\n",
              "      background-color: #3B4455;\n",
              "      fill: #D2E3FC;\n",
              "    }\n",
              "\n",
              "    [theme=dark] .colab-df-convert:hover {\n",
              "      background-color: #434B5C;\n",
              "      box-shadow: 0px 1px 3px 1px rgba(0, 0, 0, 0.15);\n",
              "      filter: drop-shadow(0px 1px 2px rgba(0, 0, 0, 0.3));\n",
              "      fill: #FFFFFF;\n",
              "    }\n",
              "  </style>\n",
              "\n",
              "      <script>\n",
              "        const buttonEl =\n",
              "          document.querySelector('#df-f7901c3c-003f-46aa-b705-d08beec52168 button.colab-df-convert');\n",
              "        buttonEl.style.display =\n",
              "          google.colab.kernel.accessAllowed ? 'block' : 'none';\n",
              "\n",
              "        async function convertToInteractive(key) {\n",
              "          const element = document.querySelector('#df-f7901c3c-003f-46aa-b705-d08beec52168');\n",
              "          const dataTable =\n",
              "            await google.colab.kernel.invokeFunction('convertToInteractive',\n",
              "                                                     [key], {});\n",
              "          if (!dataTable) return;\n",
              "\n",
              "          const docLinkHtml = 'Like what you see? Visit the ' +\n",
              "            '<a target=\"_blank\" href=https://colab.research.google.com/notebooks/data_table.ipynb>data table notebook</a>'\n",
              "            + ' to learn more about interactive tables.';\n",
              "          element.innerHTML = '';\n",
              "          dataTable['output_type'] = 'display_data';\n",
              "          await google.colab.output.renderOutput(dataTable, element);\n",
              "          const docLink = document.createElement('div');\n",
              "          docLink.innerHTML = docLinkHtml;\n",
              "          element.appendChild(docLink);\n",
              "        }\n",
              "      </script>\n",
              "    </div>\n",
              "  </div>\n",
              "  "
            ]
          },
          "metadata": {},
          "execution_count": 54
        }
      ]
    },
    {
      "cell_type": "markdown",
      "source": [
        "### 4.1.2. 피쳐 제거"
      ],
      "metadata": {
        "id": "CmDQ3E7gNmBA"
      }
    },
    {
      "cell_type": "code",
      "source": [
        "train = train.drop(['week_day'], axis = 1)\n",
        "train = train.drop(['day'], axis = 1)\n",
        "train = train.drop(['date_time'], axis = 1)"
      ],
      "metadata": {
        "id": "v2pofASMNYXP"
      },
      "execution_count": 55,
      "outputs": []
    },
    {
      "cell_type": "code",
      "source": [
        "train.head()"
      ],
      "metadata": {
        "colab": {
          "base_uri": "https://localhost:8080/",
          "height": 270
        },
        "id": "4iUlYqR-N0kZ",
        "outputId": "4426b523-ae7c-41e0-eeaf-58750e636063"
      },
      "execution_count": 56,
      "outputs": [
        {
          "output_type": "execute_result",
          "data": {
            "text/plain": [
              "   wind_direction  sky_condition  precipitation_form  wind_speed  humidity  \\\n",
              "0         207.500          4.000               0.000       3.050    75.000   \n",
              "1         208.317          2.950               0.000       3.278    69.833   \n",
              "2         213.516          2.911               0.000       2.690    74.879   \n",
              "3         143.836          3.692               0.425       3.138    71.849   \n",
              "4          95.905          4.000               0.723       3.186    73.784   \n",
              "\n",
              "   low_temp  high_temp  Precipitation_Probability  number_of_rentals  year  \\\n",
              "0    12.600     21.000                     30.000              22994  2018   \n",
              "1    12.812     19.000                     19.500              28139  2018   \n",
              "2    10.312     15.316                     19.113              26817  2018   \n",
              "3     8.312     12.368                     43.493              26034  2018   \n",
              "4     5.875     10.421                     63.378               2833  2018   \n",
              "\n",
              "   month  \n",
              "0      4  \n",
              "1      4  \n",
              "2      4  \n",
              "3      4  \n",
              "4      4  "
            ],
            "text/html": [
              "\n",
              "  <div id=\"df-b3ce292a-377f-4d5d-a723-67b10c10c490\">\n",
              "    <div class=\"colab-df-container\">\n",
              "      <div>\n",
              "<style scoped>\n",
              "    .dataframe tbody tr th:only-of-type {\n",
              "        vertical-align: middle;\n",
              "    }\n",
              "\n",
              "    .dataframe tbody tr th {\n",
              "        vertical-align: top;\n",
              "    }\n",
              "\n",
              "    .dataframe thead th {\n",
              "        text-align: right;\n",
              "    }\n",
              "</style>\n",
              "<table border=\"1\" class=\"dataframe\">\n",
              "  <thead>\n",
              "    <tr style=\"text-align: right;\">\n",
              "      <th></th>\n",
              "      <th>wind_direction</th>\n",
              "      <th>sky_condition</th>\n",
              "      <th>precipitation_form</th>\n",
              "      <th>wind_speed</th>\n",
              "      <th>humidity</th>\n",
              "      <th>low_temp</th>\n",
              "      <th>high_temp</th>\n",
              "      <th>Precipitation_Probability</th>\n",
              "      <th>number_of_rentals</th>\n",
              "      <th>year</th>\n",
              "      <th>month</th>\n",
              "    </tr>\n",
              "  </thead>\n",
              "  <tbody>\n",
              "    <tr>\n",
              "      <th>0</th>\n",
              "      <td>207.500</td>\n",
              "      <td>4.000</td>\n",
              "      <td>0.000</td>\n",
              "      <td>3.050</td>\n",
              "      <td>75.000</td>\n",
              "      <td>12.600</td>\n",
              "      <td>21.000</td>\n",
              "      <td>30.000</td>\n",
              "      <td>22994</td>\n",
              "      <td>2018</td>\n",
              "      <td>4</td>\n",
              "    </tr>\n",
              "    <tr>\n",
              "      <th>1</th>\n",
              "      <td>208.317</td>\n",
              "      <td>2.950</td>\n",
              "      <td>0.000</td>\n",
              "      <td>3.278</td>\n",
              "      <td>69.833</td>\n",
              "      <td>12.812</td>\n",
              "      <td>19.000</td>\n",
              "      <td>19.500</td>\n",
              "      <td>28139</td>\n",
              "      <td>2018</td>\n",
              "      <td>4</td>\n",
              "    </tr>\n",
              "    <tr>\n",
              "      <th>2</th>\n",
              "      <td>213.516</td>\n",
              "      <td>2.911</td>\n",
              "      <td>0.000</td>\n",
              "      <td>2.690</td>\n",
              "      <td>74.879</td>\n",
              "      <td>10.312</td>\n",
              "      <td>15.316</td>\n",
              "      <td>19.113</td>\n",
              "      <td>26817</td>\n",
              "      <td>2018</td>\n",
              "      <td>4</td>\n",
              "    </tr>\n",
              "    <tr>\n",
              "      <th>3</th>\n",
              "      <td>143.836</td>\n",
              "      <td>3.692</td>\n",
              "      <td>0.425</td>\n",
              "      <td>3.138</td>\n",
              "      <td>71.849</td>\n",
              "      <td>8.312</td>\n",
              "      <td>12.368</td>\n",
              "      <td>43.493</td>\n",
              "      <td>26034</td>\n",
              "      <td>2018</td>\n",
              "      <td>4</td>\n",
              "    </tr>\n",
              "    <tr>\n",
              "      <th>4</th>\n",
              "      <td>95.905</td>\n",
              "      <td>4.000</td>\n",
              "      <td>0.723</td>\n",
              "      <td>3.186</td>\n",
              "      <td>73.784</td>\n",
              "      <td>5.875</td>\n",
              "      <td>10.421</td>\n",
              "      <td>63.378</td>\n",
              "      <td>2833</td>\n",
              "      <td>2018</td>\n",
              "      <td>4</td>\n",
              "    </tr>\n",
              "  </tbody>\n",
              "</table>\n",
              "</div>\n",
              "      <button class=\"colab-df-convert\" onclick=\"convertToInteractive('df-b3ce292a-377f-4d5d-a723-67b10c10c490')\"\n",
              "              title=\"Convert this dataframe to an interactive table.\"\n",
              "              style=\"display:none;\">\n",
              "        \n",
              "  <svg xmlns=\"http://www.w3.org/2000/svg\" height=\"24px\"viewBox=\"0 0 24 24\"\n",
              "       width=\"24px\">\n",
              "    <path d=\"M0 0h24v24H0V0z\" fill=\"none\"/>\n",
              "    <path d=\"M18.56 5.44l.94 2.06.94-2.06 2.06-.94-2.06-.94-.94-2.06-.94 2.06-2.06.94zm-11 1L8.5 8.5l.94-2.06 2.06-.94-2.06-.94L8.5 2.5l-.94 2.06-2.06.94zm10 10l.94 2.06.94-2.06 2.06-.94-2.06-.94-.94-2.06-.94 2.06-2.06.94z\"/><path d=\"M17.41 7.96l-1.37-1.37c-.4-.4-.92-.59-1.43-.59-.52 0-1.04.2-1.43.59L10.3 9.45l-7.72 7.72c-.78.78-.78 2.05 0 2.83L4 21.41c.39.39.9.59 1.41.59.51 0 1.02-.2 1.41-.59l7.78-7.78 2.81-2.81c.8-.78.8-2.07 0-2.86zM5.41 20L4 18.59l7.72-7.72 1.47 1.35L5.41 20z\"/>\n",
              "  </svg>\n",
              "      </button>\n",
              "      \n",
              "  <style>\n",
              "    .colab-df-container {\n",
              "      display:flex;\n",
              "      flex-wrap:wrap;\n",
              "      gap: 12px;\n",
              "    }\n",
              "\n",
              "    .colab-df-convert {\n",
              "      background-color: #E8F0FE;\n",
              "      border: none;\n",
              "      border-radius: 50%;\n",
              "      cursor: pointer;\n",
              "      display: none;\n",
              "      fill: #1967D2;\n",
              "      height: 32px;\n",
              "      padding: 0 0 0 0;\n",
              "      width: 32px;\n",
              "    }\n",
              "\n",
              "    .colab-df-convert:hover {\n",
              "      background-color: #E2EBFA;\n",
              "      box-shadow: 0px 1px 2px rgba(60, 64, 67, 0.3), 0px 1px 3px 1px rgba(60, 64, 67, 0.15);\n",
              "      fill: #174EA6;\n",
              "    }\n",
              "\n",
              "    [theme=dark] .colab-df-convert {\n",
              "      background-color: #3B4455;\n",
              "      fill: #D2E3FC;\n",
              "    }\n",
              "\n",
              "    [theme=dark] .colab-df-convert:hover {\n",
              "      background-color: #434B5C;\n",
              "      box-shadow: 0px 1px 3px 1px rgba(0, 0, 0, 0.15);\n",
              "      filter: drop-shadow(0px 1px 2px rgba(0, 0, 0, 0.3));\n",
              "      fill: #FFFFFF;\n",
              "    }\n",
              "  </style>\n",
              "\n",
              "      <script>\n",
              "        const buttonEl =\n",
              "          document.querySelector('#df-b3ce292a-377f-4d5d-a723-67b10c10c490 button.colab-df-convert');\n",
              "        buttonEl.style.display =\n",
              "          google.colab.kernel.accessAllowed ? 'block' : 'none';\n",
              "\n",
              "        async function convertToInteractive(key) {\n",
              "          const element = document.querySelector('#df-b3ce292a-377f-4d5d-a723-67b10c10c490');\n",
              "          const dataTable =\n",
              "            await google.colab.kernel.invokeFunction('convertToInteractive',\n",
              "                                                     [key], {});\n",
              "          if (!dataTable) return;\n",
              "\n",
              "          const docLinkHtml = 'Like what you see? Visit the ' +\n",
              "            '<a target=\"_blank\" href=https://colab.research.google.com/notebooks/data_table.ipynb>data table notebook</a>'\n",
              "            + ' to learn more about interactive tables.';\n",
              "          element.innerHTML = '';\n",
              "          dataTable['output_type'] = 'display_data';\n",
              "          await google.colab.output.renderOutput(dataTable, element);\n",
              "          const docLink = document.createElement('div');\n",
              "          docLink.innerHTML = docLinkHtml;\n",
              "          element.appendChild(docLink);\n",
              "        }\n",
              "      </script>\n",
              "    </div>\n",
              "  </div>\n",
              "  "
            ]
          },
          "metadata": {},
          "execution_count": 56
        }
      ]
    },
    {
      "cell_type": "markdown",
      "source": [
        "### 4.1.3. 더위 및 추위 파생 변수 생성"
      ],
      "metadata": {
        "id": "EKu4TBPKN5gh"
      }
    },
    {
      "cell_type": "code",
      "source": [
        "train['hot_score'] = train['high_temp']*train['humidity']\n",
        "train['cold_score'] = train['wind_speed']/train['low_temp']"
      ],
      "metadata": {
        "id": "Q_291xYBN2on"
      },
      "execution_count": 57,
      "outputs": []
    },
    {
      "cell_type": "code",
      "source": [
        "train.head()"
      ],
      "metadata": {
        "colab": {
          "base_uri": "https://localhost:8080/",
          "height": 270
        },
        "id": "c3Po1sr8OJWf",
        "outputId": "b9658496-b3c7-4a2d-b260-55713a707884"
      },
      "execution_count": 58,
      "outputs": [
        {
          "output_type": "execute_result",
          "data": {
            "text/plain": [
              "   wind_direction  sky_condition  precipitation_form  wind_speed  humidity  \\\n",
              "0         207.500          4.000               0.000       3.050    75.000   \n",
              "1         208.317          2.950               0.000       3.278    69.833   \n",
              "2         213.516          2.911               0.000       2.690    74.879   \n",
              "3         143.836          3.692               0.425       3.138    71.849   \n",
              "4          95.905          4.000               0.723       3.186    73.784   \n",
              "\n",
              "   low_temp  high_temp  Precipitation_Probability  number_of_rentals  year  \\\n",
              "0    12.600     21.000                     30.000              22994  2018   \n",
              "1    12.812     19.000                     19.500              28139  2018   \n",
              "2    10.312     15.316                     19.113              26817  2018   \n",
              "3     8.312     12.368                     43.493              26034  2018   \n",
              "4     5.875     10.421                     63.378               2833  2018   \n",
              "\n",
              "   month    hot_score  cold_score  \n",
              "0      4  1575.000000    0.242063  \n",
              "1      4  1326.827000    0.255854  \n",
              "2      4  1146.846764    0.260861  \n",
              "3      4   888.628432    0.377526  \n",
              "4      4   768.903064    0.542298  "
            ],
            "text/html": [
              "\n",
              "  <div id=\"df-8a9f202a-3fad-4d18-ac71-851f0db96e15\">\n",
              "    <div class=\"colab-df-container\">\n",
              "      <div>\n",
              "<style scoped>\n",
              "    .dataframe tbody tr th:only-of-type {\n",
              "        vertical-align: middle;\n",
              "    }\n",
              "\n",
              "    .dataframe tbody tr th {\n",
              "        vertical-align: top;\n",
              "    }\n",
              "\n",
              "    .dataframe thead th {\n",
              "        text-align: right;\n",
              "    }\n",
              "</style>\n",
              "<table border=\"1\" class=\"dataframe\">\n",
              "  <thead>\n",
              "    <tr style=\"text-align: right;\">\n",
              "      <th></th>\n",
              "      <th>wind_direction</th>\n",
              "      <th>sky_condition</th>\n",
              "      <th>precipitation_form</th>\n",
              "      <th>wind_speed</th>\n",
              "      <th>humidity</th>\n",
              "      <th>low_temp</th>\n",
              "      <th>high_temp</th>\n",
              "      <th>Precipitation_Probability</th>\n",
              "      <th>number_of_rentals</th>\n",
              "      <th>year</th>\n",
              "      <th>month</th>\n",
              "      <th>hot_score</th>\n",
              "      <th>cold_score</th>\n",
              "    </tr>\n",
              "  </thead>\n",
              "  <tbody>\n",
              "    <tr>\n",
              "      <th>0</th>\n",
              "      <td>207.500</td>\n",
              "      <td>4.000</td>\n",
              "      <td>0.000</td>\n",
              "      <td>3.050</td>\n",
              "      <td>75.000</td>\n",
              "      <td>12.600</td>\n",
              "      <td>21.000</td>\n",
              "      <td>30.000</td>\n",
              "      <td>22994</td>\n",
              "      <td>2018</td>\n",
              "      <td>4</td>\n",
              "      <td>1575.000000</td>\n",
              "      <td>0.242063</td>\n",
              "    </tr>\n",
              "    <tr>\n",
              "      <th>1</th>\n",
              "      <td>208.317</td>\n",
              "      <td>2.950</td>\n",
              "      <td>0.000</td>\n",
              "      <td>3.278</td>\n",
              "      <td>69.833</td>\n",
              "      <td>12.812</td>\n",
              "      <td>19.000</td>\n",
              "      <td>19.500</td>\n",
              "      <td>28139</td>\n",
              "      <td>2018</td>\n",
              "      <td>4</td>\n",
              "      <td>1326.827000</td>\n",
              "      <td>0.255854</td>\n",
              "    </tr>\n",
              "    <tr>\n",
              "      <th>2</th>\n",
              "      <td>213.516</td>\n",
              "      <td>2.911</td>\n",
              "      <td>0.000</td>\n",
              "      <td>2.690</td>\n",
              "      <td>74.879</td>\n",
              "      <td>10.312</td>\n",
              "      <td>15.316</td>\n",
              "      <td>19.113</td>\n",
              "      <td>26817</td>\n",
              "      <td>2018</td>\n",
              "      <td>4</td>\n",
              "      <td>1146.846764</td>\n",
              "      <td>0.260861</td>\n",
              "    </tr>\n",
              "    <tr>\n",
              "      <th>3</th>\n",
              "      <td>143.836</td>\n",
              "      <td>3.692</td>\n",
              "      <td>0.425</td>\n",
              "      <td>3.138</td>\n",
              "      <td>71.849</td>\n",
              "      <td>8.312</td>\n",
              "      <td>12.368</td>\n",
              "      <td>43.493</td>\n",
              "      <td>26034</td>\n",
              "      <td>2018</td>\n",
              "      <td>4</td>\n",
              "      <td>888.628432</td>\n",
              "      <td>0.377526</td>\n",
              "    </tr>\n",
              "    <tr>\n",
              "      <th>4</th>\n",
              "      <td>95.905</td>\n",
              "      <td>4.000</td>\n",
              "      <td>0.723</td>\n",
              "      <td>3.186</td>\n",
              "      <td>73.784</td>\n",
              "      <td>5.875</td>\n",
              "      <td>10.421</td>\n",
              "      <td>63.378</td>\n",
              "      <td>2833</td>\n",
              "      <td>2018</td>\n",
              "      <td>4</td>\n",
              "      <td>768.903064</td>\n",
              "      <td>0.542298</td>\n",
              "    </tr>\n",
              "  </tbody>\n",
              "</table>\n",
              "</div>\n",
              "      <button class=\"colab-df-convert\" onclick=\"convertToInteractive('df-8a9f202a-3fad-4d18-ac71-851f0db96e15')\"\n",
              "              title=\"Convert this dataframe to an interactive table.\"\n",
              "              style=\"display:none;\">\n",
              "        \n",
              "  <svg xmlns=\"http://www.w3.org/2000/svg\" height=\"24px\"viewBox=\"0 0 24 24\"\n",
              "       width=\"24px\">\n",
              "    <path d=\"M0 0h24v24H0V0z\" fill=\"none\"/>\n",
              "    <path d=\"M18.56 5.44l.94 2.06.94-2.06 2.06-.94-2.06-.94-.94-2.06-.94 2.06-2.06.94zm-11 1L8.5 8.5l.94-2.06 2.06-.94-2.06-.94L8.5 2.5l-.94 2.06-2.06.94zm10 10l.94 2.06.94-2.06 2.06-.94-2.06-.94-.94-2.06-.94 2.06-2.06.94z\"/><path d=\"M17.41 7.96l-1.37-1.37c-.4-.4-.92-.59-1.43-.59-.52 0-1.04.2-1.43.59L10.3 9.45l-7.72 7.72c-.78.78-.78 2.05 0 2.83L4 21.41c.39.39.9.59 1.41.59.51 0 1.02-.2 1.41-.59l7.78-7.78 2.81-2.81c.8-.78.8-2.07 0-2.86zM5.41 20L4 18.59l7.72-7.72 1.47 1.35L5.41 20z\"/>\n",
              "  </svg>\n",
              "      </button>\n",
              "      \n",
              "  <style>\n",
              "    .colab-df-container {\n",
              "      display:flex;\n",
              "      flex-wrap:wrap;\n",
              "      gap: 12px;\n",
              "    }\n",
              "\n",
              "    .colab-df-convert {\n",
              "      background-color: #E8F0FE;\n",
              "      border: none;\n",
              "      border-radius: 50%;\n",
              "      cursor: pointer;\n",
              "      display: none;\n",
              "      fill: #1967D2;\n",
              "      height: 32px;\n",
              "      padding: 0 0 0 0;\n",
              "      width: 32px;\n",
              "    }\n",
              "\n",
              "    .colab-df-convert:hover {\n",
              "      background-color: #E2EBFA;\n",
              "      box-shadow: 0px 1px 2px rgba(60, 64, 67, 0.3), 0px 1px 3px 1px rgba(60, 64, 67, 0.15);\n",
              "      fill: #174EA6;\n",
              "    }\n",
              "\n",
              "    [theme=dark] .colab-df-convert {\n",
              "      background-color: #3B4455;\n",
              "      fill: #D2E3FC;\n",
              "    }\n",
              "\n",
              "    [theme=dark] .colab-df-convert:hover {\n",
              "      background-color: #434B5C;\n",
              "      box-shadow: 0px 1px 3px 1px rgba(0, 0, 0, 0.15);\n",
              "      filter: drop-shadow(0px 1px 2px rgba(0, 0, 0, 0.3));\n",
              "      fill: #FFFFFF;\n",
              "    }\n",
              "  </style>\n",
              "\n",
              "      <script>\n",
              "        const buttonEl =\n",
              "          document.querySelector('#df-8a9f202a-3fad-4d18-ac71-851f0db96e15 button.colab-df-convert');\n",
              "        buttonEl.style.display =\n",
              "          google.colab.kernel.accessAllowed ? 'block' : 'none';\n",
              "\n",
              "        async function convertToInteractive(key) {\n",
              "          const element = document.querySelector('#df-8a9f202a-3fad-4d18-ac71-851f0db96e15');\n",
              "          const dataTable =\n",
              "            await google.colab.kernel.invokeFunction('convertToInteractive',\n",
              "                                                     [key], {});\n",
              "          if (!dataTable) return;\n",
              "\n",
              "          const docLinkHtml = 'Like what you see? Visit the ' +\n",
              "            '<a target=\"_blank\" href=https://colab.research.google.com/notebooks/data_table.ipynb>data table notebook</a>'\n",
              "            + ' to learn more about interactive tables.';\n",
              "          element.innerHTML = '';\n",
              "          dataTable['output_type'] = 'display_data';\n",
              "          await google.colab.output.renderOutput(dataTable, element);\n",
              "          const docLink = document.createElement('div');\n",
              "          docLink.innerHTML = docLinkHtml;\n",
              "          element.appendChild(docLink);\n",
              "        }\n",
              "      </script>\n",
              "    </div>\n",
              "  </div>\n",
              "  "
            ]
          },
          "metadata": {},
          "execution_count": 58
        }
      ]
    },
    {
      "cell_type": "markdown",
      "source": [
        "## 4.2. Feature Selection"
      ],
      "metadata": {
        "id": "Tt0ihmqsOOjl"
      }
    },
    {
      "cell_type": "markdown",
      "source": [
        "axis = 0 : 인덱스(index)\n",
        "\n",
        "axis = 1 : 열(columns)"
      ],
      "metadata": {
        "id": "wlNdSwIfUvPz"
      }
    },
    {
      "cell_type": "code",
      "source": [
        "#X = train.drop(['number_of_rentals'], axis = 1) 같은 방법\n",
        "\n",
        "X = train[['wind_direction', 'sky_condition', 'precipitation_form', 'wind_speed',\n",
        "       'humidity', 'low_temp', 'high_temp', 'Precipitation_Probability',\n",
        "       'year', 'month', 'hot_score', 'cold_score']]\n",
        "\n",
        "y = train['number_of_rentals']"
      ],
      "metadata": {
        "id": "-_HbIXXPOKcO"
      },
      "execution_count": 59,
      "outputs": []
    },
    {
      "cell_type": "code",
      "source": [
        "train.columns"
      ],
      "metadata": {
        "colab": {
          "base_uri": "https://localhost:8080/"
        },
        "id": "WKroCEeWOX_H",
        "outputId": "621aeaeb-77bb-46c8-9140-60156b900dc0"
      },
      "execution_count": 60,
      "outputs": [
        {
          "output_type": "execute_result",
          "data": {
            "text/plain": [
              "Index(['wind_direction', 'sky_condition', 'precipitation_form', 'wind_speed',\n",
              "       'humidity', 'low_temp', 'high_temp', 'Precipitation_Probability',\n",
              "       'number_of_rentals', 'year', 'month', 'hot_score', 'cold_score'],\n",
              "      dtype='object')"
            ]
          },
          "metadata": {},
          "execution_count": 60
        }
      ]
    },
    {
      "cell_type": "markdown",
      "source": [
        "# 5. Modeling"
      ],
      "metadata": {
        "id": "HVzma8fNOq6B"
      }
    },
    {
      "cell_type": "markdown",
      "source": [
        "## 5.1. 모델 선택"
      ],
      "metadata": {
        "id": "DWppNlwbOszx"
      }
    },
    {
      "cell_type": "markdown",
      "source": [
        "#### 하이퍼파라미터"
      ],
      "metadata": {
        "id": "qoqbWNi9d8ll"
      }
    },
    {
      "cell_type": "code",
      "source": [
        "import numpy as np\n",
        "from sklearn.model_selection import RandomizedSearchCV\n",
        "from sklearn.ensemble import RandomForestRegressor\n",
        "from scipy.stats import randint\n",
        "\n",
        "param_distribs = {\n",
        "    'n_estimators': randint(low=1,high=200),\n",
        "    'max_features':randint(low=1,high=8),\n",
        "    'max_depth':randint(low=1,high=16),\n",
        "    'min_samples_leaf':randint(low=1,high=20),\n",
        "    'min_samples_split':randint(low=1,high=20)\n",
        "}\n",
        "\n",
        "rfr = RandomForestRegressor(random_state=42)\n",
        "grid_cv = RandomizedSearchCV(rfr, param_distributions=param_distribs, n_iter=10,cv=5,\n",
        "                       scoring='neg_mean_squared_error', random_state=42, n_jobs=-1)\n",
        "grid_cv.fit(X,y)\n",
        "\n",
        "cvres=grid_cv.cv_results_\n",
        "for mean_score, params in zip(cvres['mean_test_score'],cvres['params']):\n",
        "  print(np.sqrt(-mean_score), params)\n"
      ],
      "metadata": {
        "colab": {
          "base_uri": "https://localhost:8080/"
        },
        "id": "ElKFTW09CNhh",
        "outputId": "50871afb-4cec-4cde-d701-0a81896aa663"
      },
      "execution_count": 64,
      "outputs": [
        {
          "output_type": "stream",
          "name": "stdout",
          "text": [
            "20289.518990503835 {'max_depth': 7, 'max_features': 4, 'min_samples_leaf': 15, 'min_samples_split': 11, 'n_estimators': 72}\n",
            "18494.31539200906 {'max_depth': 13, 'max_features': 5, 'min_samples_leaf': 7, 'min_samples_split': 19, 'n_estimators': 75}\n",
            "16712.826431295485 {'max_depth': 11, 'max_features': 5, 'min_samples_leaf': 4, 'min_samples_split': 8, 'n_estimators': 152}\n",
            "17509.538003419122 {'max_depth': 3, 'max_features': 6, 'min_samples_leaf': 2, 'min_samples_split': 12, 'n_estimators': 158}\n",
            "21816.634641430384 {'max_depth': 6, 'max_features': 2, 'min_samples_leaf': 1, 'min_samples_split': 12, 'n_estimators': 58}\n",
            "18992.0399716079 {'max_depth': 6, 'max_features': 5, 'min_samples_leaf': 12, 'min_samples_split': 17, 'n_estimators': 59}\n",
            "23974.29244111996 {'max_depth': 15, 'max_features': 2, 'min_samples_leaf': 16, 'min_samples_split': 15, 'n_estimators': 190}\n",
            "19558.734428949487 {'max_depth': 14, 'max_features': 7, 'min_samples_leaf': 19, 'min_samples_split': 12, 'n_estimators': 55}\n",
            "24465.700661103652 {'max_depth': 4, 'max_features': 1, 'min_samples_leaf': 3, 'min_samples_split': 5, 'n_estimators': 51}\n",
            "18702.95105047334 {'max_depth': 7, 'max_features': 5, 'min_samples_leaf': 9, 'min_samples_split': 7, 'n_estimators': 18}\n"
          ]
        }
      ]
    },
    {
      "cell_type": "code",
      "source": [
        "\n",
        "model = RandomForestRegressor(max_depth=15,max_features=2, min_samples_leaf= 16, min_samples_split= 15, n_estimators= 190)"
      ],
      "metadata": {
        "id": "aktf95vrOZSA"
      },
      "execution_count": 65,
      "outputs": []
    },
    {
      "cell_type": "code",
      "source": [
        "# 이방법도 가능!\n",
        "\n",
        "#from sklearn.linear_model import LinearRegression\n",
        "\n",
        "#model = LinearRegression()"
      ],
      "metadata": {
        "id": "f30oXOH8RNvS"
      },
      "execution_count": 66,
      "outputs": []
    },
    {
      "cell_type": "markdown",
      "source": [
        "## 5.2. 모델 학습"
      ],
      "metadata": {
        "id": "zttn4jbcO2QU"
      }
    },
    {
      "cell_type": "code",
      "source": [
        "model.fit(X,y)"
      ],
      "metadata": {
        "colab": {
          "base_uri": "https://localhost:8080/"
        },
        "id": "jWdKI_D1O1EH",
        "outputId": "ab32052b-d30e-4bb8-e766-dd29810e54c0"
      },
      "execution_count": 67,
      "outputs": [
        {
          "output_type": "execute_result",
          "data": {
            "text/plain": [
              "RandomForestRegressor(max_depth=15, max_features=2, min_samples_leaf=16,\n",
              "                      min_samples_split=15, n_estimators=190)"
            ]
          },
          "metadata": {},
          "execution_count": 67
        }
      ]
    },
    {
      "cell_type": "markdown",
      "source": [
        "## 5.3. 모델 예측"
      ],
      "metadata": {
        "id": "mjvYKYuDO66r"
      }
    },
    {
      "cell_type": "markdown",
      "source": [
        "### 5.3.1. test 셋 데이터 처리"
      ],
      "metadata": {
        "id": "YIiR-MeIO-FB"
      }
    },
    {
      "cell_type": "code",
      "source": [
        "X"
      ],
      "metadata": {
        "colab": {
          "base_uri": "https://localhost:8080/",
          "height": 488
        },
        "id": "zpp4MmTmPB-5",
        "outputId": "a564e7a9-e4eb-459b-9c18-8c6386de4e54"
      },
      "execution_count": 68,
      "outputs": [
        {
          "output_type": "execute_result",
          "data": {
            "text/plain": [
              "     wind_direction  sky_condition  precipitation_form  wind_speed  humidity  \\\n",
              "0           207.500          4.000               0.000       3.050    75.000   \n",
              "1           208.317          2.950               0.000       3.278    69.833   \n",
              "2           213.516          2.911               0.000       2.690    74.879   \n",
              "3           143.836          3.692               0.425       3.138    71.849   \n",
              "4            95.905          4.000               0.723       3.186    73.784   \n",
              "..              ...            ...                 ...         ...       ...   \n",
              "268         228.662          3.980               0.223       2.271    78.378   \n",
              "269         207.770          2.865               0.081       1.794    78.412   \n",
              "270         282.568          1.730               0.000       1.820    72.736   \n",
              "271         137.027          2.257               0.088       2.043    70.473   \n",
              "272         120.797          3.622               0.432       5.574    77.061   \n",
              "\n",
              "     low_temp  high_temp  Precipitation_Probability  year  month    hot_score  \\\n",
              "0      12.600     21.000                     30.000  2018      4  1575.000000   \n",
              "1      12.812     19.000                     19.500  2018      4  1326.827000   \n",
              "2      10.312     15.316                     19.113  2018      4  1146.846764   \n",
              "3       8.312     12.368                     43.493  2018      4   888.628432   \n",
              "4       5.875     10.421                     63.378  2018      4   768.903064   \n",
              "..        ...        ...                        ...   ...    ...          ...   \n",
              "268    20.500     27.526                     36.486  2020      6  2157.432828   \n",
              "269    20.812     28.842                     21.081  2020      6  2261.558904   \n",
              "270    21.000     29.053                      7.297  2020      6  2113.199008   \n",
              "271    19.625     26.000                     15.541  2020      6  1832.298000   \n",
              "272    19.125     26.053                     41.284  2020      6  2007.670233   \n",
              "\n",
              "     cold_score  \n",
              "0      0.242063  \n",
              "1      0.255854  \n",
              "2      0.260861  \n",
              "3      0.377526  \n",
              "4      0.542298  \n",
              "..          ...  \n",
              "268    0.110780  \n",
              "269    0.086200  \n",
              "270    0.086667  \n",
              "271    0.104102  \n",
              "272    0.291451  \n",
              "\n",
              "[273 rows x 12 columns]"
            ],
            "text/html": [
              "\n",
              "  <div id=\"df-166af71b-7a57-42a5-86f3-be8a7f56854b\">\n",
              "    <div class=\"colab-df-container\">\n",
              "      <div>\n",
              "<style scoped>\n",
              "    .dataframe tbody tr th:only-of-type {\n",
              "        vertical-align: middle;\n",
              "    }\n",
              "\n",
              "    .dataframe tbody tr th {\n",
              "        vertical-align: top;\n",
              "    }\n",
              "\n",
              "    .dataframe thead th {\n",
              "        text-align: right;\n",
              "    }\n",
              "</style>\n",
              "<table border=\"1\" class=\"dataframe\">\n",
              "  <thead>\n",
              "    <tr style=\"text-align: right;\">\n",
              "      <th></th>\n",
              "      <th>wind_direction</th>\n",
              "      <th>sky_condition</th>\n",
              "      <th>precipitation_form</th>\n",
              "      <th>wind_speed</th>\n",
              "      <th>humidity</th>\n",
              "      <th>low_temp</th>\n",
              "      <th>high_temp</th>\n",
              "      <th>Precipitation_Probability</th>\n",
              "      <th>year</th>\n",
              "      <th>month</th>\n",
              "      <th>hot_score</th>\n",
              "      <th>cold_score</th>\n",
              "    </tr>\n",
              "  </thead>\n",
              "  <tbody>\n",
              "    <tr>\n",
              "      <th>0</th>\n",
              "      <td>207.500</td>\n",
              "      <td>4.000</td>\n",
              "      <td>0.000</td>\n",
              "      <td>3.050</td>\n",
              "      <td>75.000</td>\n",
              "      <td>12.600</td>\n",
              "      <td>21.000</td>\n",
              "      <td>30.000</td>\n",
              "      <td>2018</td>\n",
              "      <td>4</td>\n",
              "      <td>1575.000000</td>\n",
              "      <td>0.242063</td>\n",
              "    </tr>\n",
              "    <tr>\n",
              "      <th>1</th>\n",
              "      <td>208.317</td>\n",
              "      <td>2.950</td>\n",
              "      <td>0.000</td>\n",
              "      <td>3.278</td>\n",
              "      <td>69.833</td>\n",
              "      <td>12.812</td>\n",
              "      <td>19.000</td>\n",
              "      <td>19.500</td>\n",
              "      <td>2018</td>\n",
              "      <td>4</td>\n",
              "      <td>1326.827000</td>\n",
              "      <td>0.255854</td>\n",
              "    </tr>\n",
              "    <tr>\n",
              "      <th>2</th>\n",
              "      <td>213.516</td>\n",
              "      <td>2.911</td>\n",
              "      <td>0.000</td>\n",
              "      <td>2.690</td>\n",
              "      <td>74.879</td>\n",
              "      <td>10.312</td>\n",
              "      <td>15.316</td>\n",
              "      <td>19.113</td>\n",
              "      <td>2018</td>\n",
              "      <td>4</td>\n",
              "      <td>1146.846764</td>\n",
              "      <td>0.260861</td>\n",
              "    </tr>\n",
              "    <tr>\n",
              "      <th>3</th>\n",
              "      <td>143.836</td>\n",
              "      <td>3.692</td>\n",
              "      <td>0.425</td>\n",
              "      <td>3.138</td>\n",
              "      <td>71.849</td>\n",
              "      <td>8.312</td>\n",
              "      <td>12.368</td>\n",
              "      <td>43.493</td>\n",
              "      <td>2018</td>\n",
              "      <td>4</td>\n",
              "      <td>888.628432</td>\n",
              "      <td>0.377526</td>\n",
              "    </tr>\n",
              "    <tr>\n",
              "      <th>4</th>\n",
              "      <td>95.905</td>\n",
              "      <td>4.000</td>\n",
              "      <td>0.723</td>\n",
              "      <td>3.186</td>\n",
              "      <td>73.784</td>\n",
              "      <td>5.875</td>\n",
              "      <td>10.421</td>\n",
              "      <td>63.378</td>\n",
              "      <td>2018</td>\n",
              "      <td>4</td>\n",
              "      <td>768.903064</td>\n",
              "      <td>0.542298</td>\n",
              "    </tr>\n",
              "    <tr>\n",
              "      <th>...</th>\n",
              "      <td>...</td>\n",
              "      <td>...</td>\n",
              "      <td>...</td>\n",
              "      <td>...</td>\n",
              "      <td>...</td>\n",
              "      <td>...</td>\n",
              "      <td>...</td>\n",
              "      <td>...</td>\n",
              "      <td>...</td>\n",
              "      <td>...</td>\n",
              "      <td>...</td>\n",
              "      <td>...</td>\n",
              "    </tr>\n",
              "    <tr>\n",
              "      <th>268</th>\n",
              "      <td>228.662</td>\n",
              "      <td>3.980</td>\n",
              "      <td>0.223</td>\n",
              "      <td>2.271</td>\n",
              "      <td>78.378</td>\n",
              "      <td>20.500</td>\n",
              "      <td>27.526</td>\n",
              "      <td>36.486</td>\n",
              "      <td>2020</td>\n",
              "      <td>6</td>\n",
              "      <td>2157.432828</td>\n",
              "      <td>0.110780</td>\n",
              "    </tr>\n",
              "    <tr>\n",
              "      <th>269</th>\n",
              "      <td>207.770</td>\n",
              "      <td>2.865</td>\n",
              "      <td>0.081</td>\n",
              "      <td>1.794</td>\n",
              "      <td>78.412</td>\n",
              "      <td>20.812</td>\n",
              "      <td>28.842</td>\n",
              "      <td>21.081</td>\n",
              "      <td>2020</td>\n",
              "      <td>6</td>\n",
              "      <td>2261.558904</td>\n",
              "      <td>0.086200</td>\n",
              "    </tr>\n",
              "    <tr>\n",
              "      <th>270</th>\n",
              "      <td>282.568</td>\n",
              "      <td>1.730</td>\n",
              "      <td>0.000</td>\n",
              "      <td>1.820</td>\n",
              "      <td>72.736</td>\n",
              "      <td>21.000</td>\n",
              "      <td>29.053</td>\n",
              "      <td>7.297</td>\n",
              "      <td>2020</td>\n",
              "      <td>6</td>\n",
              "      <td>2113.199008</td>\n",
              "      <td>0.086667</td>\n",
              "    </tr>\n",
              "    <tr>\n",
              "      <th>271</th>\n",
              "      <td>137.027</td>\n",
              "      <td>2.257</td>\n",
              "      <td>0.088</td>\n",
              "      <td>2.043</td>\n",
              "      <td>70.473</td>\n",
              "      <td>19.625</td>\n",
              "      <td>26.000</td>\n",
              "      <td>15.541</td>\n",
              "      <td>2020</td>\n",
              "      <td>6</td>\n",
              "      <td>1832.298000</td>\n",
              "      <td>0.104102</td>\n",
              "    </tr>\n",
              "    <tr>\n",
              "      <th>272</th>\n",
              "      <td>120.797</td>\n",
              "      <td>3.622</td>\n",
              "      <td>0.432</td>\n",
              "      <td>5.574</td>\n",
              "      <td>77.061</td>\n",
              "      <td>19.125</td>\n",
              "      <td>26.053</td>\n",
              "      <td>41.284</td>\n",
              "      <td>2020</td>\n",
              "      <td>6</td>\n",
              "      <td>2007.670233</td>\n",
              "      <td>0.291451</td>\n",
              "    </tr>\n",
              "  </tbody>\n",
              "</table>\n",
              "<p>273 rows × 12 columns</p>\n",
              "</div>\n",
              "      <button class=\"colab-df-convert\" onclick=\"convertToInteractive('df-166af71b-7a57-42a5-86f3-be8a7f56854b')\"\n",
              "              title=\"Convert this dataframe to an interactive table.\"\n",
              "              style=\"display:none;\">\n",
              "        \n",
              "  <svg xmlns=\"http://www.w3.org/2000/svg\" height=\"24px\"viewBox=\"0 0 24 24\"\n",
              "       width=\"24px\">\n",
              "    <path d=\"M0 0h24v24H0V0z\" fill=\"none\"/>\n",
              "    <path d=\"M18.56 5.44l.94 2.06.94-2.06 2.06-.94-2.06-.94-.94-2.06-.94 2.06-2.06.94zm-11 1L8.5 8.5l.94-2.06 2.06-.94-2.06-.94L8.5 2.5l-.94 2.06-2.06.94zm10 10l.94 2.06.94-2.06 2.06-.94-2.06-.94-.94-2.06-.94 2.06-2.06.94z\"/><path d=\"M17.41 7.96l-1.37-1.37c-.4-.4-.92-.59-1.43-.59-.52 0-1.04.2-1.43.59L10.3 9.45l-7.72 7.72c-.78.78-.78 2.05 0 2.83L4 21.41c.39.39.9.59 1.41.59.51 0 1.02-.2 1.41-.59l7.78-7.78 2.81-2.81c.8-.78.8-2.07 0-2.86zM5.41 20L4 18.59l7.72-7.72 1.47 1.35L5.41 20z\"/>\n",
              "  </svg>\n",
              "      </button>\n",
              "      \n",
              "  <style>\n",
              "    .colab-df-container {\n",
              "      display:flex;\n",
              "      flex-wrap:wrap;\n",
              "      gap: 12px;\n",
              "    }\n",
              "\n",
              "    .colab-df-convert {\n",
              "      background-color: #E8F0FE;\n",
              "      border: none;\n",
              "      border-radius: 50%;\n",
              "      cursor: pointer;\n",
              "      display: none;\n",
              "      fill: #1967D2;\n",
              "      height: 32px;\n",
              "      padding: 0 0 0 0;\n",
              "      width: 32px;\n",
              "    }\n",
              "\n",
              "    .colab-df-convert:hover {\n",
              "      background-color: #E2EBFA;\n",
              "      box-shadow: 0px 1px 2px rgba(60, 64, 67, 0.3), 0px 1px 3px 1px rgba(60, 64, 67, 0.15);\n",
              "      fill: #174EA6;\n",
              "    }\n",
              "\n",
              "    [theme=dark] .colab-df-convert {\n",
              "      background-color: #3B4455;\n",
              "      fill: #D2E3FC;\n",
              "    }\n",
              "\n",
              "    [theme=dark] .colab-df-convert:hover {\n",
              "      background-color: #434B5C;\n",
              "      box-shadow: 0px 1px 3px 1px rgba(0, 0, 0, 0.15);\n",
              "      filter: drop-shadow(0px 1px 2px rgba(0, 0, 0, 0.3));\n",
              "      fill: #FFFFFF;\n",
              "    }\n",
              "  </style>\n",
              "\n",
              "      <script>\n",
              "        const buttonEl =\n",
              "          document.querySelector('#df-166af71b-7a57-42a5-86f3-be8a7f56854b button.colab-df-convert');\n",
              "        buttonEl.style.display =\n",
              "          google.colab.kernel.accessAllowed ? 'block' : 'none';\n",
              "\n",
              "        async function convertToInteractive(key) {\n",
              "          const element = document.querySelector('#df-166af71b-7a57-42a5-86f3-be8a7f56854b');\n",
              "          const dataTable =\n",
              "            await google.colab.kernel.invokeFunction('convertToInteractive',\n",
              "                                                     [key], {});\n",
              "          if (!dataTable) return;\n",
              "\n",
              "          const docLinkHtml = 'Like what you see? Visit the ' +\n",
              "            '<a target=\"_blank\" href=https://colab.research.google.com/notebooks/data_table.ipynb>data table notebook</a>'\n",
              "            + ' to learn more about interactive tables.';\n",
              "          element.innerHTML = '';\n",
              "          dataTable['output_type'] = 'display_data';\n",
              "          await google.colab.output.renderOutput(dataTable, element);\n",
              "          const docLink = document.createElement('div');\n",
              "          docLink.innerHTML = docLinkHtml;\n",
              "          element.appendChild(docLink);\n",
              "        }\n",
              "      </script>\n",
              "    </div>\n",
              "  </div>\n",
              "  "
            ]
          },
          "metadata": {},
          "execution_count": 68
        }
      ]
    },
    {
      "cell_type": "markdown",
      "source": [
        "### 5.3.1.1.  데이터 전처리 과정에서"
      ],
      "metadata": {
        "id": "VqflR7N4PQLs"
      }
    },
    {
      "cell_type": "code",
      "source": [
        "# date_time 쪼개기 -> year, month, day\n",
        "test['year'] = test['date_time'].apply(lambda x : x.split('-')[0])\n",
        "test['month'] = test['date_time'].apply(lambda x : x.split('-')[1])\n",
        "test['day'] = test['date_time'].apply(lambda x : x.split('-')[2])\n",
        "\n",
        "# 요일 정보 추가\n",
        "week_day = pd.to_datetime(test['date_time']).dt.day_name()\n",
        "test['week_day'] = week_day\n",
        "\n",
        "# 가공한 변수 타입 변경\n",
        "test['year'] = test['year'].astype('int')\n",
        "test['month'] = test['month'].astype('int')\n",
        "test['day'] = test['day'].astype('int')\n",
        "\n",
        "test.loc[test['week_day'] == 'Sunday', 'week_day'] = 0\n",
        "test.loc[test['week_day'] == 'Monday', 'week_day'] = 1\n",
        "test.loc[test['week_day'] == 'Tuesday', 'week_day'] = 2\n",
        "test.loc[test['week_day'] == 'Wednesday', 'week_day'] = 3\n",
        "test.loc[test['week_day'] == 'Thursday', 'week_day'] = 4\n",
        "test.loc[test['week_day'] == 'Friday', 'week_day'] = 5\n",
        "test.loc[test['week_day'] == 'Saturday', 'week_day'] = 6\n",
        "test['week_day'] = test['week_day'].astype('int')\n",
        "\n",
        "test.head()"
      ],
      "metadata": {
        "colab": {
          "base_uri": "https://localhost:8080/",
          "height": 270
        },
        "id": "q0SapVNGPD4b",
        "outputId": "8e7b7f79-da88-4256-9a42-e77fdaa35b35"
      },
      "execution_count": 69,
      "outputs": [
        {
          "output_type": "execute_result",
          "data": {
            "text/plain": [
              "    date_time  wind_direction  sky_condition  precipitation_form  wind_speed  \\\n",
              "0  2021-04-01         108.833          3.000               0.000       2.900   \n",
              "1  2021-04-02         116.717          3.850               0.000       2.662   \n",
              "2  2021-04-03          82.669          4.000               0.565       2.165   \n",
              "3  2021-04-04          44.123          3.466               0.466       3.747   \n",
              "4  2021-04-05         147.791          1.500               0.000       1.560   \n",
              "\n",
              "   humidity  low_temp  high_temp  Precipitation_Probability  year  month  day  \\\n",
              "0    28.333    11.800     20.667                     18.333  2021      4    1   \n",
              "1    46.417    12.000     19.000                     28.500  2021      4    2   \n",
              "2    77.258     8.875     16.368                     52.847  2021      4    3   \n",
              "3    63.288     6.250     17.368                     37.671  2021      4    4   \n",
              "4    48.176     7.188     18.684                      4.459  2021      4    5   \n",
              "\n",
              "   week_day  \n",
              "0         4  \n",
              "1         5  \n",
              "2         6  \n",
              "3         0  \n",
              "4         1  "
            ],
            "text/html": [
              "\n",
              "  <div id=\"df-8c8f5c8b-10b8-4d25-a344-ac3880d9f482\">\n",
              "    <div class=\"colab-df-container\">\n",
              "      <div>\n",
              "<style scoped>\n",
              "    .dataframe tbody tr th:only-of-type {\n",
              "        vertical-align: middle;\n",
              "    }\n",
              "\n",
              "    .dataframe tbody tr th {\n",
              "        vertical-align: top;\n",
              "    }\n",
              "\n",
              "    .dataframe thead th {\n",
              "        text-align: right;\n",
              "    }\n",
              "</style>\n",
              "<table border=\"1\" class=\"dataframe\">\n",
              "  <thead>\n",
              "    <tr style=\"text-align: right;\">\n",
              "      <th></th>\n",
              "      <th>date_time</th>\n",
              "      <th>wind_direction</th>\n",
              "      <th>sky_condition</th>\n",
              "      <th>precipitation_form</th>\n",
              "      <th>wind_speed</th>\n",
              "      <th>humidity</th>\n",
              "      <th>low_temp</th>\n",
              "      <th>high_temp</th>\n",
              "      <th>Precipitation_Probability</th>\n",
              "      <th>year</th>\n",
              "      <th>month</th>\n",
              "      <th>day</th>\n",
              "      <th>week_day</th>\n",
              "    </tr>\n",
              "  </thead>\n",
              "  <tbody>\n",
              "    <tr>\n",
              "      <th>0</th>\n",
              "      <td>2021-04-01</td>\n",
              "      <td>108.833</td>\n",
              "      <td>3.000</td>\n",
              "      <td>0.000</td>\n",
              "      <td>2.900</td>\n",
              "      <td>28.333</td>\n",
              "      <td>11.800</td>\n",
              "      <td>20.667</td>\n",
              "      <td>18.333</td>\n",
              "      <td>2021</td>\n",
              "      <td>4</td>\n",
              "      <td>1</td>\n",
              "      <td>4</td>\n",
              "    </tr>\n",
              "    <tr>\n",
              "      <th>1</th>\n",
              "      <td>2021-04-02</td>\n",
              "      <td>116.717</td>\n",
              "      <td>3.850</td>\n",
              "      <td>0.000</td>\n",
              "      <td>2.662</td>\n",
              "      <td>46.417</td>\n",
              "      <td>12.000</td>\n",
              "      <td>19.000</td>\n",
              "      <td>28.500</td>\n",
              "      <td>2021</td>\n",
              "      <td>4</td>\n",
              "      <td>2</td>\n",
              "      <td>5</td>\n",
              "    </tr>\n",
              "    <tr>\n",
              "      <th>2</th>\n",
              "      <td>2021-04-03</td>\n",
              "      <td>82.669</td>\n",
              "      <td>4.000</td>\n",
              "      <td>0.565</td>\n",
              "      <td>2.165</td>\n",
              "      <td>77.258</td>\n",
              "      <td>8.875</td>\n",
              "      <td>16.368</td>\n",
              "      <td>52.847</td>\n",
              "      <td>2021</td>\n",
              "      <td>4</td>\n",
              "      <td>3</td>\n",
              "      <td>6</td>\n",
              "    </tr>\n",
              "    <tr>\n",
              "      <th>3</th>\n",
              "      <td>2021-04-04</td>\n",
              "      <td>44.123</td>\n",
              "      <td>3.466</td>\n",
              "      <td>0.466</td>\n",
              "      <td>3.747</td>\n",
              "      <td>63.288</td>\n",
              "      <td>6.250</td>\n",
              "      <td>17.368</td>\n",
              "      <td>37.671</td>\n",
              "      <td>2021</td>\n",
              "      <td>4</td>\n",
              "      <td>4</td>\n",
              "      <td>0</td>\n",
              "    </tr>\n",
              "    <tr>\n",
              "      <th>4</th>\n",
              "      <td>2021-04-05</td>\n",
              "      <td>147.791</td>\n",
              "      <td>1.500</td>\n",
              "      <td>0.000</td>\n",
              "      <td>1.560</td>\n",
              "      <td>48.176</td>\n",
              "      <td>7.188</td>\n",
              "      <td>18.684</td>\n",
              "      <td>4.459</td>\n",
              "      <td>2021</td>\n",
              "      <td>4</td>\n",
              "      <td>5</td>\n",
              "      <td>1</td>\n",
              "    </tr>\n",
              "  </tbody>\n",
              "</table>\n",
              "</div>\n",
              "      <button class=\"colab-df-convert\" onclick=\"convertToInteractive('df-8c8f5c8b-10b8-4d25-a344-ac3880d9f482')\"\n",
              "              title=\"Convert this dataframe to an interactive table.\"\n",
              "              style=\"display:none;\">\n",
              "        \n",
              "  <svg xmlns=\"http://www.w3.org/2000/svg\" height=\"24px\"viewBox=\"0 0 24 24\"\n",
              "       width=\"24px\">\n",
              "    <path d=\"M0 0h24v24H0V0z\" fill=\"none\"/>\n",
              "    <path d=\"M18.56 5.44l.94 2.06.94-2.06 2.06-.94-2.06-.94-.94-2.06-.94 2.06-2.06.94zm-11 1L8.5 8.5l.94-2.06 2.06-.94-2.06-.94L8.5 2.5l-.94 2.06-2.06.94zm10 10l.94 2.06.94-2.06 2.06-.94-2.06-.94-.94-2.06-.94 2.06-2.06.94z\"/><path d=\"M17.41 7.96l-1.37-1.37c-.4-.4-.92-.59-1.43-.59-.52 0-1.04.2-1.43.59L10.3 9.45l-7.72 7.72c-.78.78-.78 2.05 0 2.83L4 21.41c.39.39.9.59 1.41.59.51 0 1.02-.2 1.41-.59l7.78-7.78 2.81-2.81c.8-.78.8-2.07 0-2.86zM5.41 20L4 18.59l7.72-7.72 1.47 1.35L5.41 20z\"/>\n",
              "  </svg>\n",
              "      </button>\n",
              "      \n",
              "  <style>\n",
              "    .colab-df-container {\n",
              "      display:flex;\n",
              "      flex-wrap:wrap;\n",
              "      gap: 12px;\n",
              "    }\n",
              "\n",
              "    .colab-df-convert {\n",
              "      background-color: #E8F0FE;\n",
              "      border: none;\n",
              "      border-radius: 50%;\n",
              "      cursor: pointer;\n",
              "      display: none;\n",
              "      fill: #1967D2;\n",
              "      height: 32px;\n",
              "      padding: 0 0 0 0;\n",
              "      width: 32px;\n",
              "    }\n",
              "\n",
              "    .colab-df-convert:hover {\n",
              "      background-color: #E2EBFA;\n",
              "      box-shadow: 0px 1px 2px rgba(60, 64, 67, 0.3), 0px 1px 3px 1px rgba(60, 64, 67, 0.15);\n",
              "      fill: #174EA6;\n",
              "    }\n",
              "\n",
              "    [theme=dark] .colab-df-convert {\n",
              "      background-color: #3B4455;\n",
              "      fill: #D2E3FC;\n",
              "    }\n",
              "\n",
              "    [theme=dark] .colab-df-convert:hover {\n",
              "      background-color: #434B5C;\n",
              "      box-shadow: 0px 1px 3px 1px rgba(0, 0, 0, 0.15);\n",
              "      filter: drop-shadow(0px 1px 2px rgba(0, 0, 0, 0.3));\n",
              "      fill: #FFFFFF;\n",
              "    }\n",
              "  </style>\n",
              "\n",
              "      <script>\n",
              "        const buttonEl =\n",
              "          document.querySelector('#df-8c8f5c8b-10b8-4d25-a344-ac3880d9f482 button.colab-df-convert');\n",
              "        buttonEl.style.display =\n",
              "          google.colab.kernel.accessAllowed ? 'block' : 'none';\n",
              "\n",
              "        async function convertToInteractive(key) {\n",
              "          const element = document.querySelector('#df-8c8f5c8b-10b8-4d25-a344-ac3880d9f482');\n",
              "          const dataTable =\n",
              "            await google.colab.kernel.invokeFunction('convertToInteractive',\n",
              "                                                     [key], {});\n",
              "          if (!dataTable) return;\n",
              "\n",
              "          const docLinkHtml = 'Like what you see? Visit the ' +\n",
              "            '<a target=\"_blank\" href=https://colab.research.google.com/notebooks/data_table.ipynb>data table notebook</a>'\n",
              "            + ' to learn more about interactive tables.';\n",
              "          element.innerHTML = '';\n",
              "          dataTable['output_type'] = 'display_data';\n",
              "          await google.colab.output.renderOutput(dataTable, element);\n",
              "          const docLink = document.createElement('div');\n",
              "          docLink.innerHTML = docLinkHtml;\n",
              "          element.appendChild(docLink);\n",
              "        }\n",
              "      </script>\n",
              "    </div>\n",
              "  </div>\n",
              "  "
            ]
          },
          "metadata": {},
          "execution_count": 69
        }
      ]
    },
    {
      "cell_type": "markdown",
      "source": [
        "#### 5.4.1.2. Feature Extraction 과정"
      ],
      "metadata": {
        "id": "Xni30AtiPcoB"
      }
    },
    {
      "cell_type": "code",
      "source": [
        "# 피쳐 제거\n",
        "test = test.drop(['week_day'],axis = 1)\n",
        "test = test.drop(['day'],axis = 1)\n",
        "test = test.drop(['date_time'],axis = 1)\n",
        "\n",
        "# 더위 점수\n",
        "test['hot_score'] = test['high_temp'] * test['humidity']\n",
        "\n",
        "# 추위 점수\n",
        "test['cold_score'] = test['wind_speed'] / test['low_temp']\n",
        "\n",
        "test.head()"
      ],
      "metadata": {
        "colab": {
          "base_uri": "https://localhost:8080/",
          "height": 270
        },
        "id": "x1NJo0xyPaWO",
        "outputId": "1c3ef095-8429-48a2-8036-1e230678a33d"
      },
      "execution_count": 70,
      "outputs": [
        {
          "output_type": "execute_result",
          "data": {
            "text/plain": [
              "   wind_direction  sky_condition  precipitation_form  wind_speed  humidity  \\\n",
              "0         108.833          3.000               0.000       2.900    28.333   \n",
              "1         116.717          3.850               0.000       2.662    46.417   \n",
              "2          82.669          4.000               0.565       2.165    77.258   \n",
              "3          44.123          3.466               0.466       3.747    63.288   \n",
              "4         147.791          1.500               0.000       1.560    48.176   \n",
              "\n",
              "   low_temp  high_temp  Precipitation_Probability  year  month    hot_score  \\\n",
              "0    11.800     20.667                     18.333  2021      4   585.558111   \n",
              "1    12.000     19.000                     28.500  2021      4   881.923000   \n",
              "2     8.875     16.368                     52.847  2021      4  1264.558944   \n",
              "3     6.250     17.368                     37.671  2021      4  1099.185984   \n",
              "4     7.188     18.684                      4.459  2021      4   900.120384   \n",
              "\n",
              "   cold_score  \n",
              "0    0.245763  \n",
              "1    0.221833  \n",
              "2    0.243944  \n",
              "3    0.599520  \n",
              "4    0.217028  "
            ],
            "text/html": [
              "\n",
              "  <div id=\"df-6e6c0f51-ca98-4f87-bb0e-4d88e1f31711\">\n",
              "    <div class=\"colab-df-container\">\n",
              "      <div>\n",
              "<style scoped>\n",
              "    .dataframe tbody tr th:only-of-type {\n",
              "        vertical-align: middle;\n",
              "    }\n",
              "\n",
              "    .dataframe tbody tr th {\n",
              "        vertical-align: top;\n",
              "    }\n",
              "\n",
              "    .dataframe thead th {\n",
              "        text-align: right;\n",
              "    }\n",
              "</style>\n",
              "<table border=\"1\" class=\"dataframe\">\n",
              "  <thead>\n",
              "    <tr style=\"text-align: right;\">\n",
              "      <th></th>\n",
              "      <th>wind_direction</th>\n",
              "      <th>sky_condition</th>\n",
              "      <th>precipitation_form</th>\n",
              "      <th>wind_speed</th>\n",
              "      <th>humidity</th>\n",
              "      <th>low_temp</th>\n",
              "      <th>high_temp</th>\n",
              "      <th>Precipitation_Probability</th>\n",
              "      <th>year</th>\n",
              "      <th>month</th>\n",
              "      <th>hot_score</th>\n",
              "      <th>cold_score</th>\n",
              "    </tr>\n",
              "  </thead>\n",
              "  <tbody>\n",
              "    <tr>\n",
              "      <th>0</th>\n",
              "      <td>108.833</td>\n",
              "      <td>3.000</td>\n",
              "      <td>0.000</td>\n",
              "      <td>2.900</td>\n",
              "      <td>28.333</td>\n",
              "      <td>11.800</td>\n",
              "      <td>20.667</td>\n",
              "      <td>18.333</td>\n",
              "      <td>2021</td>\n",
              "      <td>4</td>\n",
              "      <td>585.558111</td>\n",
              "      <td>0.245763</td>\n",
              "    </tr>\n",
              "    <tr>\n",
              "      <th>1</th>\n",
              "      <td>116.717</td>\n",
              "      <td>3.850</td>\n",
              "      <td>0.000</td>\n",
              "      <td>2.662</td>\n",
              "      <td>46.417</td>\n",
              "      <td>12.000</td>\n",
              "      <td>19.000</td>\n",
              "      <td>28.500</td>\n",
              "      <td>2021</td>\n",
              "      <td>4</td>\n",
              "      <td>881.923000</td>\n",
              "      <td>0.221833</td>\n",
              "    </tr>\n",
              "    <tr>\n",
              "      <th>2</th>\n",
              "      <td>82.669</td>\n",
              "      <td>4.000</td>\n",
              "      <td>0.565</td>\n",
              "      <td>2.165</td>\n",
              "      <td>77.258</td>\n",
              "      <td>8.875</td>\n",
              "      <td>16.368</td>\n",
              "      <td>52.847</td>\n",
              "      <td>2021</td>\n",
              "      <td>4</td>\n",
              "      <td>1264.558944</td>\n",
              "      <td>0.243944</td>\n",
              "    </tr>\n",
              "    <tr>\n",
              "      <th>3</th>\n",
              "      <td>44.123</td>\n",
              "      <td>3.466</td>\n",
              "      <td>0.466</td>\n",
              "      <td>3.747</td>\n",
              "      <td>63.288</td>\n",
              "      <td>6.250</td>\n",
              "      <td>17.368</td>\n",
              "      <td>37.671</td>\n",
              "      <td>2021</td>\n",
              "      <td>4</td>\n",
              "      <td>1099.185984</td>\n",
              "      <td>0.599520</td>\n",
              "    </tr>\n",
              "    <tr>\n",
              "      <th>4</th>\n",
              "      <td>147.791</td>\n",
              "      <td>1.500</td>\n",
              "      <td>0.000</td>\n",
              "      <td>1.560</td>\n",
              "      <td>48.176</td>\n",
              "      <td>7.188</td>\n",
              "      <td>18.684</td>\n",
              "      <td>4.459</td>\n",
              "      <td>2021</td>\n",
              "      <td>4</td>\n",
              "      <td>900.120384</td>\n",
              "      <td>0.217028</td>\n",
              "    </tr>\n",
              "  </tbody>\n",
              "</table>\n",
              "</div>\n",
              "      <button class=\"colab-df-convert\" onclick=\"convertToInteractive('df-6e6c0f51-ca98-4f87-bb0e-4d88e1f31711')\"\n",
              "              title=\"Convert this dataframe to an interactive table.\"\n",
              "              style=\"display:none;\">\n",
              "        \n",
              "  <svg xmlns=\"http://www.w3.org/2000/svg\" height=\"24px\"viewBox=\"0 0 24 24\"\n",
              "       width=\"24px\">\n",
              "    <path d=\"M0 0h24v24H0V0z\" fill=\"none\"/>\n",
              "    <path d=\"M18.56 5.44l.94 2.06.94-2.06 2.06-.94-2.06-.94-.94-2.06-.94 2.06-2.06.94zm-11 1L8.5 8.5l.94-2.06 2.06-.94-2.06-.94L8.5 2.5l-.94 2.06-2.06.94zm10 10l.94 2.06.94-2.06 2.06-.94-2.06-.94-.94-2.06-.94 2.06-2.06.94z\"/><path d=\"M17.41 7.96l-1.37-1.37c-.4-.4-.92-.59-1.43-.59-.52 0-1.04.2-1.43.59L10.3 9.45l-7.72 7.72c-.78.78-.78 2.05 0 2.83L4 21.41c.39.39.9.59 1.41.59.51 0 1.02-.2 1.41-.59l7.78-7.78 2.81-2.81c.8-.78.8-2.07 0-2.86zM5.41 20L4 18.59l7.72-7.72 1.47 1.35L5.41 20z\"/>\n",
              "  </svg>\n",
              "      </button>\n",
              "      \n",
              "  <style>\n",
              "    .colab-df-container {\n",
              "      display:flex;\n",
              "      flex-wrap:wrap;\n",
              "      gap: 12px;\n",
              "    }\n",
              "\n",
              "    .colab-df-convert {\n",
              "      background-color: #E8F0FE;\n",
              "      border: none;\n",
              "      border-radius: 50%;\n",
              "      cursor: pointer;\n",
              "      display: none;\n",
              "      fill: #1967D2;\n",
              "      height: 32px;\n",
              "      padding: 0 0 0 0;\n",
              "      width: 32px;\n",
              "    }\n",
              "\n",
              "    .colab-df-convert:hover {\n",
              "      background-color: #E2EBFA;\n",
              "      box-shadow: 0px 1px 2px rgba(60, 64, 67, 0.3), 0px 1px 3px 1px rgba(60, 64, 67, 0.15);\n",
              "      fill: #174EA6;\n",
              "    }\n",
              "\n",
              "    [theme=dark] .colab-df-convert {\n",
              "      background-color: #3B4455;\n",
              "      fill: #D2E3FC;\n",
              "    }\n",
              "\n",
              "    [theme=dark] .colab-df-convert:hover {\n",
              "      background-color: #434B5C;\n",
              "      box-shadow: 0px 1px 3px 1px rgba(0, 0, 0, 0.15);\n",
              "      filter: drop-shadow(0px 1px 2px rgba(0, 0, 0, 0.3));\n",
              "      fill: #FFFFFF;\n",
              "    }\n",
              "  </style>\n",
              "\n",
              "      <script>\n",
              "        const buttonEl =\n",
              "          document.querySelector('#df-6e6c0f51-ca98-4f87-bb0e-4d88e1f31711 button.colab-df-convert');\n",
              "        buttonEl.style.display =\n",
              "          google.colab.kernel.accessAllowed ? 'block' : 'none';\n",
              "\n",
              "        async function convertToInteractive(key) {\n",
              "          const element = document.querySelector('#df-6e6c0f51-ca98-4f87-bb0e-4d88e1f31711');\n",
              "          const dataTable =\n",
              "            await google.colab.kernel.invokeFunction('convertToInteractive',\n",
              "                                                     [key], {});\n",
              "          if (!dataTable) return;\n",
              "\n",
              "          const docLinkHtml = 'Like what you see? Visit the ' +\n",
              "            '<a target=\"_blank\" href=https://colab.research.google.com/notebooks/data_table.ipynb>data table notebook</a>'\n",
              "            + ' to learn more about interactive tables.';\n",
              "          element.innerHTML = '';\n",
              "          dataTable['output_type'] = 'display_data';\n",
              "          await google.colab.output.renderOutput(dataTable, element);\n",
              "          const docLink = document.createElement('div');\n",
              "          docLink.innerHTML = docLinkHtml;\n",
              "          element.appendChild(docLink);\n",
              "        }\n",
              "      </script>\n",
              "    </div>\n",
              "  </div>\n",
              "  "
            ]
          },
          "metadata": {},
          "execution_count": 70
        }
      ]
    },
    {
      "cell_type": "code",
      "source": [
        "X"
      ],
      "metadata": {
        "colab": {
          "base_uri": "https://localhost:8080/",
          "height": 488
        },
        "id": "q3_5v8grPjQp",
        "outputId": "353f1b52-47d7-41a7-c691-4267a073ce7c"
      },
      "execution_count": 71,
      "outputs": [
        {
          "output_type": "execute_result",
          "data": {
            "text/plain": [
              "     wind_direction  sky_condition  precipitation_form  wind_speed  humidity  \\\n",
              "0           207.500          4.000               0.000       3.050    75.000   \n",
              "1           208.317          2.950               0.000       3.278    69.833   \n",
              "2           213.516          2.911               0.000       2.690    74.879   \n",
              "3           143.836          3.692               0.425       3.138    71.849   \n",
              "4            95.905          4.000               0.723       3.186    73.784   \n",
              "..              ...            ...                 ...         ...       ...   \n",
              "268         228.662          3.980               0.223       2.271    78.378   \n",
              "269         207.770          2.865               0.081       1.794    78.412   \n",
              "270         282.568          1.730               0.000       1.820    72.736   \n",
              "271         137.027          2.257               0.088       2.043    70.473   \n",
              "272         120.797          3.622               0.432       5.574    77.061   \n",
              "\n",
              "     low_temp  high_temp  Precipitation_Probability  year  month    hot_score  \\\n",
              "0      12.600     21.000                     30.000  2018      4  1575.000000   \n",
              "1      12.812     19.000                     19.500  2018      4  1326.827000   \n",
              "2      10.312     15.316                     19.113  2018      4  1146.846764   \n",
              "3       8.312     12.368                     43.493  2018      4   888.628432   \n",
              "4       5.875     10.421                     63.378  2018      4   768.903064   \n",
              "..        ...        ...                        ...   ...    ...          ...   \n",
              "268    20.500     27.526                     36.486  2020      6  2157.432828   \n",
              "269    20.812     28.842                     21.081  2020      6  2261.558904   \n",
              "270    21.000     29.053                      7.297  2020      6  2113.199008   \n",
              "271    19.625     26.000                     15.541  2020      6  1832.298000   \n",
              "272    19.125     26.053                     41.284  2020      6  2007.670233   \n",
              "\n",
              "     cold_score  \n",
              "0      0.242063  \n",
              "1      0.255854  \n",
              "2      0.260861  \n",
              "3      0.377526  \n",
              "4      0.542298  \n",
              "..          ...  \n",
              "268    0.110780  \n",
              "269    0.086200  \n",
              "270    0.086667  \n",
              "271    0.104102  \n",
              "272    0.291451  \n",
              "\n",
              "[273 rows x 12 columns]"
            ],
            "text/html": [
              "\n",
              "  <div id=\"df-13939607-b332-4e36-a1d3-e0378b90ffdb\">\n",
              "    <div class=\"colab-df-container\">\n",
              "      <div>\n",
              "<style scoped>\n",
              "    .dataframe tbody tr th:only-of-type {\n",
              "        vertical-align: middle;\n",
              "    }\n",
              "\n",
              "    .dataframe tbody tr th {\n",
              "        vertical-align: top;\n",
              "    }\n",
              "\n",
              "    .dataframe thead th {\n",
              "        text-align: right;\n",
              "    }\n",
              "</style>\n",
              "<table border=\"1\" class=\"dataframe\">\n",
              "  <thead>\n",
              "    <tr style=\"text-align: right;\">\n",
              "      <th></th>\n",
              "      <th>wind_direction</th>\n",
              "      <th>sky_condition</th>\n",
              "      <th>precipitation_form</th>\n",
              "      <th>wind_speed</th>\n",
              "      <th>humidity</th>\n",
              "      <th>low_temp</th>\n",
              "      <th>high_temp</th>\n",
              "      <th>Precipitation_Probability</th>\n",
              "      <th>year</th>\n",
              "      <th>month</th>\n",
              "      <th>hot_score</th>\n",
              "      <th>cold_score</th>\n",
              "    </tr>\n",
              "  </thead>\n",
              "  <tbody>\n",
              "    <tr>\n",
              "      <th>0</th>\n",
              "      <td>207.500</td>\n",
              "      <td>4.000</td>\n",
              "      <td>0.000</td>\n",
              "      <td>3.050</td>\n",
              "      <td>75.000</td>\n",
              "      <td>12.600</td>\n",
              "      <td>21.000</td>\n",
              "      <td>30.000</td>\n",
              "      <td>2018</td>\n",
              "      <td>4</td>\n",
              "      <td>1575.000000</td>\n",
              "      <td>0.242063</td>\n",
              "    </tr>\n",
              "    <tr>\n",
              "      <th>1</th>\n",
              "      <td>208.317</td>\n",
              "      <td>2.950</td>\n",
              "      <td>0.000</td>\n",
              "      <td>3.278</td>\n",
              "      <td>69.833</td>\n",
              "      <td>12.812</td>\n",
              "      <td>19.000</td>\n",
              "      <td>19.500</td>\n",
              "      <td>2018</td>\n",
              "      <td>4</td>\n",
              "      <td>1326.827000</td>\n",
              "      <td>0.255854</td>\n",
              "    </tr>\n",
              "    <tr>\n",
              "      <th>2</th>\n",
              "      <td>213.516</td>\n",
              "      <td>2.911</td>\n",
              "      <td>0.000</td>\n",
              "      <td>2.690</td>\n",
              "      <td>74.879</td>\n",
              "      <td>10.312</td>\n",
              "      <td>15.316</td>\n",
              "      <td>19.113</td>\n",
              "      <td>2018</td>\n",
              "      <td>4</td>\n",
              "      <td>1146.846764</td>\n",
              "      <td>0.260861</td>\n",
              "    </tr>\n",
              "    <tr>\n",
              "      <th>3</th>\n",
              "      <td>143.836</td>\n",
              "      <td>3.692</td>\n",
              "      <td>0.425</td>\n",
              "      <td>3.138</td>\n",
              "      <td>71.849</td>\n",
              "      <td>8.312</td>\n",
              "      <td>12.368</td>\n",
              "      <td>43.493</td>\n",
              "      <td>2018</td>\n",
              "      <td>4</td>\n",
              "      <td>888.628432</td>\n",
              "      <td>0.377526</td>\n",
              "    </tr>\n",
              "    <tr>\n",
              "      <th>4</th>\n",
              "      <td>95.905</td>\n",
              "      <td>4.000</td>\n",
              "      <td>0.723</td>\n",
              "      <td>3.186</td>\n",
              "      <td>73.784</td>\n",
              "      <td>5.875</td>\n",
              "      <td>10.421</td>\n",
              "      <td>63.378</td>\n",
              "      <td>2018</td>\n",
              "      <td>4</td>\n",
              "      <td>768.903064</td>\n",
              "      <td>0.542298</td>\n",
              "    </tr>\n",
              "    <tr>\n",
              "      <th>...</th>\n",
              "      <td>...</td>\n",
              "      <td>...</td>\n",
              "      <td>...</td>\n",
              "      <td>...</td>\n",
              "      <td>...</td>\n",
              "      <td>...</td>\n",
              "      <td>...</td>\n",
              "      <td>...</td>\n",
              "      <td>...</td>\n",
              "      <td>...</td>\n",
              "      <td>...</td>\n",
              "      <td>...</td>\n",
              "    </tr>\n",
              "    <tr>\n",
              "      <th>268</th>\n",
              "      <td>228.662</td>\n",
              "      <td>3.980</td>\n",
              "      <td>0.223</td>\n",
              "      <td>2.271</td>\n",
              "      <td>78.378</td>\n",
              "      <td>20.500</td>\n",
              "      <td>27.526</td>\n",
              "      <td>36.486</td>\n",
              "      <td>2020</td>\n",
              "      <td>6</td>\n",
              "      <td>2157.432828</td>\n",
              "      <td>0.110780</td>\n",
              "    </tr>\n",
              "    <tr>\n",
              "      <th>269</th>\n",
              "      <td>207.770</td>\n",
              "      <td>2.865</td>\n",
              "      <td>0.081</td>\n",
              "      <td>1.794</td>\n",
              "      <td>78.412</td>\n",
              "      <td>20.812</td>\n",
              "      <td>28.842</td>\n",
              "      <td>21.081</td>\n",
              "      <td>2020</td>\n",
              "      <td>6</td>\n",
              "      <td>2261.558904</td>\n",
              "      <td>0.086200</td>\n",
              "    </tr>\n",
              "    <tr>\n",
              "      <th>270</th>\n",
              "      <td>282.568</td>\n",
              "      <td>1.730</td>\n",
              "      <td>0.000</td>\n",
              "      <td>1.820</td>\n",
              "      <td>72.736</td>\n",
              "      <td>21.000</td>\n",
              "      <td>29.053</td>\n",
              "      <td>7.297</td>\n",
              "      <td>2020</td>\n",
              "      <td>6</td>\n",
              "      <td>2113.199008</td>\n",
              "      <td>0.086667</td>\n",
              "    </tr>\n",
              "    <tr>\n",
              "      <th>271</th>\n",
              "      <td>137.027</td>\n",
              "      <td>2.257</td>\n",
              "      <td>0.088</td>\n",
              "      <td>2.043</td>\n",
              "      <td>70.473</td>\n",
              "      <td>19.625</td>\n",
              "      <td>26.000</td>\n",
              "      <td>15.541</td>\n",
              "      <td>2020</td>\n",
              "      <td>6</td>\n",
              "      <td>1832.298000</td>\n",
              "      <td>0.104102</td>\n",
              "    </tr>\n",
              "    <tr>\n",
              "      <th>272</th>\n",
              "      <td>120.797</td>\n",
              "      <td>3.622</td>\n",
              "      <td>0.432</td>\n",
              "      <td>5.574</td>\n",
              "      <td>77.061</td>\n",
              "      <td>19.125</td>\n",
              "      <td>26.053</td>\n",
              "      <td>41.284</td>\n",
              "      <td>2020</td>\n",
              "      <td>6</td>\n",
              "      <td>2007.670233</td>\n",
              "      <td>0.291451</td>\n",
              "    </tr>\n",
              "  </tbody>\n",
              "</table>\n",
              "<p>273 rows × 12 columns</p>\n",
              "</div>\n",
              "      <button class=\"colab-df-convert\" onclick=\"convertToInteractive('df-13939607-b332-4e36-a1d3-e0378b90ffdb')\"\n",
              "              title=\"Convert this dataframe to an interactive table.\"\n",
              "              style=\"display:none;\">\n",
              "        \n",
              "  <svg xmlns=\"http://www.w3.org/2000/svg\" height=\"24px\"viewBox=\"0 0 24 24\"\n",
              "       width=\"24px\">\n",
              "    <path d=\"M0 0h24v24H0V0z\" fill=\"none\"/>\n",
              "    <path d=\"M18.56 5.44l.94 2.06.94-2.06 2.06-.94-2.06-.94-.94-2.06-.94 2.06-2.06.94zm-11 1L8.5 8.5l.94-2.06 2.06-.94-2.06-.94L8.5 2.5l-.94 2.06-2.06.94zm10 10l.94 2.06.94-2.06 2.06-.94-2.06-.94-.94-2.06-.94 2.06-2.06.94z\"/><path d=\"M17.41 7.96l-1.37-1.37c-.4-.4-.92-.59-1.43-.59-.52 0-1.04.2-1.43.59L10.3 9.45l-7.72 7.72c-.78.78-.78 2.05 0 2.83L4 21.41c.39.39.9.59 1.41.59.51 0 1.02-.2 1.41-.59l7.78-7.78 2.81-2.81c.8-.78.8-2.07 0-2.86zM5.41 20L4 18.59l7.72-7.72 1.47 1.35L5.41 20z\"/>\n",
              "  </svg>\n",
              "      </button>\n",
              "      \n",
              "  <style>\n",
              "    .colab-df-container {\n",
              "      display:flex;\n",
              "      flex-wrap:wrap;\n",
              "      gap: 12px;\n",
              "    }\n",
              "\n",
              "    .colab-df-convert {\n",
              "      background-color: #E8F0FE;\n",
              "      border: none;\n",
              "      border-radius: 50%;\n",
              "      cursor: pointer;\n",
              "      display: none;\n",
              "      fill: #1967D2;\n",
              "      height: 32px;\n",
              "      padding: 0 0 0 0;\n",
              "      width: 32px;\n",
              "    }\n",
              "\n",
              "    .colab-df-convert:hover {\n",
              "      background-color: #E2EBFA;\n",
              "      box-shadow: 0px 1px 2px rgba(60, 64, 67, 0.3), 0px 1px 3px 1px rgba(60, 64, 67, 0.15);\n",
              "      fill: #174EA6;\n",
              "    }\n",
              "\n",
              "    [theme=dark] .colab-df-convert {\n",
              "      background-color: #3B4455;\n",
              "      fill: #D2E3FC;\n",
              "    }\n",
              "\n",
              "    [theme=dark] .colab-df-convert:hover {\n",
              "      background-color: #434B5C;\n",
              "      box-shadow: 0px 1px 3px 1px rgba(0, 0, 0, 0.15);\n",
              "      filter: drop-shadow(0px 1px 2px rgba(0, 0, 0, 0.3));\n",
              "      fill: #FFFFFF;\n",
              "    }\n",
              "  </style>\n",
              "\n",
              "      <script>\n",
              "        const buttonEl =\n",
              "          document.querySelector('#df-13939607-b332-4e36-a1d3-e0378b90ffdb button.colab-df-convert');\n",
              "        buttonEl.style.display =\n",
              "          google.colab.kernel.accessAllowed ? 'block' : 'none';\n",
              "\n",
              "        async function convertToInteractive(key) {\n",
              "          const element = document.querySelector('#df-13939607-b332-4e36-a1d3-e0378b90ffdb');\n",
              "          const dataTable =\n",
              "            await google.colab.kernel.invokeFunction('convertToInteractive',\n",
              "                                                     [key], {});\n",
              "          if (!dataTable) return;\n",
              "\n",
              "          const docLinkHtml = 'Like what you see? Visit the ' +\n",
              "            '<a target=\"_blank\" href=https://colab.research.google.com/notebooks/data_table.ipynb>data table notebook</a>'\n",
              "            + ' to learn more about interactive tables.';\n",
              "          element.innerHTML = '';\n",
              "          dataTable['output_type'] = 'display_data';\n",
              "          await google.colab.output.renderOutput(dataTable, element);\n",
              "          const docLink = document.createElement('div');\n",
              "          docLink.innerHTML = docLinkHtml;\n",
              "          element.appendChild(docLink);\n",
              "        }\n",
              "      </script>\n",
              "    </div>\n",
              "  </div>\n",
              "  "
            ]
          },
          "metadata": {},
          "execution_count": 71
        }
      ]
    },
    {
      "cell_type": "code",
      "source": [
        "test"
      ],
      "metadata": {
        "colab": {
          "base_uri": "https://localhost:8080/",
          "height": 488
        },
        "id": "s4lpDHxuPm_Y",
        "outputId": "36d318c3-cc8b-4638-d67f-13e2ba155fdd"
      },
      "execution_count": 72,
      "outputs": [
        {
          "output_type": "execute_result",
          "data": {
            "text/plain": [
              "    wind_direction  sky_condition  precipitation_form  wind_speed  humidity  \\\n",
              "0          108.833          3.000               0.000       2.900    28.333   \n",
              "1          116.717          3.850               0.000       2.662    46.417   \n",
              "2           82.669          4.000               0.565       2.165    77.258   \n",
              "3           44.123          3.466               0.466       3.747    63.288   \n",
              "4          147.791          1.500               0.000       1.560    48.176   \n",
              "..             ...            ...                 ...         ...       ...   \n",
              "86         177.149          3.980               0.223       1.066    74.628   \n",
              "87         138.723          2.777               0.135       1.290    70.236   \n",
              "88         111.095          3.338               1.270       1.692    70.338   \n",
              "89         171.622          3.270               0.595       1.470    70.473   \n",
              "90         181.709          3.270               0.703       1.180    75.203   \n",
              "\n",
              "    low_temp  high_temp  Precipitation_Probability  year  month    hot_score  \\\n",
              "0     11.800     20.667                     18.333  2021      4   585.558111   \n",
              "1     12.000     19.000                     28.500  2021      4   881.923000   \n",
              "2      8.875     16.368                     52.847  2021      4  1264.558944   \n",
              "3      6.250     17.368                     37.671  2021      4  1099.185984   \n",
              "4      7.188     18.684                      4.459  2021      4   900.120384   \n",
              "..       ...        ...                        ...   ...    ...          ...   \n",
              "86    20.312     28.579                     36.486  2021      6  2132.793612   \n",
              "87    20.812     29.000                     18.378  2021      6  2036.844000   \n",
              "88    21.000     28.789                     35.946  2021      6  2024.960682   \n",
              "89    21.000     29.421                     27.770  2021      6  2073.386133   \n",
              "90    21.500     30.211                     29.054  2021      6  2271.957833   \n",
              "\n",
              "    cold_score  \n",
              "0     0.245763  \n",
              "1     0.221833  \n",
              "2     0.243944  \n",
              "3     0.599520  \n",
              "4     0.217028  \n",
              "..         ...  \n",
              "86    0.052481  \n",
              "87    0.061983  \n",
              "88    0.080571  \n",
              "89    0.070000  \n",
              "90    0.054884  \n",
              "\n",
              "[91 rows x 12 columns]"
            ],
            "text/html": [
              "\n",
              "  <div id=\"df-7c79761c-0492-4ece-bc0b-8992fb99857b\">\n",
              "    <div class=\"colab-df-container\">\n",
              "      <div>\n",
              "<style scoped>\n",
              "    .dataframe tbody tr th:only-of-type {\n",
              "        vertical-align: middle;\n",
              "    }\n",
              "\n",
              "    .dataframe tbody tr th {\n",
              "        vertical-align: top;\n",
              "    }\n",
              "\n",
              "    .dataframe thead th {\n",
              "        text-align: right;\n",
              "    }\n",
              "</style>\n",
              "<table border=\"1\" class=\"dataframe\">\n",
              "  <thead>\n",
              "    <tr style=\"text-align: right;\">\n",
              "      <th></th>\n",
              "      <th>wind_direction</th>\n",
              "      <th>sky_condition</th>\n",
              "      <th>precipitation_form</th>\n",
              "      <th>wind_speed</th>\n",
              "      <th>humidity</th>\n",
              "      <th>low_temp</th>\n",
              "      <th>high_temp</th>\n",
              "      <th>Precipitation_Probability</th>\n",
              "      <th>year</th>\n",
              "      <th>month</th>\n",
              "      <th>hot_score</th>\n",
              "      <th>cold_score</th>\n",
              "    </tr>\n",
              "  </thead>\n",
              "  <tbody>\n",
              "    <tr>\n",
              "      <th>0</th>\n",
              "      <td>108.833</td>\n",
              "      <td>3.000</td>\n",
              "      <td>0.000</td>\n",
              "      <td>2.900</td>\n",
              "      <td>28.333</td>\n",
              "      <td>11.800</td>\n",
              "      <td>20.667</td>\n",
              "      <td>18.333</td>\n",
              "      <td>2021</td>\n",
              "      <td>4</td>\n",
              "      <td>585.558111</td>\n",
              "      <td>0.245763</td>\n",
              "    </tr>\n",
              "    <tr>\n",
              "      <th>1</th>\n",
              "      <td>116.717</td>\n",
              "      <td>3.850</td>\n",
              "      <td>0.000</td>\n",
              "      <td>2.662</td>\n",
              "      <td>46.417</td>\n",
              "      <td>12.000</td>\n",
              "      <td>19.000</td>\n",
              "      <td>28.500</td>\n",
              "      <td>2021</td>\n",
              "      <td>4</td>\n",
              "      <td>881.923000</td>\n",
              "      <td>0.221833</td>\n",
              "    </tr>\n",
              "    <tr>\n",
              "      <th>2</th>\n",
              "      <td>82.669</td>\n",
              "      <td>4.000</td>\n",
              "      <td>0.565</td>\n",
              "      <td>2.165</td>\n",
              "      <td>77.258</td>\n",
              "      <td>8.875</td>\n",
              "      <td>16.368</td>\n",
              "      <td>52.847</td>\n",
              "      <td>2021</td>\n",
              "      <td>4</td>\n",
              "      <td>1264.558944</td>\n",
              "      <td>0.243944</td>\n",
              "    </tr>\n",
              "    <tr>\n",
              "      <th>3</th>\n",
              "      <td>44.123</td>\n",
              "      <td>3.466</td>\n",
              "      <td>0.466</td>\n",
              "      <td>3.747</td>\n",
              "      <td>63.288</td>\n",
              "      <td>6.250</td>\n",
              "      <td>17.368</td>\n",
              "      <td>37.671</td>\n",
              "      <td>2021</td>\n",
              "      <td>4</td>\n",
              "      <td>1099.185984</td>\n",
              "      <td>0.599520</td>\n",
              "    </tr>\n",
              "    <tr>\n",
              "      <th>4</th>\n",
              "      <td>147.791</td>\n",
              "      <td>1.500</td>\n",
              "      <td>0.000</td>\n",
              "      <td>1.560</td>\n",
              "      <td>48.176</td>\n",
              "      <td>7.188</td>\n",
              "      <td>18.684</td>\n",
              "      <td>4.459</td>\n",
              "      <td>2021</td>\n",
              "      <td>4</td>\n",
              "      <td>900.120384</td>\n",
              "      <td>0.217028</td>\n",
              "    </tr>\n",
              "    <tr>\n",
              "      <th>...</th>\n",
              "      <td>...</td>\n",
              "      <td>...</td>\n",
              "      <td>...</td>\n",
              "      <td>...</td>\n",
              "      <td>...</td>\n",
              "      <td>...</td>\n",
              "      <td>...</td>\n",
              "      <td>...</td>\n",
              "      <td>...</td>\n",
              "      <td>...</td>\n",
              "      <td>...</td>\n",
              "      <td>...</td>\n",
              "    </tr>\n",
              "    <tr>\n",
              "      <th>86</th>\n",
              "      <td>177.149</td>\n",
              "      <td>3.980</td>\n",
              "      <td>0.223</td>\n",
              "      <td>1.066</td>\n",
              "      <td>74.628</td>\n",
              "      <td>20.312</td>\n",
              "      <td>28.579</td>\n",
              "      <td>36.486</td>\n",
              "      <td>2021</td>\n",
              "      <td>6</td>\n",
              "      <td>2132.793612</td>\n",
              "      <td>0.052481</td>\n",
              "    </tr>\n",
              "    <tr>\n",
              "      <th>87</th>\n",
              "      <td>138.723</td>\n",
              "      <td>2.777</td>\n",
              "      <td>0.135</td>\n",
              "      <td>1.290</td>\n",
              "      <td>70.236</td>\n",
              "      <td>20.812</td>\n",
              "      <td>29.000</td>\n",
              "      <td>18.378</td>\n",
              "      <td>2021</td>\n",
              "      <td>6</td>\n",
              "      <td>2036.844000</td>\n",
              "      <td>0.061983</td>\n",
              "    </tr>\n",
              "    <tr>\n",
              "      <th>88</th>\n",
              "      <td>111.095</td>\n",
              "      <td>3.338</td>\n",
              "      <td>1.270</td>\n",
              "      <td>1.692</td>\n",
              "      <td>70.338</td>\n",
              "      <td>21.000</td>\n",
              "      <td>28.789</td>\n",
              "      <td>35.946</td>\n",
              "      <td>2021</td>\n",
              "      <td>6</td>\n",
              "      <td>2024.960682</td>\n",
              "      <td>0.080571</td>\n",
              "    </tr>\n",
              "    <tr>\n",
              "      <th>89</th>\n",
              "      <td>171.622</td>\n",
              "      <td>3.270</td>\n",
              "      <td>0.595</td>\n",
              "      <td>1.470</td>\n",
              "      <td>70.473</td>\n",
              "      <td>21.000</td>\n",
              "      <td>29.421</td>\n",
              "      <td>27.770</td>\n",
              "      <td>2021</td>\n",
              "      <td>6</td>\n",
              "      <td>2073.386133</td>\n",
              "      <td>0.070000</td>\n",
              "    </tr>\n",
              "    <tr>\n",
              "      <th>90</th>\n",
              "      <td>181.709</td>\n",
              "      <td>3.270</td>\n",
              "      <td>0.703</td>\n",
              "      <td>1.180</td>\n",
              "      <td>75.203</td>\n",
              "      <td>21.500</td>\n",
              "      <td>30.211</td>\n",
              "      <td>29.054</td>\n",
              "      <td>2021</td>\n",
              "      <td>6</td>\n",
              "      <td>2271.957833</td>\n",
              "      <td>0.054884</td>\n",
              "    </tr>\n",
              "  </tbody>\n",
              "</table>\n",
              "<p>91 rows × 12 columns</p>\n",
              "</div>\n",
              "      <button class=\"colab-df-convert\" onclick=\"convertToInteractive('df-7c79761c-0492-4ece-bc0b-8992fb99857b')\"\n",
              "              title=\"Convert this dataframe to an interactive table.\"\n",
              "              style=\"display:none;\">\n",
              "        \n",
              "  <svg xmlns=\"http://www.w3.org/2000/svg\" height=\"24px\"viewBox=\"0 0 24 24\"\n",
              "       width=\"24px\">\n",
              "    <path d=\"M0 0h24v24H0V0z\" fill=\"none\"/>\n",
              "    <path d=\"M18.56 5.44l.94 2.06.94-2.06 2.06-.94-2.06-.94-.94-2.06-.94 2.06-2.06.94zm-11 1L8.5 8.5l.94-2.06 2.06-.94-2.06-.94L8.5 2.5l-.94 2.06-2.06.94zm10 10l.94 2.06.94-2.06 2.06-.94-2.06-.94-.94-2.06-.94 2.06-2.06.94z\"/><path d=\"M17.41 7.96l-1.37-1.37c-.4-.4-.92-.59-1.43-.59-.52 0-1.04.2-1.43.59L10.3 9.45l-7.72 7.72c-.78.78-.78 2.05 0 2.83L4 21.41c.39.39.9.59 1.41.59.51 0 1.02-.2 1.41-.59l7.78-7.78 2.81-2.81c.8-.78.8-2.07 0-2.86zM5.41 20L4 18.59l7.72-7.72 1.47 1.35L5.41 20z\"/>\n",
              "  </svg>\n",
              "      </button>\n",
              "      \n",
              "  <style>\n",
              "    .colab-df-container {\n",
              "      display:flex;\n",
              "      flex-wrap:wrap;\n",
              "      gap: 12px;\n",
              "    }\n",
              "\n",
              "    .colab-df-convert {\n",
              "      background-color: #E8F0FE;\n",
              "      border: none;\n",
              "      border-radius: 50%;\n",
              "      cursor: pointer;\n",
              "      display: none;\n",
              "      fill: #1967D2;\n",
              "      height: 32px;\n",
              "      padding: 0 0 0 0;\n",
              "      width: 32px;\n",
              "    }\n",
              "\n",
              "    .colab-df-convert:hover {\n",
              "      background-color: #E2EBFA;\n",
              "      box-shadow: 0px 1px 2px rgba(60, 64, 67, 0.3), 0px 1px 3px 1px rgba(60, 64, 67, 0.15);\n",
              "      fill: #174EA6;\n",
              "    }\n",
              "\n",
              "    [theme=dark] .colab-df-convert {\n",
              "      background-color: #3B4455;\n",
              "      fill: #D2E3FC;\n",
              "    }\n",
              "\n",
              "    [theme=dark] .colab-df-convert:hover {\n",
              "      background-color: #434B5C;\n",
              "      box-shadow: 0px 1px 3px 1px rgba(0, 0, 0, 0.15);\n",
              "      filter: drop-shadow(0px 1px 2px rgba(0, 0, 0, 0.3));\n",
              "      fill: #FFFFFF;\n",
              "    }\n",
              "  </style>\n",
              "\n",
              "      <script>\n",
              "        const buttonEl =\n",
              "          document.querySelector('#df-7c79761c-0492-4ece-bc0b-8992fb99857b button.colab-df-convert');\n",
              "        buttonEl.style.display =\n",
              "          google.colab.kernel.accessAllowed ? 'block' : 'none';\n",
              "\n",
              "        async function convertToInteractive(key) {\n",
              "          const element = document.querySelector('#df-7c79761c-0492-4ece-bc0b-8992fb99857b');\n",
              "          const dataTable =\n",
              "            await google.colab.kernel.invokeFunction('convertToInteractive',\n",
              "                                                     [key], {});\n",
              "          if (!dataTable) return;\n",
              "\n",
              "          const docLinkHtml = 'Like what you see? Visit the ' +\n",
              "            '<a target=\"_blank\" href=https://colab.research.google.com/notebooks/data_table.ipynb>data table notebook</a>'\n",
              "            + ' to learn more about interactive tables.';\n",
              "          element.innerHTML = '';\n",
              "          dataTable['output_type'] = 'display_data';\n",
              "          await google.colab.output.renderOutput(dataTable, element);\n",
              "          const docLink = document.createElement('div');\n",
              "          docLink.innerHTML = docLinkHtml;\n",
              "          element.appendChild(docLink);\n",
              "        }\n",
              "      </script>\n",
              "    </div>\n",
              "  </div>\n",
              "  "
            ]
          },
          "metadata": {},
          "execution_count": 72
        }
      ]
    },
    {
      "cell_type": "markdown",
      "source": [
        "### 5.3.2. test셋 예측"
      ],
      "metadata": {
        "id": "EgHs5ew7Pr-W"
      }
    },
    {
      "cell_type": "markdown",
      "source": [
        "## Feature Engineering : Year Inflaction : 2020 -> 2021"
      ],
      "metadata": {
        "id": "DT9F1GOfRyle"
      }
    },
    {
      "cell_type": "code",
      "source": [
        "x1 = sum(train[train['year']==2018]['number_of_rentals'])\n",
        "\n",
        "x2 = sum(train[train['year']==2019]['number_of_rentals'])\n",
        "\n",
        "x3 = sum(train[train['year']==2020]['number_of_rentals'])\n",
        "\n",
        "x4 = sum(submission['number_of_rentals']) ## 2021"
      ],
      "metadata": {
        "id": "jA4jDUh3P8Y5"
      },
      "execution_count": 73,
      "outputs": []
    },
    {
      "cell_type": "code",
      "source": [
        "x1"
      ],
      "metadata": {
        "colab": {
          "base_uri": "https://localhost:8080/"
        },
        "id": "ab9y-4_rTZaz",
        "outputId": "2ce9e529-d1b8-4d00-d8f4-7877684be2f9"
      },
      "execution_count": 74,
      "outputs": [
        {
          "output_type": "execute_result",
          "data": {
            "text/plain": [
              "2860617"
            ]
          },
          "metadata": {},
          "execution_count": 74
        }
      ]
    },
    {
      "cell_type": "code",
      "source": [
        "x4"
      ],
      "metadata": {
        "colab": {
          "base_uri": "https://localhost:8080/"
        },
        "id": "_JkgJNsySJlF",
        "outputId": "1dba8b73-924c-44e0-88c2-d8815fe760b8"
      },
      "execution_count": 75,
      "outputs": [
        {
          "output_type": "execute_result",
          "data": {
            "text/plain": [
              "0"
            ]
          },
          "metadata": {},
          "execution_count": 75
        }
      ]
    },
    {
      "cell_type": "code",
      "source": [
        "print(x4/x1)\n",
        "print(x4/x2)\n",
        "print(x4/x3)"
      ],
      "metadata": {
        "colab": {
          "base_uri": "https://localhost:8080/"
        },
        "id": "1Aix6kKuSKe4",
        "outputId": "34d8b6d8-d8c6-4cc1-d1c6-42a0aa33e50a"
      },
      "execution_count": 76,
      "outputs": [
        {
          "output_type": "stream",
          "name": "stdout",
          "text": [
            "0.0\n",
            "0.0\n",
            "0.0\n"
          ]
        }
      ]
    },
    {
      "cell_type": "code",
      "source": [
        "# lr\n",
        "def rental_rate_change(df):\n",
        "    y1 = df[df['year'] == 2018]['number_of_rentals'] * 3.3859145348144577\n",
        "    y2 = df[df['year'] == 2019]['number_of_rentals'] * 1.6157080615278123\n",
        "    y3 = df[df['year'] == 2020]['number_of_rentals'] * 1.3073770268514862\n",
        "    new = pd.concat([y1, y2, y3], axis=0).to_frame()\n",
        "    df['inflaction_rentals'] = new['number_of_rentals']\n",
        "    return True\n",
        "\n",
        "# # concat 문자열 합치기"
      ],
      "metadata": {
        "id": "S66Z-szrSRxF"
      },
      "execution_count": 77,
      "outputs": []
    },
    {
      "cell_type": "code",
      "source": [
        "rental_rate_change(train)"
      ],
      "metadata": {
        "colab": {
          "base_uri": "https://localhost:8080/"
        },
        "id": "RS3NohBhShpF",
        "outputId": "cf1711a7-f8af-44dc-9715-6f83f1101410"
      },
      "execution_count": 78,
      "outputs": [
        {
          "output_type": "execute_result",
          "data": {
            "text/plain": [
              "True"
            ]
          },
          "metadata": {},
          "execution_count": 78
        }
      ]
    },
    {
      "cell_type": "code",
      "source": [
        "train.head()"
      ],
      "metadata": {
        "colab": {
          "base_uri": "https://localhost:8080/",
          "height": 270
        },
        "id": "EQqcTy1PSkLM",
        "outputId": "dfbe6b28-4948-45b4-e9d4-c1342b2411ee"
      },
      "execution_count": 79,
      "outputs": [
        {
          "output_type": "execute_result",
          "data": {
            "text/plain": [
              "   wind_direction  sky_condition  precipitation_form  wind_speed  humidity  \\\n",
              "0         207.500          4.000               0.000       3.050    75.000   \n",
              "1         208.317          2.950               0.000       3.278    69.833   \n",
              "2         213.516          2.911               0.000       2.690    74.879   \n",
              "3         143.836          3.692               0.425       3.138    71.849   \n",
              "4          95.905          4.000               0.723       3.186    73.784   \n",
              "\n",
              "   low_temp  high_temp  Precipitation_Probability  number_of_rentals  year  \\\n",
              "0    12.600     21.000                     30.000              22994  2018   \n",
              "1    12.812     19.000                     19.500              28139  2018   \n",
              "2    10.312     15.316                     19.113              26817  2018   \n",
              "3     8.312     12.368                     43.493              26034  2018   \n",
              "4     5.875     10.421                     63.378               2833  2018   \n",
              "\n",
              "   month    hot_score  cold_score  inflaction_rentals  \n",
              "0      4  1575.000000    0.242063        77855.718814  \n",
              "1      4  1326.827000    0.255854        95276.249095  \n",
              "2      4  1146.846764    0.260861        90800.070080  \n",
              "3      4   888.628432    0.377526        88148.898999  \n",
              "4      4   768.903064    0.542298         9592.295877  "
            ],
            "text/html": [
              "\n",
              "  <div id=\"df-b4c80f81-57e2-4f26-9ad7-514f17744a56\">\n",
              "    <div class=\"colab-df-container\">\n",
              "      <div>\n",
              "<style scoped>\n",
              "    .dataframe tbody tr th:only-of-type {\n",
              "        vertical-align: middle;\n",
              "    }\n",
              "\n",
              "    .dataframe tbody tr th {\n",
              "        vertical-align: top;\n",
              "    }\n",
              "\n",
              "    .dataframe thead th {\n",
              "        text-align: right;\n",
              "    }\n",
              "</style>\n",
              "<table border=\"1\" class=\"dataframe\">\n",
              "  <thead>\n",
              "    <tr style=\"text-align: right;\">\n",
              "      <th></th>\n",
              "      <th>wind_direction</th>\n",
              "      <th>sky_condition</th>\n",
              "      <th>precipitation_form</th>\n",
              "      <th>wind_speed</th>\n",
              "      <th>humidity</th>\n",
              "      <th>low_temp</th>\n",
              "      <th>high_temp</th>\n",
              "      <th>Precipitation_Probability</th>\n",
              "      <th>number_of_rentals</th>\n",
              "      <th>year</th>\n",
              "      <th>month</th>\n",
              "      <th>hot_score</th>\n",
              "      <th>cold_score</th>\n",
              "      <th>inflaction_rentals</th>\n",
              "    </tr>\n",
              "  </thead>\n",
              "  <tbody>\n",
              "    <tr>\n",
              "      <th>0</th>\n",
              "      <td>207.500</td>\n",
              "      <td>4.000</td>\n",
              "      <td>0.000</td>\n",
              "      <td>3.050</td>\n",
              "      <td>75.000</td>\n",
              "      <td>12.600</td>\n",
              "      <td>21.000</td>\n",
              "      <td>30.000</td>\n",
              "      <td>22994</td>\n",
              "      <td>2018</td>\n",
              "      <td>4</td>\n",
              "      <td>1575.000000</td>\n",
              "      <td>0.242063</td>\n",
              "      <td>77855.718814</td>\n",
              "    </tr>\n",
              "    <tr>\n",
              "      <th>1</th>\n",
              "      <td>208.317</td>\n",
              "      <td>2.950</td>\n",
              "      <td>0.000</td>\n",
              "      <td>3.278</td>\n",
              "      <td>69.833</td>\n",
              "      <td>12.812</td>\n",
              "      <td>19.000</td>\n",
              "      <td>19.500</td>\n",
              "      <td>28139</td>\n",
              "      <td>2018</td>\n",
              "      <td>4</td>\n",
              "      <td>1326.827000</td>\n",
              "      <td>0.255854</td>\n",
              "      <td>95276.249095</td>\n",
              "    </tr>\n",
              "    <tr>\n",
              "      <th>2</th>\n",
              "      <td>213.516</td>\n",
              "      <td>2.911</td>\n",
              "      <td>0.000</td>\n",
              "      <td>2.690</td>\n",
              "      <td>74.879</td>\n",
              "      <td>10.312</td>\n",
              "      <td>15.316</td>\n",
              "      <td>19.113</td>\n",
              "      <td>26817</td>\n",
              "      <td>2018</td>\n",
              "      <td>4</td>\n",
              "      <td>1146.846764</td>\n",
              "      <td>0.260861</td>\n",
              "      <td>90800.070080</td>\n",
              "    </tr>\n",
              "    <tr>\n",
              "      <th>3</th>\n",
              "      <td>143.836</td>\n",
              "      <td>3.692</td>\n",
              "      <td>0.425</td>\n",
              "      <td>3.138</td>\n",
              "      <td>71.849</td>\n",
              "      <td>8.312</td>\n",
              "      <td>12.368</td>\n",
              "      <td>43.493</td>\n",
              "      <td>26034</td>\n",
              "      <td>2018</td>\n",
              "      <td>4</td>\n",
              "      <td>888.628432</td>\n",
              "      <td>0.377526</td>\n",
              "      <td>88148.898999</td>\n",
              "    </tr>\n",
              "    <tr>\n",
              "      <th>4</th>\n",
              "      <td>95.905</td>\n",
              "      <td>4.000</td>\n",
              "      <td>0.723</td>\n",
              "      <td>3.186</td>\n",
              "      <td>73.784</td>\n",
              "      <td>5.875</td>\n",
              "      <td>10.421</td>\n",
              "      <td>63.378</td>\n",
              "      <td>2833</td>\n",
              "      <td>2018</td>\n",
              "      <td>4</td>\n",
              "      <td>768.903064</td>\n",
              "      <td>0.542298</td>\n",
              "      <td>9592.295877</td>\n",
              "    </tr>\n",
              "  </tbody>\n",
              "</table>\n",
              "</div>\n",
              "      <button class=\"colab-df-convert\" onclick=\"convertToInteractive('df-b4c80f81-57e2-4f26-9ad7-514f17744a56')\"\n",
              "              title=\"Convert this dataframe to an interactive table.\"\n",
              "              style=\"display:none;\">\n",
              "        \n",
              "  <svg xmlns=\"http://www.w3.org/2000/svg\" height=\"24px\"viewBox=\"0 0 24 24\"\n",
              "       width=\"24px\">\n",
              "    <path d=\"M0 0h24v24H0V0z\" fill=\"none\"/>\n",
              "    <path d=\"M18.56 5.44l.94 2.06.94-2.06 2.06-.94-2.06-.94-.94-2.06-.94 2.06-2.06.94zm-11 1L8.5 8.5l.94-2.06 2.06-.94-2.06-.94L8.5 2.5l-.94 2.06-2.06.94zm10 10l.94 2.06.94-2.06 2.06-.94-2.06-.94-.94-2.06-.94 2.06-2.06.94z\"/><path d=\"M17.41 7.96l-1.37-1.37c-.4-.4-.92-.59-1.43-.59-.52 0-1.04.2-1.43.59L10.3 9.45l-7.72 7.72c-.78.78-.78 2.05 0 2.83L4 21.41c.39.39.9.59 1.41.59.51 0 1.02-.2 1.41-.59l7.78-7.78 2.81-2.81c.8-.78.8-2.07 0-2.86zM5.41 20L4 18.59l7.72-7.72 1.47 1.35L5.41 20z\"/>\n",
              "  </svg>\n",
              "      </button>\n",
              "      \n",
              "  <style>\n",
              "    .colab-df-container {\n",
              "      display:flex;\n",
              "      flex-wrap:wrap;\n",
              "      gap: 12px;\n",
              "    }\n",
              "\n",
              "    .colab-df-convert {\n",
              "      background-color: #E8F0FE;\n",
              "      border: none;\n",
              "      border-radius: 50%;\n",
              "      cursor: pointer;\n",
              "      display: none;\n",
              "      fill: #1967D2;\n",
              "      height: 32px;\n",
              "      padding: 0 0 0 0;\n",
              "      width: 32px;\n",
              "    }\n",
              "\n",
              "    .colab-df-convert:hover {\n",
              "      background-color: #E2EBFA;\n",
              "      box-shadow: 0px 1px 2px rgba(60, 64, 67, 0.3), 0px 1px 3px 1px rgba(60, 64, 67, 0.15);\n",
              "      fill: #174EA6;\n",
              "    }\n",
              "\n",
              "    [theme=dark] .colab-df-convert {\n",
              "      background-color: #3B4455;\n",
              "      fill: #D2E3FC;\n",
              "    }\n",
              "\n",
              "    [theme=dark] .colab-df-convert:hover {\n",
              "      background-color: #434B5C;\n",
              "      box-shadow: 0px 1px 3px 1px rgba(0, 0, 0, 0.15);\n",
              "      filter: drop-shadow(0px 1px 2px rgba(0, 0, 0, 0.3));\n",
              "      fill: #FFFFFF;\n",
              "    }\n",
              "  </style>\n",
              "\n",
              "      <script>\n",
              "        const buttonEl =\n",
              "          document.querySelector('#df-b4c80f81-57e2-4f26-9ad7-514f17744a56 button.colab-df-convert');\n",
              "        buttonEl.style.display =\n",
              "          google.colab.kernel.accessAllowed ? 'block' : 'none';\n",
              "\n",
              "        async function convertToInteractive(key) {\n",
              "          const element = document.querySelector('#df-b4c80f81-57e2-4f26-9ad7-514f17744a56');\n",
              "          const dataTable =\n",
              "            await google.colab.kernel.invokeFunction('convertToInteractive',\n",
              "                                                     [key], {});\n",
              "          if (!dataTable) return;\n",
              "\n",
              "          const docLinkHtml = 'Like what you see? Visit the ' +\n",
              "            '<a target=\"_blank\" href=https://colab.research.google.com/notebooks/data_table.ipynb>data table notebook</a>'\n",
              "            + ' to learn more about interactive tables.';\n",
              "          element.innerHTML = '';\n",
              "          dataTable['output_type'] = 'display_data';\n",
              "          await google.colab.output.renderOutput(dataTable, element);\n",
              "          const docLink = document.createElement('div');\n",
              "          docLink.innerHTML = docLinkHtml;\n",
              "          element.appendChild(docLink);\n",
              "        }\n",
              "      </script>\n",
              "    </div>\n",
              "  </div>\n",
              "  "
            ]
          },
          "metadata": {},
          "execution_count": 79
        }
      ]
    },
    {
      "cell_type": "code",
      "source": [
        "X = train.drop(['number_of_rentals', 'inflaction_rentals'], axis=1 )\n",
        "y = train['inflaction_rentals']"
      ],
      "metadata": {
        "id": "DuCeZ2TOSlcb"
      },
      "execution_count": 80,
      "outputs": []
    },
    {
      "cell_type": "code",
      "source": [
        "model = RandomForestRegressor(max_depth=15,max_features=2, min_samples_leaf= 16, min_samples_split= 15, n_estimators= 190)# RandomForestRegressor() 이 방법이 더 좋다."
      ],
      "metadata": {
        "id": "DO3S786RSzne"
      },
      "execution_count": 81,
      "outputs": []
    },
    {
      "cell_type": "code",
      "source": [
        "model.fit(X,y)"
      ],
      "metadata": {
        "colab": {
          "base_uri": "https://localhost:8080/"
        },
        "id": "SJK9V_r0S4w4",
        "outputId": "099a7d7f-c6fb-42cd-e1fa-f623d5bd8656"
      },
      "execution_count": 82,
      "outputs": [
        {
          "output_type": "execute_result",
          "data": {
            "text/plain": [
              "RandomForestRegressor(max_depth=15, max_features=2, min_samples_leaf=16,\n",
              "                      min_samples_split=15, n_estimators=190)"
            ]
          },
          "metadata": {},
          "execution_count": 82
        }
      ]
    },
    {
      "cell_type": "code",
      "source": [
        "predict = model.predict(test)"
      ],
      "metadata": {
        "id": "0xdNVGtAS6ZH"
      },
      "execution_count": 83,
      "outputs": []
    },
    {
      "cell_type": "code",
      "source": [
        "submission['number_of_rentals'] = predict\n",
        "submission.head()"
      ],
      "metadata": {
        "colab": {
          "base_uri": "https://localhost:8080/",
          "height": 206
        },
        "id": "fLf8BeKFS_E2",
        "outputId": "5f5f52e9-33e3-46f6-c497-1fcdc93b0668"
      },
      "execution_count": 84,
      "outputs": [
        {
          "output_type": "execute_result",
          "data": {
            "text/plain": [
              "    date_time  number_of_rentals\n",
              "0  2021-04-01       91722.522583\n",
              "1  2021-04-02       88651.023192\n",
              "2  2021-04-03       62927.042547\n",
              "3  2021-04-04       63769.892680\n",
              "4  2021-04-05       95699.410457"
            ],
            "text/html": [
              "\n",
              "  <div id=\"df-2af850eb-ca8b-4fc9-a28b-ea1a43610dec\">\n",
              "    <div class=\"colab-df-container\">\n",
              "      <div>\n",
              "<style scoped>\n",
              "    .dataframe tbody tr th:only-of-type {\n",
              "        vertical-align: middle;\n",
              "    }\n",
              "\n",
              "    .dataframe tbody tr th {\n",
              "        vertical-align: top;\n",
              "    }\n",
              "\n",
              "    .dataframe thead th {\n",
              "        text-align: right;\n",
              "    }\n",
              "</style>\n",
              "<table border=\"1\" class=\"dataframe\">\n",
              "  <thead>\n",
              "    <tr style=\"text-align: right;\">\n",
              "      <th></th>\n",
              "      <th>date_time</th>\n",
              "      <th>number_of_rentals</th>\n",
              "    </tr>\n",
              "  </thead>\n",
              "  <tbody>\n",
              "    <tr>\n",
              "      <th>0</th>\n",
              "      <td>2021-04-01</td>\n",
              "      <td>91722.522583</td>\n",
              "    </tr>\n",
              "    <tr>\n",
              "      <th>1</th>\n",
              "      <td>2021-04-02</td>\n",
              "      <td>88651.023192</td>\n",
              "    </tr>\n",
              "    <tr>\n",
              "      <th>2</th>\n",
              "      <td>2021-04-03</td>\n",
              "      <td>62927.042547</td>\n",
              "    </tr>\n",
              "    <tr>\n",
              "      <th>3</th>\n",
              "      <td>2021-04-04</td>\n",
              "      <td>63769.892680</td>\n",
              "    </tr>\n",
              "    <tr>\n",
              "      <th>4</th>\n",
              "      <td>2021-04-05</td>\n",
              "      <td>95699.410457</td>\n",
              "    </tr>\n",
              "  </tbody>\n",
              "</table>\n",
              "</div>\n",
              "      <button class=\"colab-df-convert\" onclick=\"convertToInteractive('df-2af850eb-ca8b-4fc9-a28b-ea1a43610dec')\"\n",
              "              title=\"Convert this dataframe to an interactive table.\"\n",
              "              style=\"display:none;\">\n",
              "        \n",
              "  <svg xmlns=\"http://www.w3.org/2000/svg\" height=\"24px\"viewBox=\"0 0 24 24\"\n",
              "       width=\"24px\">\n",
              "    <path d=\"M0 0h24v24H0V0z\" fill=\"none\"/>\n",
              "    <path d=\"M18.56 5.44l.94 2.06.94-2.06 2.06-.94-2.06-.94-.94-2.06-.94 2.06-2.06.94zm-11 1L8.5 8.5l.94-2.06 2.06-.94-2.06-.94L8.5 2.5l-.94 2.06-2.06.94zm10 10l.94 2.06.94-2.06 2.06-.94-2.06-.94-.94-2.06-.94 2.06-2.06.94z\"/><path d=\"M17.41 7.96l-1.37-1.37c-.4-.4-.92-.59-1.43-.59-.52 0-1.04.2-1.43.59L10.3 9.45l-7.72 7.72c-.78.78-.78 2.05 0 2.83L4 21.41c.39.39.9.59 1.41.59.51 0 1.02-.2 1.41-.59l7.78-7.78 2.81-2.81c.8-.78.8-2.07 0-2.86zM5.41 20L4 18.59l7.72-7.72 1.47 1.35L5.41 20z\"/>\n",
              "  </svg>\n",
              "      </button>\n",
              "      \n",
              "  <style>\n",
              "    .colab-df-container {\n",
              "      display:flex;\n",
              "      flex-wrap:wrap;\n",
              "      gap: 12px;\n",
              "    }\n",
              "\n",
              "    .colab-df-convert {\n",
              "      background-color: #E8F0FE;\n",
              "      border: none;\n",
              "      border-radius: 50%;\n",
              "      cursor: pointer;\n",
              "      display: none;\n",
              "      fill: #1967D2;\n",
              "      height: 32px;\n",
              "      padding: 0 0 0 0;\n",
              "      width: 32px;\n",
              "    }\n",
              "\n",
              "    .colab-df-convert:hover {\n",
              "      background-color: #E2EBFA;\n",
              "      box-shadow: 0px 1px 2px rgba(60, 64, 67, 0.3), 0px 1px 3px 1px rgba(60, 64, 67, 0.15);\n",
              "      fill: #174EA6;\n",
              "    }\n",
              "\n",
              "    [theme=dark] .colab-df-convert {\n",
              "      background-color: #3B4455;\n",
              "      fill: #D2E3FC;\n",
              "    }\n",
              "\n",
              "    [theme=dark] .colab-df-convert:hover {\n",
              "      background-color: #434B5C;\n",
              "      box-shadow: 0px 1px 3px 1px rgba(0, 0, 0, 0.15);\n",
              "      filter: drop-shadow(0px 1px 2px rgba(0, 0, 0, 0.3));\n",
              "      fill: #FFFFFF;\n",
              "    }\n",
              "  </style>\n",
              "\n",
              "      <script>\n",
              "        const buttonEl =\n",
              "          document.querySelector('#df-2af850eb-ca8b-4fc9-a28b-ea1a43610dec button.colab-df-convert');\n",
              "        buttonEl.style.display =\n",
              "          google.colab.kernel.accessAllowed ? 'block' : 'none';\n",
              "\n",
              "        async function convertToInteractive(key) {\n",
              "          const element = document.querySelector('#df-2af850eb-ca8b-4fc9-a28b-ea1a43610dec');\n",
              "          const dataTable =\n",
              "            await google.colab.kernel.invokeFunction('convertToInteractive',\n",
              "                                                     [key], {});\n",
              "          if (!dataTable) return;\n",
              "\n",
              "          const docLinkHtml = 'Like what you see? Visit the ' +\n",
              "            '<a target=\"_blank\" href=https://colab.research.google.com/notebooks/data_table.ipynb>data table notebook</a>'\n",
              "            + ' to learn more about interactive tables.';\n",
              "          element.innerHTML = '';\n",
              "          dataTable['output_type'] = 'display_data';\n",
              "          await google.colab.output.renderOutput(dataTable, element);\n",
              "          const docLink = document.createElement('div');\n",
              "          docLink.innerHTML = docLinkHtml;\n",
              "          element.appendChild(docLink);\n",
              "        }\n",
              "      </script>\n",
              "    </div>\n",
              "  </div>\n",
              "  "
            ]
          },
          "metadata": {},
          "execution_count": 84
        }
      ]
    },
    {
      "cell_type": "code",
      "source": [
        "submission.to_csv('submission_4.csv', index = False)"
      ],
      "metadata": {
        "id": "i0Cn9jDwTCmN"
      },
      "execution_count": 85,
      "outputs": []
    }
  ]
}